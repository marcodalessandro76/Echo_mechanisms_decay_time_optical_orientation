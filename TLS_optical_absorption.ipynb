{
 "cells": [
  {
   "cell_type": "code",
   "execution_count": 92,
   "metadata": {},
   "outputs": [],
   "source": [
    "import numpy as np\n",
    "from mppi import Utilities as U\n",
    "from scipy.integrate import odeint\n",
    "import random as rand\n",
    "import matplotlib.pyplot as plt"
   ]
  },
  {
   "cell_type": "markdown",
   "metadata": {},
   "source": [
    "# TLS description of optical absorption"
   ]
  },
  {
   "cell_type": "markdown",
   "metadata": {},
   "source": [
    "In this notebook we present a two level system (TLS) based description of optical absorption. We analyze the\n",
    "construction of the _Bloch vector_ representation of the model and we discuss the topics needed to deal with the\n",
    "photon eco mechanisms."
   ]
  },
  {
   "cell_type": "markdown",
   "metadata": {},
   "source": [
    "The Hamiltonian of the system is represented as\n",
    "$$\n",
    "H = \\frac{1}{2}\\omega_0 \\sigma_z \\, , \n",
    "$$\n",
    "where $\\sigma_z$ is the Pauli matrix. $H$ is diagonal in the chosen representation with a energy shift \n",
    "between the two levels given by  $\\omega_0$. The eigenstates are represented as\n",
    "$$\n",
    "|1\\rangle = \\left(\\begin{array}{c}\n",
    "1\\\\\n",
    "0\\\\\n",
    "\\end{array} \\right) \\, , \\quad\n",
    "|2\\rangle = \\left(\\begin{array}{c}\n",
    "0\\\\\n",
    "1\\\\\n",
    "\\end{array} \\right) \\, .\n",
    "$$\n",
    "Note that in this notation $|2\\rangle$ describe the GS of the system, while $|1\\rangle$ is the excited state."
   ]
  },
  {
   "cell_type": "markdown",
   "metadata": {},
   "source": [
    "The interaction of the optical pump with the system is described by an Hamiltonian $H^I$ that has only non-diagonal \n",
    "non vanishing matrix elements. \n",
    "\n",
    "The equation of motion (EQM) of the density matrix (DM) are expressed by the Liouville equation\n",
    "$$\n",
    "i \\dot{\\rho} = \\left[H+H^I,\\rho\\right]\n",
    "$$\n",
    "and we can explicitly write the associated equations for the matrix elements of the DM in the chosen basis using\n",
    "the structure of both the Hamitonian defined above. We obtain:\n",
    "$$\n",
    "i \\dot{\\rho}_{11} = H^I_{12}\\rho_{21} - H^I_{21}\\rho_{12} \\\\\n",
    "i \\dot{\\rho}_{22} = H^I_{21}\\rho_{12} - H^I_{12}\\rho_{21} \\\\\n",
    "i \\dot{\\rho}_{12} = \\omega_0\\rho_{12} + H^I_{12}(\\rho_{22}-\\rho_{11}) \\\\\n",
    "i \\dot{\\rho}_{21} = -\\omega_0\\rho_{21} - H^I_{21}(\\rho_{22}-\\rho_{11})\n",
    "$$\n",
    "where $H^I_{12} = \\langle 1|H^I|2\\rangle$ and $H^I_{21} = \\langle 2|H^I|1\\rangle$, furthermore\n",
    "$H^I_{12} = H^{I*}_{21}$ since $H^I$ is hermitian. These equations imply that $\\rho_{21}$ is the complex\n",
    "conjugate of $\\rho_{12}$ and that $\\rho_{11}+\\rho_{22}$ is constant, that is the conservation of the charge."
   ]
  },
  {
   "cell_type": "markdown",
   "metadata": {},
   "source": [
    "## Interaction Hamiltonian and rotating wave approximation (RWA)"
   ]
  },
  {
   "cell_type": "markdown",
   "metadata": {},
   "source": [
    "We consider an interaction between the system and the optical pump described by a dipole interaction, that is\n",
    "$$\n",
    "H^I = - \\mathbf{\\mu}\\cdot\\mathbf{E}(t)\n",
    "$$\n",
    "where $\\mathbf{\\mu}$ is the dipole operator. We choose a linear polarized electric field (along an arbitrary chosen axis).\n",
    "The time dependece of the field is described by a monocromatic wave of energy $\\omega$ times a real slow enevelope function $E_0(t)$.\n",
    "Due to this assumption the matrix element $H^I_{12}$ can be expressed as\n",
    "$$\n",
    "H^I_{12} = - \\mu E_0(t) cos(\\omega t) \\doteq - \\Omega_r(t) cos(\\omega t)\n",
    "$$\n",
    "Here $\\mu$ is matrix element of the component of the dipole parallel to $\\mathbf{E}$ evaluated between the states 1 and 2 and\n",
    "we have introduced the (time-dependent) _Rabi frequency_ $\\Omega_r$. In this analysis we asssume that the Rabi frequency is real,\n",
    "further investigation on this point will be performed later."
   ]
  },
  {
   "cell_type": "markdown",
   "metadata": {},
   "source": [
    "We are intersted probing the system with energy of the pump not very different from the energy gap of the system, that is if we introduce \n",
    "the energy shift $\\delta$ as\n",
    "$$\n",
    "\\omega = \\omega_0 + \\delta\n",
    "$$\n",
    "the condition $\\delta \\ll \\omega_0$ is sastisfied. This fact allows us to introduce the rotating wave approximation. To understand this point\n",
    "consider that, for instance, the generic solution for $\\rho_{12}$ can be written as\n",
    "$$\n",
    "\\rho_{12} = Ae^{-i\\omega_0t} + e^{-i\\omega_0t}\\int_{t_0}^{t}dt'e^{i\\omega_0t'}\\Omega_r(t')cos(\\omega t')\n",
    "\\left(\\rho_{22}-\\rho_{11}\\right)\n",
    "$$\n",
    "Due to the presence of the factor $e^{i\\omega_0 t'}$ in the integral the cosine can be splitted into complex exponentials and only the\n",
    "addend $e^{-i\\omega t'}$ gives relevant contributions since the fast oscillating terms cancel. So the interaction matrix element in the RWA\n",
    "read\n",
    "$$\n",
    "H^I_{12} = - \\frac{1}{2} \\Omega_r(t)e^{-i\\omega t}\n",
    "$$"
   ]
  },
  {
   "cell_type": "markdown",
   "metadata": {},
   "source": [
    "Note that this argument is usually discussed and justified for __constant__ Rabi frequency, however if the envelope function $E_0(t)$ is slow we can split the previous integral into various terms in \n",
    "which the frequency is constant and apply the same argument to all the addends."
   ]
  },
  {
   "cell_type": "markdown",
   "metadata": {},
   "source": [
    "## Bloch vector representation"
   ]
  },
  {
   "cell_type": "markdown",
   "metadata": {},
   "source": [
    "The DM is an hermitian operator that satisfy the condition $Tr(\\rho)$ = 1. So it can be represented as\n",
    "$$\n",
    "\\rho = \\frac{1}{2}\\left(1+\\mathbf{u}\\cdot\\mathbf{\\sigma}\\right)\n",
    "$$\n",
    "The parameters $\\mathbf{u}$ are the Bloch vector components associated to the DM and thanks\n",
    "to the properties of the traces of the Pauli matrices can be extracted as $u_{i} = Tr(\\rho\\sigma_i)$.\n",
    "In terms of the matrix elements of the DM the Bloch components read\n",
    "$$\n",
    "u_1 = 2Re(\\rho_{12}) \\, , \\quad\n",
    "u_2 = - 2Im(\\rho_{12}) = 2Im(\\rho_{21})  \\, , \\quad\n",
    "u_3 = \\rho_{11}-\\rho_{22}\n",
    "$$"
   ]
  },
  {
   "cell_type": "markdown",
   "metadata": {},
   "source": [
    "We can derive the EQM for the $u_i$ using their definition, for instance from the equation for $\\rho_{12}$ we have\n",
    "$$\n",
    "i\\left(\\dot{u}_1- i \\dot{u}_2\\right) = \\omega_0 \\left(u_1-iu_2 \\right)\n",
    "-2 \\left( Re(H^I_{12}) + i Im(H^I_{12}) \\right) u_3\n",
    "$$\n",
    "and from the ones for $\\rho_{11}$ and $\\rho_{22}$ we have\n",
    "$$\n",
    "i\\dot{u}_3 = 2 H^I_{12}\\rho_{21} - 2H^{I}_{21}\\rho_{12} = \n",
    "H^I_{12}\\left(u_1+iu_2 \\right) - H^{I}_{21} \\left(u_1-iu_2 \\right)\n",
    "$$\n",
    "so isolating the real and the imaginary parts give the equations for the $u_i$\n",
    "$$\n",
    "\\dot{u}_1 = -\\omega_0 u_2 - 2Im(H^I_{12})u_3 \\\\\n",
    "\\dot{u}_2 = \\omega_0 u_1 - 2Re(H^I_{12})u_3 \\\\\n",
    "\\dot{u}_3 = 2Im(H^I_{12})u_1+ 2Re(H^I_{12})u_2\n",
    "$$"
   ]
  },
  {
   "cell_type": "markdown",
   "metadata": {},
   "source": [
    "## Formulation in the rotating frame (RF)"
   ]
  },
  {
   "cell_type": "markdown",
   "metadata": {},
   "source": [
    "The usage of the RWA allows us to express the Bloch vector into a properly chose rotating frame (RF) in which the $u_1$ and $u_2$ components\n",
    "are rotated with the frequency of the pump. In this frame the equations are simpler since the fast fluctuation of energy $\\omega_0$ disappear. \n",
    "\n",
    "The transformation that moves to the RF is\n",
    "$$\n",
    "\\mathbf{u}' = \\Theta \\cdot \\mathbf{u} \\, , \\,\\,\\, with \\quad\n",
    "\\Theta = \\left(\\begin{array}{ccc}\n",
    "cos(\\omega t) & sin(\\omega t) & 0\\\\\n",
    "-sin(\\omega t) & cos(\\omega t) & 0\\\\\n",
    "0 & 0 & 1\n",
    "\\end{array} \\right)\n",
    "$$"
   ]
  },
  {
   "cell_type": "markdown",
   "metadata": {},
   "source": [
    "With some algebra the EOM in this frame read\n",
    "$$\n",
    "\\dot{u}'_1 = \\left(\\omega-\\omega_0\\right)u'_2  = \\delta u'_2 \\\\\n",
    "\\dot{u}'_2 = \\left(\\omega_0-\\omega\\right)u'_1 + \\Omega_r u'_3 = -\\delta u'_1 + \\Omega_r u'_3 \\\\\n",
    "\\dot{u}'_3 = -\\Omega_r u'_2\n",
    "$$\n",
    "and we observe that the only parameters in this frame are the detuning $\\delta$ and the Rabi frequency.\n",
    "\n",
    "Note that in this derivation of the previous equation $\\Omega_r$ can be a (slowly varying) function of time, so the\n",
    "relevant case of one or several pulse with gaussian profile can be treated within the present formalism."
   ]
  },
  {
   "cell_type": "markdown",
   "metadata": {},
   "source": [
    "## Representation of the polarization and of the number of carriers"
   ]
  },
  {
   "cell_type": "markdown",
   "metadata": {},
   "source": [
    "It is useful to express some observables like the polarization or the density of charge in the excited states in this formalism. \n",
    "These quantities can be compared with the results provided by the abinitio real time simulations.\n",
    "\n",
    "Assuming that the only non vanishing matrix elements of the position operator (say $x$ component) are the non diagonal ones we have\n",
    "$$\n",
    "P = x_{12}\\rho_{12} + x_{21}\\rho_{21}\n",
    "$$\n",
    "that can be expressed in the terms of the components of the Bloch vector as\n",
    "$$\n",
    "P = u_1 Re(x_{12}) + u_2 Im(x_{12})\n",
    "$$\n",
    "So we observe that the elemnts $u_1$ and $u_2$ are responsible for the behavior of the polarization.\n",
    "\n",
    "Instead the density of charge in the excited state is given by $\\rho_{11}$ that, using the condition $\\rho_{11}+\\rho_{22} = 1$\n",
    "can be expressed as\n",
    "$$\n",
    "\\rho_{11} = \\frac{1+u_3}{2}\n",
    "$$"
   ]
  },
  {
   "cell_type": "markdown",
   "metadata": {},
   "source": [
    "## Analytic solution for constant field"
   ]
  },
  {
   "cell_type": "markdown",
   "metadata": {},
   "source": [
    "We seek for the general solution of the EQM in the RF for a constant field $\\Omega_r$. In what follows we omit the \n",
    "apex on the $u_i$ components. We start from a guess for $u_1$ of the form\n",
    "$$\n",
    "u_1(t) = Asin(\\Delta t) + Bcos(\\Delta t) + C \\,\\,\\, , with \\quad\n",
    "\\Delta = \\sqrt{\\delta^2+\\Omega_r^2}\n",
    "$$\n",
    "the constants $A,B,C$ will be determined imposing the boundary conditions for $u_i$. Plugging this guess in the EQM for $u_1$\n",
    "we obtain\n",
    "$$\n",
    "u_2(t) = \\frac{A\\Delta}{\\delta}cos(\\Delta t) - \\frac{B\\Delta}{\\delta}sin(\\Delta t)\n",
    "$$\n",
    "and pluggin this expression in the EQM for $u_2$ allows us to derive the expression of $u_3$ \n",
    "$$\n",
    "u_3(t) = -\\frac{A\\Omega_r}{\\delta}sin(\\Delta t) -\\frac{B\\Omega_r}{\\delta}cos(\\Delta t) +\\frac{C\\delta}{\\Omega_r}\n",
    "$$\n",
    "pluggin this expression in the EQM for $u_3$ we obtain $-\\Omega_r u_2(t)$ as expected, so the guess is correct."
   ]
  },
  {
   "cell_type": "markdown",
   "metadata": {},
   "source": [
    "The constants are determined through the boundary conditions\n",
    "$$\n",
    "u_1^0 = B+C \\, , \\quad\n",
    "u_2^0 = \\frac{A\\Delta}{\\delta} \\, , \\quad\n",
    "u_3^0 = -\\frac{B\\Omega_r}{\\delta} +\\frac{C\\delta}{\\Omega_r}\n",
    "$$\n",
    "and their solution reads\n",
    "$$\n",
    "A = \\frac{\\delta}{\\Delta}u_2^0 \\, , \\quad\n",
    "B = \\frac{\\delta^2}{\\Delta^2}u_1^0 - \\frac{\\delta\\Omega_r}{\\Delta^2}u_3^0 \\, , \\quad\n",
    "C = \\frac{\\Omega_r^2}{\\Delta^2}u_1^0 + \\frac{\\delta\\Omega_r}{\\Delta^2}u_3^0\n",
    "$$"
   ]
  },
  {
   "cell_type": "markdown",
   "metadata": {},
   "source": [
    "It is useful to plug these expressions in the ones for the $u_i$ to obtain the general result (Note that this is specially needed if $\\delta=0$ since in this \n",
    "case some factors vanish and other diverge)\n",
    "$$\n",
    "u_1(t) = \\frac{\\delta}{\\Delta}u_2^0 sin(\\Delta t) + \n",
    "\\left(\\frac{\\delta^2}{\\Delta^2}u_1^0 - \\frac{\\delta\\Omega_r}{\\Delta^2}u_3^0\\right)cos(\\Delta t) + \n",
    "\\left( \\frac{\\Omega_r^2}{\\Delta^2}u_1^0 + \\frac{\\delta\\Omega_r}{\\Delta^2}u_3^0 \\right)\\\\\n",
    "u_2(t) = u_2^0cos(\\Delta t) - \n",
    "\\left( \\frac{\\delta}{\\Delta}u_1^0 - \\frac{\\Omega_r}{\\Delta}u_3^0\\right) sin(\\Delta t) \\\\\n",
    "u_3(t) = - \\frac{\\Omega_r}{\\Delta}u_2^0sin(\\Delta t) -\n",
    "\\left( \\frac{\\delta\\Omega_r}{\\Delta^2}u_1^0 - \\frac{\\Omega_r^2}{\\Delta^2}u_3^0\\right)cos(\\Delta t) +\n",
    "\\left( \\frac{\\delta\\Omega_r}{\\Delta^2}u_1^0 + \\frac{\\delta^2}{\\Delta^2}u_3^0\\right)\n",
    "$$"
   ]
  },
  {
   "cell_type": "markdown",
   "metadata": {},
   "source": [
    "### Solutions for zero field $\\Omega_r = 0$"
   ]
  },
  {
   "cell_type": "markdown",
   "metadata": {},
   "source": [
    "In this case $\\Delta=\\delta$, and the general solution reduces to\n",
    "$$\n",
    "u_1(t) = u_1^0cos(\\delta t) + u_2^0sin(\\delta t)  \\\\\n",
    "u_2(t) = - u_1^0sin(\\delta t) +u_2^0cos(\\delta t)   \\\\\n",
    "u_3(t) = u_3^0\n",
    "$$"
   ]
  },
  {
   "cell_type": "markdown",
   "metadata": {},
   "source": [
    "## Analytic solution for time-dependent field for $\\delta=0$"
   ]
  },
  {
   "cell_type": "markdown",
   "metadata": {},
   "source": [
    "For $\\delta=0$ the solution can be parametrized like in the time-dependent case. The only modification\n",
    "is that the argument of the sine and cosine function becomes \n",
    "$$\n",
    "\\theta(t) = \\int_0^t dt' \\Omega_r(t')\n",
    "$$\n",
    "We observe that $\\dot{\\theta}(t) = \\Omega_r(t)$ and so the $u_i$ written in terms of $\\theta(t)$ satisfy the correct EQM with\n",
    "a time-dependent Rabi frequency.\n",
    "\n",
    "$$\n",
    "u_1(t) = u_1^0 \\\\\n",
    "u_2(t) = u_2^0cos(\\theta(t))  + u_3^0sin(\\theta(t)) \\\\\n",
    "u_3(t) = - u_2^0sin(\\theta(t)) + u_3^0cos(\\theta(t))\n",
    "$$\n"
   ]
  },
  {
   "cell_type": "markdown",
   "metadata": {},
   "source": [
    "On the basis of these equations we see that the area of the pulse \n",
    "$$\n",
    "\\theta =  \\int_{-\\infty}^{\\infty} dt' \\Omega_r(t') \n",
    "$$\n",
    "is the object that realizes the $\\pi/2$ or the $\\pi$ conditions:\n",
    " * $\\theta=\\pi/2$ :  the system in the ground state reach the state with $u_3=0$, that correspond to an occupation level of\n",
    " the excited state equal to $1/2$.\n",
    " * $\\theta=\\pi$ : the $u_2$ component of the Bloch vector changes sign.\n",
    " \n",
    "If $\\Omega_r$ is parametrized as\n",
    "$$\n",
    "\\Omega_r = Ae^{-\\frac{1}{2}\\left(\\frac{t-t_0}{w}\\right)^2}\n",
    "$$\n",
    "the $n\\pi$ condition becomes\n",
    "$$\n",
    "\\sqrt{2}wA = n\\sqrt{\\pi}\n",
    "$$"
   ]
  },
  {
   "cell_type": "markdown",
   "metadata": {},
   "source": [
    "## Numerical solution for arbitrary field and detuning"
   ]
  },
  {
   "cell_type": "markdown",
   "metadata": {},
   "source": [
    "The general solution can be provided in numerical form, we set the Bloch equations"
   ]
  },
  {
   "cell_type": "code",
   "execution_count": 14,
   "metadata": {},
   "outputs": [],
   "source": [
    "def Bloch_Eq(u, t, delta, Omega_r):\n",
    "    dudt = [delta*u[1], -delta*u[0]+Omega_r(t)*u[2],-Omega_r(t)*u[1]]\n",
    "    return dudt"
   ]
  },
  {
   "cell_type": "markdown",
   "metadata": {},
   "source": [
    "$\\Omega_r$ is an arbitrary field shape that can consist of many pulses.\n",
    "\n",
    "In what follows we discuss various cases"
   ]
  },
  {
   "cell_type": "markdown",
   "metadata": {},
   "source": [
    "### Dynamics for a single gaussian pulse"
   ]
  },
  {
   "cell_type": "code",
   "execution_count": 53,
   "metadata": {},
   "outputs": [],
   "source": [
    "def single_pulse(t,A,width):\n",
    "    t0 = 4*width\n",
    "    return A*np.exp(-(t-t0)**2/(2.*width**2))"
   ]
  },
  {
   "cell_type": "code",
   "execution_count": 54,
   "metadata": {},
   "outputs": [],
   "source": [
    "T = 1000 # fs - lenght of the simulation\n",
    "dt = 1 # fs - resolution of time sampling\n",
    "N = int(T/dt) # number of sampled points\n",
    "time = np.linspace(0,T,N+1)"
   ]
  },
  {
   "cell_type": "code",
   "execution_count": 85,
   "metadata": {},
   "outputs": [
    {
     "name": "stdout",
     "output_type": "stream",
     "text": [
      "detuning in fs^-1 0.007253967727875205\n",
      "amplitude of Omega_r 0.012533141373155001\n"
     ]
    }
   ],
   "source": [
    "delta = 30 # meV detuning\n",
    "h = U.Planck_ev_ps*1e3 # Planck constant in ev*fs\n",
    "delta_fsm1 = 1e-3*delta/h\n",
    "print('detuning in fs^-1',delta_fsm1)\n",
    "\n",
    "width = 50 # fs temporal width of the pulse\n",
    "A = np.sqrt(np.pi)/(2.*np.sqrt(2.)*width) # amplitude of the pi/2 field\n",
    "print('amplitude of Omega_r',A)"
   ]
  },
  {
   "cell_type": "code",
   "execution_count": 86,
   "metadata": {},
   "outputs": [],
   "source": [
    "u0 = [0.,0.,-1.] # initial condition for the system in the gs"
   ]
  },
  {
   "cell_type": "code",
   "execution_count": 87,
   "metadata": {},
   "outputs": [],
   "source": [
    "Omega_r = lambda t: single_pulse(t,A,width)"
   ]
  },
  {
   "cell_type": "code",
   "execution_count": 88,
   "metadata": {},
   "outputs": [
    {
     "data": {
      "text/plain": [
       "[<matplotlib.lines.Line2D at 0x7f1da8b9f7f0>]"
      ]
     },
     "execution_count": 88,
     "metadata": {},
     "output_type": "execute_result"
    },
    {
     "data": {
      "image/png": "[encoded data removed]",
      "text/plain": [
       "<Figure size 432x288 with 1 Axes>"
      ]
     },
     "metadata": {},
     "output_type": "display_data"
    }
   ],
   "source": [
    "plt.plot(time,Omega_r(time))"
   ]
  },
  {
   "cell_type": "code",
   "execution_count": 89,
   "metadata": {},
   "outputs": [],
   "source": [
    "sol = odeint(Bloch_Eq, u0, time, args=(delta_fsm1, Omega_r))"
   ]
  },
  {
   "cell_type": "code",
   "execution_count": 90,
   "metadata": {},
   "outputs": [
    {
     "data": {
      "text/plain": [
       "<matplotlib.legend.Legend at 0x7f1da8b869b0>"
      ]
     },
     "execution_count": 90,
     "metadata": {},
     "output_type": "execute_result"
    },
    {
     "data": {
      "image/png": "[encoded data removed]",
      "text/plain": [
       "<Figure size 720x504 with 1 Axes>"
      ]
     },
     "metadata": {},
     "output_type": "display_data"
    }
   ],
   "source": [
    "fig, ax = plt.subplots(figsize=(10, 7))\n",
    "plt.hlines(0.5,time[0],time[-1],linestyles='--')\n",
    "plt.plot(time,sol[:,0],label='u1')\n",
    "plt.plot(time,sol[:,1],label='u2')\n",
    "plt.plot(time,0.5*(1+sol[:,2]),label='carriers')\n",
    "plt.legend(loc='best')"
   ]
  },
  {
   "cell_type": "markdown",
   "metadata": {},
   "source": [
    "we observe that the $\\pi/2$ condition is realized exactly only for $\\delta=0$."
   ]
  },
  {
   "cell_type": "markdown",
   "metadata": {},
   "source": [
    "### Global response of many $k$-points to a gaussian pulse. Emergence of the FID."
   ]
  },
  {
   "cell_type": "markdown",
   "metadata": {},
   "source": [
    "We consider the global response of the system with a large samplings of $k$-points.\n",
    "\n",
    "To each point there is an associated detuning and we assume a uniform distribution in a given energy\n",
    "range"
   ]
  },
  {
   "cell_type": "code",
   "execution_count": 152,
   "metadata": {},
   "outputs": [],
   "source": [
    "num_delta = 2000\n",
    "delta_range = 80 # meV\n",
    "deltas = []\n",
    "for i in range(num_delta):\n",
    "    deltas.append(delta_range*(rand.random()-0.5))"
   ]
  },
  {
   "cell_type": "code",
   "execution_count": 153,
   "metadata": {},
   "outputs": [],
   "source": [
    "def single_pulse(t,A,width):\n",
    "    t0 = 4*width\n",
    "    return A*np.exp(-(t-t0)**2/(2.*width**2))"
   ]
  },
  {
   "cell_type": "code",
   "execution_count": 154,
   "metadata": {},
   "outputs": [],
   "source": [
    "T = 6e3 # fs - lenght of the simulation\n",
    "dt = 1 # fs - resolution of time sampling\n",
    "N = int(T/dt) # number of sampled points\n",
    "time = np.linspace(0,T,N+1)"
   ]
  },
  {
   "cell_type": "code",
   "execution_count": 204,
   "metadata": {},
   "outputs": [
    {
     "name": "stdout",
     "output_type": "stream",
     "text": [
      "amplitude of pi/2 pulse 0.012533141373155001\n",
      "amplitude of pulse 0.025066282746310002\n"
     ]
    }
   ],
   "source": [
    "width = 50 # fs temporal width of the pulse\n",
    "A_low = 0.005 \n",
    "A_pi_half = np.sqrt(np.pi)/(2.*np.sqrt(2.)*width) # realize the pi/2-pulse configuration\n",
    "A_pi = np.sqrt(np.pi)/(np.sqrt(2.)*width) # realize the pi-pulse configuration\n",
    "print('amplitude of pi/2 pulse',A_pi_half)\n",
    "print('amplitude of pulse',A_pi)"
   ]
  },
  {
   "cell_type": "code",
   "execution_count": 191,
   "metadata": {},
   "outputs": [],
   "source": [
    "u0 = [0.,0.,-1.] # initial condition for the system in the gs"
   ]
  },
  {
   "cell_type": "code",
   "execution_count": 205,
   "metadata": {},
   "outputs": [],
   "source": [
    "Omega_r = lambda t: single_pulse(t,A_pi_half,width)"
   ]
  },
  {
   "cell_type": "code",
   "execution_count": 206,
   "metadata": {},
   "outputs": [
    {
     "data": {
      "text/plain": [
       "[<matplotlib.lines.Line2D at 0x7f1da7e04208>]"
      ]
     },
     "execution_count": 206,
     "metadata": {},
     "output_type": "execute_result"
    },
    {
     "data": {
      "image/png": "[encoded data removed]",
      "text/plain": [
       "<Figure size 432x288 with 1 Axes>"
      ]
     },
     "metadata": {},
     "output_type": "display_data"
    }
   ],
   "source": [
    "plt.plot(time,Omega_r(time))"
   ]
  },
  {
   "cell_type": "code",
   "execution_count": 207,
   "metadata": {},
   "outputs": [],
   "source": [
    "h = U.Planck_ev_ps*1e3 # Planck constant in ev*fs\n",
    "\n",
    "solutions = []\n",
    "for delta in deltas:\n",
    "    delta_fsm1 = 1e-3*delta/h\n",
    "    solutions.append(odeint(Bloch_Eq, u0, time, args=(delta_fsm1, Omega_r)))"
   ]
  },
  {
   "cell_type": "code",
   "execution_count": 208,
   "metadata": {},
   "outputs": [],
   "source": [
    "u_global = [0.,0.,0.]\n",
    "u1, u2, carr = 0.,0.,0.\n",
    "for sol in solutions:\n",
    "    u1 += sol[:,0]\n",
    "    u2 += sol[:,1]\n",
    "    carr += 0.5*(1.+sol[:,2])\n",
    "u_global = [u1/num_delta,u2/num_delta,carr/num_delta]"
   ]
  },
  {
   "cell_type": "code",
   "execution_count": 209,
   "metadata": {},
   "outputs": [
    {
     "data": {
      "text/plain": [
       "<matplotlib.legend.Legend at 0x7f1da7d6b198>"
      ]
     },
     "execution_count": 209,
     "metadata": {},
     "output_type": "execute_result"
    },
    {
     "data": {
      "image/png": "[encoded data removed]",
      "text/plain": [
       "<Figure size 720x504 with 1 Axes>"
      ]
     },
     "metadata": {},
     "output_type": "display_data"
    }
   ],
   "source": [
    "fig, ax = plt.subplots(figsize=(10, 7))\n",
    "plt.plot(time,u_global[0],label='u1_global')\n",
    "plt.plot(time,u_global[1],label='u2_global')\n",
    "plt.plot(time,u_global[2],label='carr_global')\n",
    "plt.legend()"
   ]
  },
  {
   "cell_type": "markdown",
   "metadata": {},
   "source": [
    "The emergence of the FID is clearly visible. "
   ]
  },
  {
   "cell_type": "markdown",
   "metadata": {},
   "source": [
    "###  Echo mechanism in the $\\pi/2$ - $\\pi$ configuration"
   ]
  },
  {
   "cell_type": "markdown",
   "metadata": {},
   "source": [
    "We add a second $\\pi$ pulse to  realize the echo mechanism."
   ]
  },
  {
   "cell_type": "code",
   "execution_count": 210,
   "metadata": {},
   "outputs": [],
   "source": [
    "def double_pulse(t,A1,width,T1,A2):\n",
    "    t0 = 4*width\n",
    "    pulse1 = A1*np.exp(-(t-t0)**2/(2.*width**2))\n",
    "    pulse2 = A2*np.exp(-(t-(t0+T1))**2/(2.*width**2))\n",
    "    return pulse1 + pulse2"
   ]
  },
  {
   "cell_type": "code",
   "execution_count": 211,
   "metadata": {},
   "outputs": [],
   "source": [
    "T1 = 2000 # delay between the pulses"
   ]
  },
  {
   "cell_type": "code",
   "execution_count": 214,
   "metadata": {},
   "outputs": [],
   "source": [
    "Omega_r = lambda t: double_pulse(t,A_pi_half,width,T1,A_pi)"
   ]
  },
  {
   "cell_type": "code",
   "execution_count": 215,
   "metadata": {},
   "outputs": [
    {
     "data": {
      "text/plain": [
       "[<matplotlib.lines.Line2D at 0x7f1da7caf748>]"
      ]
     },
     "execution_count": 215,
     "metadata": {},
     "output_type": "execute_result"
    },
    {
     "data": {
      "image/png": "[encoded data removed]",
      "text/plain": [
       "<Figure size 432x288 with 1 Axes>"
      ]
     },
     "metadata": {},
     "output_type": "display_data"
    }
   ],
   "source": [
    "plt.plot(time,Omega_r(time))"
   ]
  },
  {
   "cell_type": "code",
   "execution_count": 216,
   "metadata": {},
   "outputs": [],
   "source": [
    "h = U.Planck_ev_ps*1e3 # Planck constant in ev*fs\n",
    "\n",
    "solutions = []\n",
    "for delta in deltas:\n",
    "    delta_fsm1 = 1e-3*delta/h\n",
    "    solutions.append(odeint(Bloch_Eq, u0, time, args=(delta_fsm1, Omega_r)))"
   ]
  },
  {
   "cell_type": "code",
   "execution_count": 217,
   "metadata": {},
   "outputs": [],
   "source": [
    "u_global = [0.,0.,0.]\n",
    "u1, u2, carr = 0.,0.,0.\n",
    "for sol in solutions:\n",
    "    u1 += sol[:,0]\n",
    "    u2 += sol[:,1]\n",
    "    carr += 0.5*(1.+sol[:,2])\n",
    "u_global = [u1/num_delta,u2/num_delta,carr/num_delta]"
   ]
  },
  {
   "cell_type": "code",
   "execution_count": 218,
   "metadata": {},
   "outputs": [
    {
     "data": {
      "text/plain": [
       "<matplotlib.legend.Legend at 0x7f1da7c942b0>"
      ]
     },
     "execution_count": 218,
     "metadata": {},
     "output_type": "execute_result"
    },
    {
     "data": {
      "image/png": "[encoded data removed]",
      "text/plain": [
       "<Figure size 720x504 with 1 Axes>"
      ]
     },
     "metadata": {},
     "output_type": "display_data"
    }
   ],
   "source": [
    "fig, ax = plt.subplots(figsize=(10, 7))\n",
    "plt.plot(time,u_global[0],label='u1_global')\n",
    "plt.plot(time,u_global[1],label='u2_global')\n",
    "plt.plot(time,u_global[2],label='carr_global')\n",
    "plt.legend()"
   ]
  },
  {
   "cell_type": "markdown",
   "metadata": {},
   "source": [
    "The echo signal emerges!"
   ]
  },
  {
   "cell_type": "code",
   "execution_count": null,
   "metadata": {},
   "outputs": [],
   "source": []
  },
  {
   "cell_type": "code",
   "execution_count": null,
   "metadata": {},
   "outputs": [],
   "source": []
  },
  {
   "cell_type": "code",
   "execution_count": null,
   "metadata": {},
   "outputs": [],
   "source": []
  },
  {
   "cell_type": "code",
   "execution_count": null,
   "metadata": {},
   "outputs": [],
   "source": []
  },
  {
   "cell_type": "code",
   "execution_count": null,
   "metadata": {},
   "outputs": [],
   "source": []
  },
  {
   "cell_type": "code",
   "execution_count": null,
   "metadata": {},
   "outputs": [],
   "source": []
  }
 ],
 "metadata": {
  "kernelspec": {
   "display_name": "Python 3",
   "language": "python",
   "name": "python3"
  },
  "language_info": {
   "codemirror_mode": {
    "name": "ipython",
    "version": 3
   },
   "file_extension": ".py",
   "mimetype": "text/x-python",
   "name": "python",
   "nbconvert_exporter": "python",
   "pygments_lexer": "ipython3",
   "version": "3.6.9"
  }
 },
 "nbformat": 4,
 "nbformat_minor": 4
}
