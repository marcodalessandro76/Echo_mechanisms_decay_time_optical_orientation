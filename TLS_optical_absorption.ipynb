{
 "cells": [
  {
   "cell_type": "code",
   "execution_count": 1,
   "metadata": {},
   "outputs": [],
   "source": [
    "import numpy as np\n",
    "import matplotlib.pyplot as plt"
   ]
  },
  {
   "cell_type": "markdown",
   "metadata": {},
   "source": [
    "# TLS description of optical absorption"
   ]
  },
  {
   "cell_type": "markdown",
   "metadata": {},
   "source": [
    "In this notebook we present a two level system (TLS) based description of optical absorption. We analyze the\n",
    "construction of the _Bloch vector_ representation of the model and we discuss the topics needed to deal with the\n",
    "photon eco mechanisms."
   ]
  },
  {
   "cell_type": "markdown",
   "metadata": {},
   "source": [
    "The Hamiltonian of the system is represented as\n",
    "$$\n",
    "H = \\frac{1}{2}\\omega_0 \\sigma_z \\, , \n",
    "$$\n",
    "where $\\sigma_z$ is the Pauli matrix. $H$ is diagonal in the chosen representation with a energy shift \n",
    "between the two levels given by  $\\omega_0$. The eigenstates are represented as\n",
    "$$\n",
    "|1\\rangle = \\left(\\begin{array}{c}\n",
    "1\\\\\n",
    "0\\\\\n",
    "\\end{array} \\right) \\, , \\quad\n",
    "|2\\rangle = \\left(\\begin{array}{c}\n",
    "0\\\\\n",
    "1\\\\\n",
    "\\end{array} \\right) \\, .\n",
    "$$\n",
    "Note that in this notation $|2\\rangle$ describe the GS of the system, while $|1\\rangle$ is the excited state."
   ]
  },
  {
   "cell_type": "markdown",
   "metadata": {},
   "source": [
    "The interaction of the optical pump with the system is described by an Hamiltonian $H^I$ that has only non-diagonal \n",
    "non vanishing matrix elements. \n",
    "\n",
    "The equation of motion (EQM) of the density matrix (DM) are expressed by the Liouville equation\n",
    "$$\n",
    "i \\dot{\\rho} = \\left[H+H^I,\\rho\\right]\n",
    "$$\n",
    "and we can explicitly write the associated equations for the matrix elements of the DM in the chosen basis using\n",
    "the structure of both the Hamitonian defined above. We obtain:\n",
    "$$\n",
    "i \\dot{\\rho}_{11} = H^I_{12}\\rho_{21} - H^I_{21}\\rho_{12} \\\\\n",
    "i \\dot{\\rho}_{22} = H^I_{21}\\rho_{12} - H^I_{12}\\rho_{21} \\\\\n",
    "i \\dot{\\rho}_{12} = \\omega_0\\rho_{12} + H^I_{12}(\\rho_{22}-\\rho_{11}) \\\\\n",
    "i \\dot{\\rho}_{21} = -\\omega_0\\rho_{21} - H^I_{21}(\\rho_{22}-\\rho_{11})\n",
    "$$\n",
    "where $H^I_{12} = \\langle 1|H^I|2\\rangle$ and $H^I_{21} = \\langle 2|H^I|1\\rangle$, furthermore\n",
    "$H^I_{12} = H^{I*}_{21}$ since $H^I$ is hermitian. These equations imply that $\\rho_{21}$ is the complex\n",
    "conjugate of $\\rho_{12}$ and that $\\rho_{11}+\\rho_{22}$ is constant, that is the conservation of the charge."
   ]
  },
  {
   "cell_type": "markdown",
   "metadata": {},
   "source": [
    "## Interaction Hamiltonian and rotating wave approximation (RWA)"
   ]
  },
  {
   "cell_type": "markdown",
   "metadata": {},
   "source": [
    "We consider an interaction between the system and the optical pump described by a dipole interaction, that is\n",
    "$$\n",
    "H^I = - \\mathbf{\\mu}\\cdot\\mathbf{E}(t)\n",
    "$$\n",
    "where $\\mathbf{\\mu}$ is the dipole operator. We choose a linear polarized electric field (along an arbitrary chosen axis).\n",
    "The time dependece of the field is described by a monocromatic wave of energy $\\omega$ times a real slow enevelope function $E_0(t)$.\n",
    "Due to this assumption the matrix element $H^I_{12}$ can be expressed as\n",
    "$$\n",
    "H^I_{12} = - \\mu E_0(t) cos(\\omega t) \\doteq - \\Omega_r(t) cos(\\omega t)\n",
    "$$\n",
    "Here $\\mu$ is matrix element of the component of the dipole parallel to $\\mathbf{E}$ evaluated between the states 1 and 2 and\n",
    "we have introduced the (time-dependent) _Rabi frequency_ $\\Omega_r$. In this analysis we asssume that the Rabi frequency is real,\n",
    "further investigation on this point will be performed later."
   ]
  },
  {
   "cell_type": "markdown",
   "metadata": {},
   "source": [
    "We are intersted probing the system with energy of the pump not very different from the energy gap of the system, that is if we introduce \n",
    "the energy shift $\\delta$ as\n",
    "$$\n",
    "\\omega = \\omega_0 + \\delta\n",
    "$$\n",
    "the condition $\\delta \\ll \\omega_0$ is sastisfied. This fact allows us to introduce the rotating wave approximation. To understand this point\n",
    "consider that, for instance, the generic solution for $\\rho_{12}$ can be written as\n",
    "$$\n",
    "\\rho_{12} = Ae^{-i\\omega_0t} + e^{-i\\omega_0t}\\int_{t_0}^{t}dt'e^{i\\omega_0t'}\\Omega_r(t')cos(\\omega t')\n",
    "\\left(\\rho_{22}-\\rho_{11}\\right)\n",
    "$$\n",
    "Due to the presence of the factor $e^{i\\omega_0 t'}$ in the integral the cosine can be splitted into complex exponentials and only the\n",
    "addend $e^{-i\\omega t'}$ gives relevant contributions since the fast oscillating terms cancel. So the interaction matrix element in the RWA\n",
    "read\n",
    "$$\n",
    "H^I_{12} = - \\frac{1}{2} \\Omega_r(t)e^{-i\\omega t}\n",
    "$$"
   ]
  },
  {
   "cell_type": "markdown",
   "metadata": {},
   "source": [
    "Note that this argument is usually discussed and justified for __constant__ Rabi frequency, however if the envelope function $E_0(t)$ is slow we can split the previous integral into various terms in \n",
    "which the frequency is constant and apply the same argument to all the addends."
   ]
  },
  {
   "cell_type": "markdown",
   "metadata": {},
   "source": [
    "## Bloch vector representation"
   ]
  },
  {
   "cell_type": "markdown",
   "metadata": {},
   "source": [
    "The DM is an hermitian operator that satisfy the condition $Tr(\\rho)$ = 1. So it can be represented as\n",
    "$$\n",
    "\\rho = \\frac{1}{2}\\left(1+\\mathbf{u}\\cdot\\mathbf{\\sigma}\\right)\n",
    "$$\n",
    "The parameters $\\mathbf{u}$ are the Bloch vector components associated to the DM and thanks\n",
    "to the properties of the traces of the Pauli matrices can be extracted as $u_{i} = Tr(\\rho\\sigma_i)$.\n",
    "In terms of the matrix elements of the DM the Bloch components read\n",
    "$$\n",
    "u_1 = 2Re(\\rho_{12}) \\, , \\quad\n",
    "u_2 = - 2Im(\\rho_{12}) = 2Im(\\rho_{21})  \\, , \\quad\n",
    "u_3 = \\rho_{11}-\\rho_{22}\n",
    "$$"
   ]
  },
  {
   "cell_type": "markdown",
   "metadata": {},
   "source": [
    "We can derive the EQM for the $u_i$ using their definition, for instance from the equation for $\\rho_{12}$ we have\n",
    "$$\n",
    "i\\left(\\dot{u}_1- i \\dot{u}_2\\right) = \\omega_0 \\left(u_1-iu_2 \\right)\n",
    "-2 \\left( Re(H^I_{12}) + i Im(H^I_{12}) \\right) u_3\n",
    "$$\n",
    "and from the ones for $\\rho_{11}$ and $\\rho_{22}$ we have\n",
    "$$\n",
    "i\\dot{u}_3 = 2 H^I_{12}\\rho_{21} - 2H^{I}_{21}\\rho_{12} = \n",
    "H^I_{12}\\left(u_1+iu_2 \\right) - H^{I}_{21} \\left(u_1-iu_2 \\right)\n",
    "$$\n",
    "so isolating the real and the imaginary parts give the equations for the $u_i$\n",
    "$$\n",
    "\\dot{u}_1 = -\\omega_0 u_2 - 2Im(H^I_{12})u_3 \\\\\n",
    "\\dot{u}_2 = \\omega_0 u_1 - 2Re(H^I_{12})u_3 \\\\\n",
    "\\dot{u}_3 = 2Im(H^I_{12})u_1+ 2Re(H^I_{12})u_2\n",
    "$$"
   ]
  },
  {
   "cell_type": "markdown",
   "metadata": {},
   "source": [
    "## Formulation in the rotating frame (RF)"
   ]
  },
  {
   "cell_type": "markdown",
   "metadata": {},
   "source": [
    "The usage of the RWA allows us to express the Bloch vector into a properly chose rotating frame (RF) in which the $u_1$ and $u_2$ components\n",
    "are rotated with the frequency of the pump. In this frame the equations are simpler since the fast fluctuation of energy $\\omega_0$ disappear. \n",
    "\n",
    "The transformation that moves to the RF is\n",
    "$$\n",
    "\\mathbf{u}' = \\Theta \\cdot \\mathbf{u} \\, , \\,\\,\\, with \\quad\n",
    "\\Theta = \\left(\\begin{array}{ccc}\n",
    "cos(\\omega t) & sin(\\omega t) & 0\\\\\n",
    "-sin(\\omega t) & cos(\\omega t) & 0\\\\\n",
    "0 & 0 & 1\n",
    "\\end{array} \\right)\n",
    "$$"
   ]
  },
  {
   "cell_type": "markdown",
   "metadata": {},
   "source": [
    "With some algebra the EOM in this frame read\n",
    "$$\n",
    "\\dot{u}'_1 = \\left(\\omega-\\omega_0\\right)u'_2  = \\delta u'_2 \\\\\n",
    "\\dot{u}'_2 = \\left(\\omega_0-\\omega\\right)u'_1 - \\Omega_r u'_3 = -\\delta u'_1 - \\Omega_r u'_3 \\\\\n",
    "\\dot{u}'_2 = \\Omega_r u'_2\n",
    "$$"
   ]
  },
  {
   "cell_type": "code",
   "execution_count": null,
   "metadata": {},
   "outputs": [],
   "source": []
  },
  {
   "cell_type": "code",
   "execution_count": null,
   "metadata": {},
   "outputs": [],
   "source": []
  },
  {
   "cell_type": "code",
   "execution_count": null,
   "metadata": {},
   "outputs": [],
   "source": []
  },
  {
   "cell_type": "code",
   "execution_count": null,
   "metadata": {},
   "outputs": [],
   "source": []
  }
 ],
 "metadata": {
  "kernelspec": {
   "display_name": "Python 3",
   "language": "python",
   "name": "python3"
  },
  "language_info": {
   "codemirror_mode": {
    "name": "ipython",
    "version": 3
   },
   "file_extension": ".py",
   "mimetype": "text/x-python",
   "name": "python",
   "nbconvert_exporter": "python",
   "pygments_lexer": "ipython3",
   "version": "3.6.9"
  }
 },
 "nbformat": 4,
 "nbformat_minor": 4
}
