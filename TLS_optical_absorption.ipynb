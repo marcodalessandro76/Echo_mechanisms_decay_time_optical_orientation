{
 "cells": [
  {
   "cell_type": "code",
   "execution_count": 5,
   "metadata": {},
   "outputs": [],
   "source": [
    "import numpy as np\n",
    "import matplotlib.pyplot as plt"
   ]
  },
  {
   "cell_type": "markdown",
   "metadata": {},
   "source": [
    "# TLS description of optical absorption"
   ]
  },
  {
   "cell_type": "markdown",
   "metadata": {},
   "source": [
    "In this notebook we present a two level system (TLS) based description of optical absorption. We analyze the\n",
    "construction of the _Bloch vector_ representation of the model and we discuss the topics needed to deal with the\n",
    "photon eco mechanisms."
   ]
  },
  {
   "cell_type": "markdown",
   "metadata": {},
   "source": [
    "The Hamiltonian of the system is represented as\n",
    "$$\n",
    "H = \\frac{1}{2}\\omega_0 \\sigma_z \\, , \n",
    "$$\n",
    "where $\\sigma_z$ is the Pauli matrix. $H$ is diagonal in the chosen representation with a energy shift \n",
    "between the two levels given by  $\\omega_0$. The eigenstates are represented as\n",
    "$$\n",
    "|1\\rangle = \\left(\\begin{array}{c}\n",
    "1\\\\\n",
    "0\\\\\n",
    "\\end{array} \\right) \\, , \\quad\n",
    "|2\\rangle = \\left(\\begin{array}{c}\n",
    "0\\\\\n",
    "1\\\\\n",
    "\\end{array} \\right) \\, .\n",
    "$$\n",
    "Note that in this notation $|2\\rangle$ describe the GS of the system, while $|1\\rangle$ is the excited state."
   ]
  },
  {
   "cell_type": "markdown",
   "metadata": {},
   "source": [
    "The interaction of the optical pump with the system is described by an Hamiltonian $H^I$ that has only non-diagonal \n",
    "non vanishing matrix elements. \n",
    "\n",
    "The equation of motion (EQM) of the density matrix (DM) are expressed by the Liouville equation\n",
    "$$\n",
    "i \\dot{\\rho} = \\left[H+H^I,\\rho\\right]\n",
    "$$\n",
    "and we can explicitly write the associated equations for the matrix elements of the DM in the chosen basis using\n",
    "the structure of both the Hamitonian defined above. We obtain:\n",
    "$$\n",
    "i \\dot{\\rho}_{11} = H^I_{12}\\rho_{21} - H^I_{21}\\rho_{12} \\\\\n",
    "i \\dot{\\rho}_{22} = H^I_{21}\\rho_{12} - H^I_{12}\\rho_{21} \\\\\n",
    "i \\dot{\\rho}_{12} = \\omega_0\\rho_{12} + H^I_{12}(\\rho_{22}-\\rho_{11}) \\\\\n",
    "i \\dot{\\rho}_{21} = -\\omega_0\\rho_{21} - H^I_{21}(\\rho_{22}-\\rho_{11})\n",
    "$$\n",
    "where $H^I_{12} = \\langle 1|H^I|2\\rangle$ and $H^I_{21} = \\langle 2|H^I|1\\rangle$, furthermore\n",
    "$H^I_{12} = H^{I*}_{21}$ since $H^I$ is hermitian. These equations imply that $\\rho_{21}$ is the complex\n",
    "conjugate of $\\rho_{12}$ and that $\\rho_{11}+\\rho_{22}$ is constant, that is the conservation of the charge."
   ]
  },
  {
   "cell_type": "markdown",
   "metadata": {},
   "source": [
    "## Interaction Hamiltonian and rotating wave approximation (RWA)"
   ]
  },
  {
   "cell_type": "markdown",
   "metadata": {},
   "source": [
    "We consider an interaction between the system and the optical pump described by a dipole interaction, that is\n",
    "$$\n",
    "H^I = - \\mathbf{\\mu}\\cdot\\mathbf{E}(t)\n",
    "$$\n",
    "where $\\mathbf{\\mu}$ is the dipole operator. We choose a linear polarized electric field (along an arbitrary chosen axis).\n",
    "The time dependece of the field is described by a monocromatic wave of energy $\\omega$ times a real slow enevelope function $E_0(t)$.\n",
    "Due to this assumption the matrix element $H^I_{12}$ can be expressed as\n",
    "$$\n",
    "H^I_{12} = - \\mu E_0(t) cos(\\omega t) \\doteq - \\Omega_r(t) cos(\\omega t)\n",
    "$$\n",
    "Here $\\mu$ is matrix element of the component of the dipole parallel to $\\mathbf{E}$ evaluated between the states 1 and 2 and\n",
    "we have introduced the (time-dependent) _Rabi frequency_ $\\Omega_r$. In this analysis we asssume that the Rabi frequency is real,\n",
    "further investigation on this point will be performed later."
   ]
  },
  {
   "cell_type": "markdown",
   "metadata": {},
   "source": [
    "We are intersted probing the system with energy of the pump not very different from the energy gap of the system, that is if we introduce \n",
    "the energy shift $\\delta$ as\n",
    "$$\n",
    "\\omega = \\omega_0 + \\delta\n",
    "$$\n",
    "the condition $\\delta \\ll \\omega_0$ is sastisfied. This fact allows us to introduce the rotating wave approximation. To understand this point\n",
    "consider that, for instance, the generic solution for $\\rho_{12}$ can be written as\n",
    "$$\n",
    "\\rho_{12} = Ae^{-i\\omega_0t} + e^{-i\\omega_0t}\\int_{t_0}^{t}dt'e^{i\\omega_0t'}\\Omega_r(t')cos(\\omega t')\n",
    "\\left(\\rho_{22}-\\rho_{11}\\right)\n",
    "$$\n",
    "Due to the presence of the factor $e^{i\\omega_0 t'}$ in the integral the cosine can be splitted into complex exponentials and only the\n",
    "addend $e^{-i\\omega t'}$ gives relevant contributions since the fast oscillating terms cancel. So the interaction matrix element in the RWA\n",
    "read\n",
    "$$\n",
    "H^I_{12} = - \\frac{1}{2} \\Omega_r(t)e^{-i\\omega t}\n",
    "$$"
   ]
  },
  {
   "cell_type": "markdown",
   "metadata": {},
   "source": [
    "Note that this argument is usually discussed and justified for __constant__ Rabi frequency, however if the envelope function $E_0(t)$ is slow we can split the previous integral into various terms in \n",
    "which the frequency is constant and apply the same argument to all the addends."
   ]
  },
  {
   "cell_type": "markdown",
   "metadata": {},
   "source": [
    "## Bloch vector representation"
   ]
  },
  {
   "cell_type": "markdown",
   "metadata": {},
   "source": [
    "The DM is an hermitian operator that satisfy the condition $Tr(\\rho)$ = 1. So it can be represented as\n",
    "$$\n",
    "\\rho = \\frac{1}{2}\\left(1+\\mathbf{u}\\cdot\\mathbf{\\sigma}\\right)\n",
    "$$\n",
    "The parameters $\\mathbf{u}$ are the Bloch vector components associated to the DM and thanks\n",
    "to the properties of the traces of the Pauli matrices can be extracted as $u_{i} = Tr(\\rho\\sigma_i)$.\n",
    "In terms of the matrix elements of the DM the Bloch components read\n",
    "$$\n",
    "u_1 = 2Re(\\rho_{12}) \\, , \\quad\n",
    "u_2 = - 2Im(\\rho_{12}) = 2Im(\\rho_{21})  \\, , \\quad\n",
    "u_3 = \\rho_{11}-\\rho_{22}\n",
    "$$"
   ]
  },
  {
   "cell_type": "markdown",
   "metadata": {},
   "source": [
    "We can derive the EQM for the $u_i$ using their definition, for instance from the equation for $\\rho_{12}$ we have\n",
    "$$\n",
    "i\\left(\\dot{u}_1- i \\dot{u}_2\\right) = \\omega_0 \\left(u_1-iu_2 \\right)\n",
    "-2 \\left( Re(H^I_{12}) + i Im(H^I_{12}) \\right) u_3\n",
    "$$\n",
    "and from the ones for $\\rho_{11}$ and $\\rho_{22}$ we have\n",
    "$$\n",
    "i\\dot{u}_3 = 2 H^I_{12}\\rho_{21} - 2H^{I}_{21}\\rho_{12} = \n",
    "H^I_{12}\\left(u_1+iu_2 \\right) - H^{I}_{21} \\left(u_1-iu_2 \\right)\n",
    "$$\n",
    "so isolating the real and the imaginary parts give the equations for the $u_i$\n",
    "$$\n",
    "\\dot{u}_1 = -\\omega_0 u_2 - 2Im(H^I_{12})u_3 \\\\\n",
    "\\dot{u}_2 = \\omega_0 u_1 - 2Re(H^I_{12})u_3 \\\\\n",
    "\\dot{u}_3 = 2Im(H^I_{12})u_1+ 2Re(H^I_{12})u_2\n",
    "$$"
   ]
  },
  {
   "cell_type": "markdown",
   "metadata": {},
   "source": [
    "## Formulation in the rotating frame (RF)"
   ]
  },
  {
   "cell_type": "markdown",
   "metadata": {},
   "source": [
    "The usage of the RWA allows us to express the Bloch vector into a properly chose rotating frame (RF) in which the $u_1$ and $u_2$ components\n",
    "are rotated with the frequency of the pump. In this frame the equations are simpler since the fast fluctuation of energy $\\omega_0$ disappear. \n",
    "\n",
    "The transformation that moves to the RF is\n",
    "$$\n",
    "\\mathbf{u}' = \\Theta \\cdot \\mathbf{u} \\, , \\,\\,\\, with \\quad\n",
    "\\Theta = \\left(\\begin{array}{ccc}\n",
    "cos(\\omega t) & sin(\\omega t) & 0\\\\\n",
    "-sin(\\omega t) & cos(\\omega t) & 0\\\\\n",
    "0 & 0 & 1\n",
    "\\end{array} \\right)\n",
    "$$"
   ]
  },
  {
   "cell_type": "markdown",
   "metadata": {},
   "source": [
    "With some algebra the EOM in this frame read\n",
    "$$\n",
    "\\dot{u}'_1 = \\left(\\omega-\\omega_0\\right)u'_2  = \\delta u'_2 \\\\\n",
    "\\dot{u}'_2 = \\left(\\omega_0-\\omega\\right)u'_1 + \\Omega_r u'_3 = -\\delta u'_1 + \\Omega_r u'_3 \\\\\n",
    "\\dot{u}'_3 = -\\Omega_r u'_2\n",
    "$$\n",
    "and we observe that the only parameters in this frame are the detuning $\\delta$ and the Rabi frequency.\n",
    "\n",
    "Note that in this derivation of the previous equation $\\Omega_r$ can be a (slowly varying) function of time, so the\n",
    "relevant case of one or several pulse with gaussian profile can be treated within the present formalism."
   ]
  },
  {
   "cell_type": "markdown",
   "metadata": {},
   "source": [
    "## Representation of the polarization and of the number of carriers"
   ]
  },
  {
   "cell_type": "markdown",
   "metadata": {},
   "source": [
    "It is useful to express some observables like the polarization or the density of charge in the excited states in this formalism. \n",
    "These quantities can be compared with the results provided by the abinitio real time simulations.\n",
    "\n",
    "Assuming that the only non vanishing matrix elements of the position operator (say $x$ component) are the non diagonal ones we have\n",
    "$$\n",
    "P = x_{12}\\rho_{12} + x_{21}\\rho_{21}\n",
    "$$\n",
    "that can be expressed in the terms of the components of the Bloch vector as\n",
    "$$\n",
    "P = u_1 Re(x_{12}) + u_2 Im(x_{12})\n",
    "$$\n",
    "So we observe that the elemnts $u_1$ and $u_2$ are responsible for the behavior of the polarization.\n",
    "\n",
    "Instead the density of charge in the excited state is given by $\\rho_{11}$ that, using the condition $\\rho_{11}+\\rho_{22} = 1$\n",
    "can be expressed as\n",
    "$$\n",
    "\\rho_{11} = \\frac{1+u_3}{2}\n",
    "$$"
   ]
  },
  {
   "cell_type": "markdown",
   "metadata": {},
   "source": [
    "## Analytic solution for constant field"
   ]
  },
  {
   "cell_type": "markdown",
   "metadata": {},
   "source": [
    "We seek for the general solution of the EQM in the RF for a constant field $\\Omega_r$. In what follows we omit the \n",
    "apex on the $u_i$ components. We start from a guess for $u_1$ of the form\n",
    "$$\n",
    "u_1(t) = Asin(\\Delta t) + Bcos(\\Delta t) + C \\,\\,\\, , with \\quad\n",
    "\\Delta = \\sqrt{\\delta^2+\\Omega_r^2}\n",
    "$$\n",
    "the constants $A,B,C$ will be determined imposing the boundary conditions for $u_i$. Plugging this guess in the EQM for $u_1$\n",
    "we obtain\n",
    "$$\n",
    "u_2(t) = \\frac{A\\Delta}{\\delta}cos(\\Delta t) - \\frac{B\\Delta}{\\delta}sin(\\Delta t)\n",
    "$$\n",
    "and pluggin this expression in the EQM for $u_2$ allows us to derive the expression of $u_3$ \n",
    "$$\n",
    "u_3(t) = -\\frac{A\\Omega_r}{\\delta}sin(\\Delta t) -\\frac{B\\Omega_r}{\\delta}cos(\\Delta t) +\\frac{C\\delta}{\\Omega_r}\n",
    "$$\n",
    "pluggin this expression in the EQM for $u_3$ we obtain $-\\Omega_r u_2(t)$ as expected, so the guess is correct."
   ]
  },
  {
   "cell_type": "markdown",
   "metadata": {},
   "source": [
    "The constants are determined through the boundary conditions\n",
    "$$\n",
    "u_1^0 = B+C \\, , \\quad\n",
    "u_2^0 = \\frac{A\\Delta}{\\delta} \\, , \\quad\n",
    "u_3^0 = -\\frac{B\\Omega_r}{\\delta} +\\frac{C\\delta}{\\Omega_r}\n",
    "$$\n",
    "and their solution reads\n",
    "$$\n",
    "A = \\frac{\\delta}{\\Delta}u_2^0 \\, , \\quad\n",
    "B = \\frac{\\delta^2}{\\Delta^2}u_1^0 - \\frac{\\delta\\Omega_r}{\\Delta^2}u_3^0 \\, , \\quad\n",
    "C = \\frac{\\Omega_r^2}{\\Delta^2}u_1^0 + \\frac{\\delta\\Omega_r}{\\Delta^2}u_3^0\n",
    "$$"
   ]
  },
  {
   "cell_type": "markdown",
   "metadata": {},
   "source": [
    "It is useful to plug these expression in the ones for the $u_i$ to obtain the general result (Note that this is specially needed if $\\delta=0$ since in this \n",
    "case some factors vanish and other diverge)\n",
    "$$\n",
    "u_1(t) = \\frac{\\delta}{\\Delta}u_2^0 sin(\\Delta t) + \n",
    "\\left(\\frac{\\delta^2}{\\Delta^2}u_1^0 - \\frac{\\delta\\Omega_r}{\\Delta^2}u_3^0\\right)cos(\\Delta t) + \n",
    "\\left( \\frac{\\Omega_r^2}{\\Delta^2}u_1^0 + \\frac{\\delta\\Omega_r}{\\Delta^2}u_3^0 \\right)\\\\\n",
    "u_2(t) = u_2^0cos(\\Delta t) - \n",
    "\\left( \\frac{\\delta}{\\Delta}u_1^0 - \\frac{\\Omega_r}{\\Delta}u_3^0\\right) sin(\\Delta t) \\\\\n",
    "u_3(t) = - \\frac{\\Omega_r}{\\Delta}u_2^0sin(\\Delta t) -\n",
    "\\left( \\frac{\\delta\\Omega_r}{\\Delta^2}u_1^0 - \\frac{\\Omega_r^2}{\\Delta^2}u_3^0\\right)cos(\\Delta t) +\n",
    "\\left( \\frac{\\delta\\Omega_r}{\\Delta^2}u_1^0 + \\frac{\\delta^2}{\\Delta^2}u_3^0\\right)\n",
    "$$"
   ]
  },
  {
   "cell_type": "markdown",
   "metadata": {},
   "source": [
    "## Analytic solution for time-dependent field"
   ]
  },
  {
   "cell_type": "markdown",
   "metadata": {},
   "source": [
    "The same structure of the solution defined for constant field is valid also in the time-dependent case. The only modification\n",
    "is that the argument of the sine and cosine function becomes \n",
    "$$\n",
    "\\theta(t) = \\int_0^t dt' \\Delta(t') \\, , with \\quad\n",
    "\\Delta(t) = \\sqrt{\\delta^2+\\Omega_r^2(t)}\n",
    "$$\n",
    "We observe that $\\dot{\\theta}(t) = \\Delta(t)$ and so the $u_i$ written in terms of $\\theta(t)$ satisfy the correct EQM with\n",
    "a time-dependent Rabi frequency.\n",
    "\n",
    "The coefficients of the sine and cosine are evaluated at time $t$. The general solution is expressed as\n",
    "$$\n",
    "u_1(t) = \\frac{\\delta}{\\Delta(t)}u_2^0 sin(\\theta(t)) + \n",
    "\\left(\\frac{\\delta^2}{\\Delta^2(t)}u_1^0 - \\frac{\\delta\\Omega_r(t)}{\\Delta^2(t)}u_3^0\\right)cos(\\theta(t)) + \n",
    "\\left( \\frac{\\Omega_r^2}{\\Delta^2(t)}u_1^0 + \\frac{\\delta\\Omega_r(t)}{\\Delta^2(t)}u_3^0 \\right)\\\\\n",
    "u_2(t) = u_2^0cos(\\theta(t)) - \n",
    "\\left( \\frac{\\delta}{\\Delta(t)}u_1^0 - \\frac{\\Omega_r(t)}{\\Delta(t)}u_3^0\\right) sin(\\theta(t)) \\\\\n",
    "u_3(t) = - \\frac{\\Omega_r(t)}{\\Delta(t)}u_2^0sin(\\theta(t)) -\n",
    "\\left( \\frac{\\delta\\Omega_r(t)}{\\Delta^2(t)}u_1^0 - \\frac{\\Omega_r^2(t)}{\\Delta^2(t)}u_3^0\\right)cos(\\theta(t)) +\n",
    "\\left( \\frac{\\delta\\Omega_r(t)}{\\Delta^2(t)}u_1^0 + \\frac{\\delta^2}{\\Delta^2(t)}u_3^0\\right)\n",
    "$$"
   ]
  },
  {
   "cell_type": "markdown",
   "metadata": {},
   "source": [
    "Check if the solution is satisfied..."
   ]
  },
  {
   "cell_type": "markdown",
   "metadata": {},
   "source": [
    "## Examples in simple cases"
   ]
  },
  {
   "cell_type": "markdown",
   "metadata": {},
   "source": [
    "### Solutions for zero detuning $\\delta = 0$"
   ]
  },
  {
   "cell_type": "markdown",
   "metadata": {},
   "source": [
    "In this case $\\Delta=\\Omega_r$, the $u_1$ component is constant and the others read\n",
    "$$\n",
    "u_2(t) = u_2^0cos(\\theta(t))  + u_3^0sin(\\theta(t)) \\\\\n",
    "u_3(t) = - u_2^0sin(\\theta(t)) + u_3^0cos(\\theta(t))\n",
    "$$"
   ]
  },
  {
   "cell_type": "markdown",
   "metadata": {},
   "source": [
    "### Solutions for zero field $\\Omega_r = 0$"
   ]
  },
  {
   "cell_type": "markdown",
   "metadata": {},
   "source": [
    "........"
   ]
  },
  {
   "cell_type": "markdown",
   "metadata": {},
   "source": [
    "## Numerical implementation"
   ]
  },
  {
   "cell_type": "markdown",
   "metadata": {},
   "source": [
    "We build a routine that, given the (time-dependent) value of the Rabi frequency and the initial condition\n",
    "compute the Bloch vector in the RF"
   ]
  },
  {
   "cell_type": "code",
   "execution_count": 91,
   "metadata": {},
   "outputs": [],
   "source": [
    "def eval_integral(time,func):\n",
    "    \"\"\"\n",
    "    Given the time and the func arrays compute the integral of\n",
    "    func from the initial time[0] to all the values of t in time.\n",
    "    Return the array with the values of the integral\n",
    "    \"\"\"\n",
    "    from scipy import integrate as I \n",
    "    inte = [0]\n",
    "    for ind in range(len(time)-1):\n",
    "        inte.append(I.simps(y=func[:ind+1],x=time[:ind+1]))\n",
    "    return np.array(inte) \n",
    "\n",
    "def eval_uprime(time,Omega_r,u0=[0.,0.,-1.],delta=0,constant_field=False):\n",
    "    \"\"\"\n",
    "    Compute the Bloch vector in the RF in function of the time\n",
    "    \n",
    "    Args:\n",
    "        time (np.array) : the time samplings\n",
    "        Omega_r (np.array) : array with the Rabi field in function of the time. If\n",
    "                             constant_field = True the method select the first value of\n",
    "                             Omega_r and build a constant array with that value\n",
    "        delta : the value of the detuning\n",
    "        u0 : the initial condition for the Bloch vector\n",
    "    \"\"\"\n",
    "    \n",
    "    if constant_field is True:\n",
    "        Omega_r = Omega_r[0]*np.array([1 for ind in range(len(time))])\n",
    "    Delta = np.sqrt(delta**2+Omega_r)\n",
    "    theta = eval_integral(time,Delta)\n",
    "    # define two array useful to write the u_1\n",
    "    d_over_D = delta/Delta\n",
    "    O_over_D = Omega_r/Delta\n",
    "    \n",
    "    u1 = d_over_D*u0[1]*np.sin(theta) + (d_over_D**2*u0[0] - d_over_D*O_over_D*u0[2])*np.cos(theta) + \\\n",
    "         O_over_D**2*u0[0] + d_over_D*O_over_D*u0[2]\n",
    "    u2 = u0[1]*np.cos(theta) - (d_over_D*u0[0]-O_over_D*u0[2])*np.sin(theta)\n",
    "    u3 = -O_over_D*u0[1]*np.sin(theta) - (O_over_D*d_over_D*u0[0] - O_over_D**2*u0[2])*np.cos(theta) + \\\n",
    "         d_over_D*O_over_D*u0[0]+d_over_D**2*u0[2]\n",
    "    \n",
    "    return [u1,u2,u3]\n",
    "    "
   ]
  },
  {
   "cell_type": "code",
   "execution_count": 92,
   "metadata": {},
   "outputs": [],
   "source": [
    "T = 600 # fs - lenght of the simulation\n",
    "dt = 1 # fs - resolution of time sampling\n",
    "N = int(T/dt) # number of sampled points\n",
    "A = 0.04 # effective intensity of the pump\n",
    "width = 50 # fs\n",
    "t0 = 3*width"
   ]
  },
  {
   "cell_type": "code",
   "execution_count": 93,
   "metadata": {},
   "outputs": [],
   "source": [
    "time = np.linspace(0,T,N+1)\n",
    "Omega_r = A*np.exp(-0.5*((time-t0)/width)**2) # gaussian\n",
    "#Omega_r = np.array([A for ind in range(len(time))]) # constant"
   ]
  },
  {
   "cell_type": "code",
   "execution_count": 97,
   "metadata": {},
   "outputs": [],
   "source": [
    "u = eval_uprime(time,Omega_r,delta=0.)"
   ]
  },
  {
   "cell_type": "code",
   "execution_count": 98,
   "metadata": {},
   "outputs": [
    {
     "data": {
      "text/plain": [
       "<matplotlib.legend.Legend at 0x7f8f99a30fd0>"
      ]
     },
     "execution_count": 98,
     "metadata": {},
     "output_type": "execute_result"
    },
    {
     "data": {
      "image/png": "[encoded data removed]",
      "text/plain": [
       "<Figure size 432x288 with 1 Axes>"
      ]
     },
     "metadata": {},
     "output_type": "display_data"
    }
   ],
   "source": [
    "plt.plot(time,u[0],label='x')\n",
    "plt.plot(time,u[1],label='y')\n",
    "plt.plot(time,u[2],label='z')\n",
    "plt.legend()"
   ]
  },
  {
   "cell_type": "code",
   "execution_count": null,
   "metadata": {},
   "outputs": [],
   "source": []
  },
  {
   "cell_type": "code",
   "execution_count": null,
   "metadata": {},
   "outputs": [],
   "source": []
  },
  {
   "cell_type": "code",
   "execution_count": null,
   "metadata": {},
   "outputs": [],
   "source": []
  },
  {
   "cell_type": "code",
   "execution_count": null,
   "metadata": {},
   "outputs": [],
   "source": []
  },
  {
   "cell_type": "code",
   "execution_count": null,
   "metadata": {},
   "outputs": [],
   "source": []
  },
  {
   "cell_type": "code",
   "execution_count": null,
   "metadata": {},
   "outputs": [],
   "source": []
  },
  {
   "cell_type": "code",
   "execution_count": null,
   "metadata": {},
   "outputs": [],
   "source": [
    "#################################################################"
   ]
  },
  {
   "cell_type": "markdown",
   "metadata": {},
   "source": [
    "### Solution for a gaussian pump"
   ]
  },
  {
   "cell_type": "code",
   "execution_count": 6,
   "metadata": {},
   "outputs": [],
   "source": [
    "def eval_uprime_delta0(time,Omega_r,uprime0=[0.,0.,-1.]):\n",
    "    \"\"\"\n",
    "    Compute the Bloch vector in the RF (for zero detuning)\n",
    "    \"\"\"\n",
    "    u1p = np.array([uprime0[0] for ind in range(len(time))])\n",
    "    rho0 = np.sqrt(uprime0[1]**2+uprime0[2]**2)\n",
    "    theta0 = np.arctan2(uprime0[2],uprime0[1])\n",
    "    theta = theta0 - eval_integral(time,Omega_r) \n",
    "    u2p = rho0*np.cos(theta)\n",
    "    u3p = rho0*np.sin(theta)\n",
    "    return [u1p,u2p,u3p]"
   ]
  },
  {
   "cell_type": "code",
   "execution_count": 7,
   "metadata": {},
   "outputs": [],
   "source": [
    "T = 600 # fs - lenght of the simulation\n",
    "dt = 0.1 # fs - resolution of time sampling\n",
    "N = int(T/dt) # number of sampled points\n",
    "A = 0.04 # effective intensity of the pump\n",
    "width = 50 # fs\n",
    "t0 = 3*width"
   ]
  },
  {
   "cell_type": "code",
   "execution_count": 8,
   "metadata": {},
   "outputs": [],
   "source": [
    "time = np.linspace(0,T,N+1)\n",
    "Omega_r = A*np.exp(-0.5*((time-t0)/width)**2) # gaussian\n",
    "#Omega_r = np.array([A for ind in range(len(time))]) # constant"
   ]
  },
  {
   "cell_type": "code",
   "execution_count": 9,
   "metadata": {},
   "outputs": [
    {
     "data": {
      "text/plain": [
       "[<matplotlib.lines.Line2D at 0x7f8fb454a0f0>]"
      ]
     },
     "execution_count": 9,
     "metadata": {},
     "output_type": "execute_result"
    },
    {
     "data": {
      "image/png": "[encoded data removed]",
      "text/plain": [
       "<Figure size 432x288 with 1 Axes>"
      ]
     },
     "metadata": {},
     "output_type": "display_data"
    }
   ],
   "source": [
    "plt.plot(time,Omega_r)"
   ]
  },
  {
   "cell_type": "code",
   "execution_count": 10,
   "metadata": {},
   "outputs": [],
   "source": [
    "uprime = eval_uprime_delta0(time,Omega_r)\n",
    "carriers = 0.5*(1+uprime[2])"
   ]
  },
  {
   "cell_type": "code",
   "execution_count": 11,
   "metadata": {},
   "outputs": [
    {
     "data": {
      "image/png": "[encoded data removed]",
      "text/plain": [
       "<Figure size 432x288 with 1 Axes>"
      ]
     },
     "metadata": {},
     "output_type": "display_data"
    },
    {
     "data": {
      "image/png": "[encoded data removed]",
      "text/plain": [
       "<Figure size 432x288 with 1 Axes>"
      ]
     },
     "metadata": {},
     "output_type": "display_data"
    }
   ],
   "source": [
    "plt.plot(time,uprime[0],label='u1p')\n",
    "plt.plot(time,uprime[1],label='u2p')\n",
    "plt.plot(time,uprime[2],label='u3p')\n",
    "plt.title('Polarization')\n",
    "plt.legend()\n",
    "plt.show()\n",
    "\n",
    "plt.plot(time,carriers,label='carriers')\n",
    "plt.title('Carriers')\n",
    "plt.show()"
   ]
  },
  {
   "cell_type": "code",
   "execution_count": 12,
   "metadata": {},
   "outputs": [],
   "source": [
    "ind0 = np.where(uprime[2] > 0)[0][0] -1"
   ]
  },
  {
   "cell_type": "code",
   "execution_count": 13,
   "metadata": {},
   "outputs": [
    {
     "data": {
      "text/plain": [
       "125.9"
      ]
     },
     "execution_count": 13,
     "metadata": {},
     "output_type": "execute_result"
    }
   ],
   "source": [
    "time[ind0]"
   ]
  },
  {
   "cell_type": "code",
   "execution_count": 14,
   "metadata": {},
   "outputs": [
    {
     "data": {
      "text/plain": [
       "1.5683624017698818"
      ]
     },
     "execution_count": 14,
     "metadata": {},
     "output_type": "execute_result"
    }
   ],
   "source": [
    "inte = eval_integral(time,Omega_r)\n",
    "inte[ind0]"
   ]
  },
  {
   "cell_type": "code",
   "execution_count": 15,
   "metadata": {},
   "outputs": [
    {
     "data": {
      "text/plain": [
       "1.5707963267948966"
      ]
     },
     "execution_count": 15,
     "metadata": {},
     "output_type": "execute_result"
    }
   ],
   "source": [
    "np.pi/2"
   ]
  },
  {
   "cell_type": "markdown",
   "metadata": {},
   "source": [
    "We observe that $u'_3(t^*) = 0$ if $t^*$ satisfies the condition\n",
    "$$\n",
    "\\int_0^{t^*}dt'\\Omega_r(t') = \\pi /2\n",
    "$$"
   ]
  },
  {
   "cell_type": "markdown",
   "metadata": {},
   "source": [
    "It is interesting to rotate back the polarization in the original frame..."
   ]
  },
  {
   "cell_type": "code",
   "execution_count": null,
   "metadata": {},
   "outputs": [],
   "source": []
  },
  {
   "cell_type": "code",
   "execution_count": null,
   "metadata": {},
   "outputs": [],
   "source": []
  },
  {
   "cell_type": "markdown",
   "metadata": {},
   "source": [
    "A delta of 0.1 eV produces a frequency"
   ]
  },
  {
   "cell_type": "code",
   "execution_count": 258,
   "metadata": {},
   "outputs": [],
   "source": [
    "from mppi import Utilities as U"
   ]
  },
  {
   "cell_type": "code",
   "execution_count": 262,
   "metadata": {},
   "outputs": [
    {
     "data": {
      "text/plain": [
       "0.024179892426250682"
      ]
     },
     "execution_count": 262,
     "metadata": {},
     "output_type": "execute_result"
    }
   ],
   "source": [
    "h = U.Planck_ev_ps*1e3\n",
    "0.1/h # fs^-1"
   ]
  },
  {
   "cell_type": "markdown",
   "metadata": {},
   "source": [
    "This number has to be compared with $\\Omega_r$ (or with its integral divided by the time length) to see if the detuning can be neglected"
   ]
  },
  {
   "cell_type": "code",
   "execution_count": null,
   "metadata": {},
   "outputs": [],
   "source": []
  },
  {
   "cell_type": "code",
   "execution_count": null,
   "metadata": {},
   "outputs": [],
   "source": []
  },
  {
   "cell_type": "code",
   "execution_count": null,
   "metadata": {},
   "outputs": [],
   "source": []
  },
  {
   "cell_type": "code",
   "execution_count": null,
   "metadata": {},
   "outputs": [],
   "source": []
  }
 ],
 "metadata": {
  "kernelspec": {
   "display_name": "Python 3",
   "language": "python",
   "name": "python3"
  },
  "language_info": {
   "codemirror_mode": {
    "name": "ipython",
    "version": 3
   },
   "file_extension": ".py",
   "mimetype": "text/x-python",
   "name": "python",
   "nbconvert_exporter": "python",
   "pygments_lexer": "ipython3",
   "version": "3.6.9"
  }
 },
 "nbformat": 4,
 "nbformat_minor": 4
}
