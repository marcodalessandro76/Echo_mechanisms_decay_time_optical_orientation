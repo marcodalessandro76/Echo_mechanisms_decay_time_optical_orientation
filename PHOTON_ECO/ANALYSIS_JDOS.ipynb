{
 "cells": [
  {
   "cell_type": "code",
   "execution_count": 1,
   "metadata": {},
   "outputs": [],
   "source": [
    "# useful to autoreload the module without restarting the kernel\n",
    "%load_ext autoreload\n",
    "%autoreload"
   ]
  },
  {
   "cell_type": "code",
   "execution_count": 1,
   "metadata": {},
   "outputs": [],
   "source": [
    "import numpy as np\n",
    "import matplotlib.pyplot as plt\n",
    "\n",
    "from mppi import Parsers as P, Utilities as U\n",
    "from mppi.Utilities import Constants as C\n",
    "from mppi.Utilities import Dos\n",
    "\n",
    "h_red = C.Planck_reduced_ev_ps*1e3 # hbar in eV*fs\n",
    "h = C.Planck_ev_ps*1e3 # h in eV*fs"
   ]
  },
  {
   "cell_type": "markdown",
   "metadata": {},
   "source": [
    "# Analysis of the JDOS"
   ]
  },
  {
   "cell_type": "markdown",
   "metadata": {},
   "source": [
    "We study the JDOS of the transition."
   ]
  },
  {
   "cell_type": "code",
   "execution_count": 3,
   "metadata": {},
   "outputs": [],
   "source": [
    "ref_run_dir = 'RT_Echo_k509-activated-energy_1.46-width_0.025/FixSymm'\n",
    "#ref_outpath = 'RT_Echo_k509-activated-energy_1.46-width_0.025/FixSymm/0.5ps-direct-decay-int_1e4_1e4_extended-bands/'\n",
    "ref_outpath = 'RT_Echo_k509-activated-energy_1.46-width_0.025/FixSymm/0.5ps-direct-decay-int_1e4_1e4/'"
   ]
  },
  {
   "cell_type": "code",
   "execution_count": 4,
   "metadata": {},
   "outputs": [],
   "source": [
    "scissor = 0.9548 # (eV) (taken from QE_Analysis it gives a direct gap of 1.42 eV)\n",
    "energy = 1.46 # eV energy of the pulse\n",
    "omega = energy/h_red # angular frequency of the pulse\n",
    "period = h/energy # period of the pulse fs"
   ]
  },
  {
   "cell_type": "code",
   "execution_count": 5,
   "metadata": {},
   "outputs": [
    {
     "name": "stdout",
     "output_type": "stream",
     "text": [
      "Parse file RT_Echo_k509-activated-energy_1.46-width_0.025/FixSymm/0.5ps-direct-decay-int_1e4_1e4/o-0.5ps-direct-decay-int_1e4_1e4.polarization\n",
      "Parse file RT_Echo_k509-activated-energy_1.46-width_0.025/FixSymm/0.5ps-direct-decay-int_1e4_1e4/o-0.5ps-direct-decay-int_1e4_1e4.carriers\n",
      "Parse file RT_Echo_k509-activated-energy_1.46-width_0.025/FixSymm/0.5ps-direct-decay-int_1e4_1e4/o-0.5ps-direct-decay-int_1e4_1e4.external_field\n",
      "Parse file RT_Echo_k509-activated-energy_1.46-width_0.025/FixSymm/0.5ps-direct-decay-int_1e4_1e4/o-0.5ps-direct-decay-int_1e4_1e4.current\n",
      "Parse file : RT_Echo_k509-activated-energy_1.46-width_0.025/FixSymm/SAVE/ns.db1\n",
      "Parse file : RT_Echo_k509-activated-energy_1.46-width_0.025/FixSymm/0.5ps-direct-decay-int_1e4_1e4/ndb.dipoles\n",
      "Spin dipoles not found in the ndb.dipoles\n",
      "Parse file : RT_Echo_k509-activated-energy_1.46-width_0.025/FixSymm/0.5ps-direct-decay-int_1e4_1e4/ndb.RT_G_PAR\n"
     ]
    }
   ],
   "source": [
    "ref_results = P.YamboParser.from_path(ref_run_dir,ref_outpath)"
   ]
  },
  {
   "cell_type": "code",
   "execution_count": 21,
   "metadata": {},
   "outputs": [],
   "source": [
    "trans_vtoc1 = ref_results.dft.get_transitions(initial=[1,2,3],final=[4],set_scissor=scissor)\n",
    "trans_vtoc2 = ref_results.dft.get_transitions(initial=[1,2,3],final=[5],set_scissor=scissor)\n",
    "trans_c1toc2 = ref_results.dft.get_transitions(initial=[4],final=[5],set_scissor=scissor)"
   ]
  },
  {
   "cell_type": "code",
   "execution_count": 25,
   "metadata": {},
   "outputs": [
    {
     "data": {
      "image/png": "[encoded data removed]",
      "text/plain": [
       "<Figure size 432x288 with 1 Axes>"
      ]
     },
     "metadata": {
      "needs_background": "light"
     },
     "output_type": "display_data"
    }
   ],
   "source": [
    "dos = Dos()\n",
    "dos.append(trans_vtoc1.flatten(),minVal=0,maxVal=3,eta=1e-3,label='v to c1')\n",
    "dos.append(trans_vtoc2.flatten(),minVal=2,maxVal=6,eta=1e-3,label='v to c2')\n",
    "dos.append(trans_c1toc2.flatten(),minVal=2,maxVal=4,eta=1e-3,label='c1 to c2')\n",
    "dos.plot(plt)"
   ]
  },
  {
   "cell_type": "markdown",
   "metadata": {},
   "source": [
    "From this plot we see that if we use this k sampling we pulse is not able to\n",
    "activate transition different from the leading ones even if we consider pulses with\n",
    "large energy spread."
   ]
  },
  {
   "cell_type": "code",
   "execution_count": null,
   "metadata": {},
   "outputs": [],
   "source": []
  },
  {
   "cell_type": "code",
   "execution_count": null,
   "metadata": {},
   "outputs": [],
   "source": []
  },
  {
   "cell_type": "code",
   "execution_count": null,
   "metadata": {},
   "outputs": [],
   "source": []
  },
  {
   "cell_type": "code",
   "execution_count": null,
   "metadata": {},
   "outputs": [],
   "source": []
  },
  {
   "cell_type": "code",
   "execution_count": null,
   "metadata": {},
   "outputs": [],
   "source": []
  },
  {
   "cell_type": "code",
   "execution_count": null,
   "metadata": {},
   "outputs": [],
   "source": []
  },
  {
   "cell_type": "code",
   "execution_count": null,
   "metadata": {},
   "outputs": [],
   "source": []
  },
  {
   "cell_type": "code",
   "execution_count": null,
   "metadata": {},
   "outputs": [],
   "source": []
  }
 ],
 "metadata": {
  "kernelspec": {
   "display_name": "Python 3",
   "language": "python",
   "name": "python3"
  },
  "language_info": {
   "codemirror_mode": {
    "name": "ipython",
    "version": 3
   },
   "file_extension": ".py",
   "mimetype": "text/x-python",
   "name": "python",
   "nbconvert_exporter": "python",
   "pygments_lexer": "ipython3",
   "version": "3.8.10"
  }
 },
 "nbformat": 4,
 "nbformat_minor": 4
}
