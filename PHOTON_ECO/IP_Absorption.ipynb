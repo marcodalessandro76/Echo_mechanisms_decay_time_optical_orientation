{
 "cells": [
  {
   "cell_type": "code",
   "execution_count": 1,
   "metadata": {},
   "outputs": [],
   "source": [
    "# useful to autoreload the module without restarting the kernel\n",
    "%load_ext autoreload\n",
    "%autoreload 2"
   ]
  },
  {
   "cell_type": "code",
   "execution_count": 2,
   "metadata": {},
   "outputs": [],
   "source": [
    "from mppi import InputFiles as I, Calculators as C, Datasets as D, Utilities as U, Parsers as P\n",
    "from mppi.Models import TwoLevelSystems as TLS\n",
    "from mppi.Utilities import Constants as Const\n",
    "import matplotlib.pyplot as plt\n",
    "import numpy as np\n",
    "import os, yaml\n",
    "\n",
    "h_red = Const.Planck_reduced_ev_ps*1e3 # hbar in eV*fs\n",
    "h = Const.Planck_ev_ps*1e3 # h in eV*fs"
   ]
  },
  {
   "cell_type": "code",
   "execution_count": 3,
   "metadata": {},
   "outputs": [],
   "source": [
    "omp = 1\n",
    "mpi = 4"
   ]
  },
  {
   "cell_type": "code",
   "execution_count": 4,
   "metadata": {},
   "outputs": [
    {
     "name": "stdout",
     "output_type": "stream",
     "text": [
      "Initialize a Yambo calculator with scheduler direct\n"
     ]
    }
   ],
   "source": [
    "code = C.YamboCalculator(omp=omp,mpi=mpi,executable='yambo_rt')"
   ]
  },
  {
   "cell_type": "markdown",
   "metadata": {
    "tags": []
   },
   "source": [
    "# Computation of the IP Absorption spectrum"
   ]
  },
  {
   "cell_type": "markdown",
   "metadata": {},
   "source": [
    "We compute the IP absorption spectrum using Yambo"
   ]
  },
  {
   "cell_type": "code",
   "execution_count": 8,
   "metadata": {},
   "outputs": [],
   "source": [
    "# analysis with k sampling volume of 0.06 (1000 points)     \n",
    "run_dir = 'ABS-IP_k1000_kspan0.06'\n",
    "source_dir = 'NSCF/bnds_8-kpoints_1000-sampling_random_close_Gamma_kspan0.06.save'"
   ]
  },
  {
   "cell_type": "code",
   "execution_count": 21,
   "metadata": {},
   "outputs": [
    {
     "name": "stdout",
     "output_type": "stream",
     "text": [
      "Create folder ABS-IP_k1000_kspan0.06\n",
      "Executing command: cd NSCF/bnds_8-kpoints_1000-sampling_random_close_Gamma_kspan0.06.save; p2y -a 2\n",
      "Create a symlink of /home/marco/Data/RICERCA/DFT AND MANY BODY/OPTICAL ORIENTATION/Echo mechanisms and decay time/PHOTON_ECO/NSCF/bnds_8-kpoints_1000-sampling_random_close_Gamma_kspan0.06.save/SAVE in ABS-IP_k1000_kspan0.06\n",
      "Executing command: cd ABS-IP_k1000_kspan0.06;OMP_NUM_THREADS=1 yambo\n"
     ]
    }
   ],
   "source": [
    "U.build_SAVE(source_dir,run_dir,make_link=True)"
   ]
  },
  {
   "cell_type": "code",
   "execution_count": 12,
   "metadata": {},
   "outputs": [
    {
     "data": {
      "text/plain": [
       "0.016542670784"
      ]
     },
     "execution_count": 12,
     "metadata": {},
     "output_type": "execute_result"
    }
   ],
   "source": [
    "h/250"
   ]
  },
  {
   "cell_type": "code",
   "execution_count": 14,
   "metadata": {},
   "outputs": [
    {
     "data": {
      "text/plain": [
       "{'args': 'yambo -o c',\n",
       " 'folder': 'ABS-IP_k1000_kspan0.06',\n",
       " 'filename': 'yambo.in',\n",
       " 'arguments': ['chi', 'optics'],\n",
       " 'variables': {'X_Threads': [0.0, ''],\n",
       "  'DIP_Threads': [0.0, ''],\n",
       "  'ETStpsXd': [100.0, ''],\n",
       "  'Chimod': 'IP',\n",
       "  'QpntsRXd': [[1, 1], ''],\n",
       "  'BndsRnXd': [[2, 8], ''],\n",
       "  'EnRngeXd': [[0, 6], 'eV'],\n",
       "  'DmRngeXd': [[0.008271335392, 0.008271335392], 'eV'],\n",
       "  'LongDrXd': [[1.0, 1.0, 1.0], ''],\n",
       "  'XfnQP_E': [[0.95477, 1.0, 1.0], '']}}"
      ]
     },
     "execution_count": 14,
     "metadata": {},
     "output_type": "execute_result"
    }
   ],
   "source": [
    "T2 = 250 # damping time in fs\n",
    "eta = h / T2 # eta damping in eV \n",
    "\n",
    "inp = I.YamboInput('yambo -o c',folder=run_dir)\n",
    "inp['variables']['LongDrXd'] = [[1.00,1.00,1.00],''] # electric field\n",
    "inp['variables']['XfnQP_E'] = [[0.95477,1.00,1.00],''] # scissor\n",
    "inp['variables']['DmRngeXd'] = [[eta/2,eta/2],'eV'] # damping range\n",
    "inp['variables']['EnRngeXd'] = [[0,6],'eV'] # energy range\n",
    "inp['variables']['BndsRnXd'] = [[2,8],''] # bands used for transitions\n",
    "inp['variables']['QpntsRXd'] = [[1,1],''] # momentum transfer\n",
    "inp"
   ]
  },
  {
   "cell_type": "code",
   "execution_count": 19,
   "metadata": {},
   "outputs": [
    {
     "name": "stdout",
     "output_type": "stream",
     "text": [
      "delete folder: ABS-IP_k1000_kspan0.06/ip_abs\n",
      "run command: mpirun -np 4 yambo_rt -F ip_abs.in -J ip_abs -C ip_abs\n",
      "computation ip_abs is running...\n",
      "computation ip_abs ended\n",
      "\n",
      "        There are no o-* files.\n",
      "        Maybe you have performed a ypp computation or wait_end_run and/or\n",
      "        the dry_run option are active?\n",
      "        Otherwise a possible error has occured during the computation\n",
      "        \n",
      "Game_over string not found in report. Check the computation!\n"
     ]
    },
    {
     "data": {
      "text/plain": [
       "{'output': [],\n",
       " 'report': 'ABS-IP_k1000_kspan0.06/ip_abs/r-ip_abs_optics_chi',\n",
       " 'dft': 'ABS-IP_k1000_kspan0.06/SAVE/ns.db1'}"
      ]
     },
     "execution_count": 19,
     "metadata": {},
     "output_type": "execute_result"
    }
   ],
   "source": [
    "name = 'ip_abs'\n",
    "result = code.run(input=inp,name=name,run_dir=run_dir,skip=False)\n",
    "result"
   ]
  },
  {
   "cell_type": "code",
   "execution_count": null,
   "metadata": {},
   "outputs": [],
   "source": []
  },
  {
   "cell_type": "code",
   "execution_count": null,
   "metadata": {},
   "outputs": [],
   "source": [
    "data = P.YamboParser(result['output'][0])"
   ]
  },
  {
   "cell_type": "code",
   "execution_count": null,
   "metadata": {},
   "outputs": [],
   "source": [
    "eps = data['eps_q1_ip']\n",
    "energy = eps['col0']\n",
    "eps_im = eps['col1']\n",
    "eps_re = eps['col2']"
   ]
  },
  {
   "cell_type": "code",
   "execution_count": null,
   "metadata": {},
   "outputs": [],
   "source": [
    "plt.plot(energy,eps_im)"
   ]
  },
  {
   "cell_type": "code",
   "execution_count": null,
   "metadata": {},
   "outputs": [],
   "source": []
  },
  {
   "cell_type": "code",
   "execution_count": null,
   "metadata": {},
   "outputs": [],
   "source": []
  }
 ],
 "metadata": {
  "kernelspec": {
   "display_name": "Python 3",
   "language": "python",
   "name": "python3"
  },
  "language_info": {
   "codemirror_mode": {
    "name": "ipython",
    "version": 3
   },
   "file_extension": ".py",
   "mimetype": "text/x-python",
   "name": "python",
   "nbconvert_exporter": "python",
   "pygments_lexer": "ipython3",
   "version": "3.8.10"
  }
 },
 "nbformat": 4,
 "nbformat_minor": 4
}
