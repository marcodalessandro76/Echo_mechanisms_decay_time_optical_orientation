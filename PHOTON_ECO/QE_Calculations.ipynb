{
 "cells": [
  {
   "cell_type": "code",
   "execution_count": 1,
   "metadata": {},
   "outputs": [],
   "source": [
    "# useful to autoreload the module without restarting the kernel\n",
    "%load_ext autoreload\n",
    "%autoreload 2"
   ]
  },
  {
   "cell_type": "code",
   "execution_count": 2,
   "metadata": {},
   "outputs": [],
   "source": [
    "from mppi import InputFiles as I, Calculators as C, Datasets as D, Utilities as U, Parsers as P\n",
    "import matplotlib.pyplot as plt\n",
    "import numpy as np\n",
    "import yaml, os"
   ]
  },
  {
   "cell_type": "code",
   "execution_count": 3,
   "metadata": {},
   "outputs": [],
   "source": [
    "omp = 1\n",
    "mpi = 16"
   ]
  },
  {
   "cell_type": "code",
   "execution_count": 4,
   "metadata": {},
   "outputs": [
    {
     "name": "stdout",
     "output_type": "stream",
     "text": [
      "Initialize a QuantumESPRESSO calculator with scheduler direct\n",
      "Initialize a QuantumESPRESSO calculator with scheduler slurm\n"
     ]
    },
    {
     "data": {
      "text/plain": [
       "{'omp': 1,\n",
       " 'mpi': 16,\n",
       " 'mpi_run': 'mpirun -np',\n",
       " 'executable': 'pw.x',\n",
       " 'scheduler': 'slurm',\n",
       " 'skip': True,\n",
       " 'clean_restart': True,\n",
       " 'dry_run': False,\n",
       " 'wait_end_run': True,\n",
       " 'sbatch_options': ['--partition=all12h'],\n",
       " 'activate_BeeOND': True,\n",
       " 'verbose': True}"
      ]
     },
     "execution_count": 4,
     "metadata": {},
     "output_type": "execute_result"
    }
   ],
   "source": [
    "#code = C.QeCalculator(omp=omp,mpi=mpi) \n",
    "code = C.QeCalculator(omp=omp,mpi=mpi,scheduler='slurm',sbatch_options=['--partition=all12h'])\n",
    "code.global_options()"
   ]
  },
  {
   "cell_type": "markdown",
   "metadata": {},
   "source": [
    "# DFT analysis of GaAs"
   ]
  },
  {
   "cell_type": "markdown",
   "metadata": {},
   "source": [
    "This notebook contains the analysis of the GaAs (__without__ SO interaction) performed with QuantumESPRESSO. In particular\n",
    "\n",
    "* GS convergence for the energy cutoff, the number of kpoints and the equilibrium lattice constant\n",
    "* Plot of the band structure along a path and determination of the value of the scissor nedded to set the gap to 1.42 eV, that correspond\n",
    "   to the experimental value at 300 K.\n",
    "* NSCF computations performed on various kpoints samplings, needed for the subsequent RT analysis.\n",
    "* Analysis of the Dos\n",
    "* Analysis of the JDos"
   ]
  },
  {
   "cell_type": "markdown",
   "metadata": {},
   "source": [
    "## GS convergence analysis"
   ]
  },
  {
   "cell_type": "code",
   "execution_count": 4,
   "metadata": {},
   "outputs": [],
   "source": [
    "run_dir = 'GS_convergence'"
   ]
  },
  {
   "cell_type": "markdown",
   "metadata": {},
   "source": [
    "We define a basic input object for scf calculations"
   ]
  },
  {
   "cell_type": "code",
   "execution_count": 5,
   "metadata": {},
   "outputs": [
    {
     "data": {
      "text/plain": [
       "{'control': {'calculation': \"'scf'\",\n",
       "  'verbosity': \"'high'\",\n",
       "  'pseudo_dir': \"'../pseudos'\"},\n",
       " 'system': {'force_symmorphic': '.true.',\n",
       "  'ibrav': 2,\n",
       "  'celldm(1)': 10.6,\n",
       "  'occupations': \"'fixed'\",\n",
       "  'ntyp': '2',\n",
       "  'nat': '2'},\n",
       " 'electrons': {'conv_thr': 1e-06, 'diago_full_acc': '.false.'},\n",
       " 'ions': {},\n",
       " 'cell': {},\n",
       " 'atomic_species': {'Ga': ['1.0', 'Ga_hamlu.fhi.UPF'],\n",
       "  'As': ['1.0', 'As_hamlu.fhi.UPF']},\n",
       " 'atomic_positions': {'type': 'alat',\n",
       "  'values': [['Ga', [0.0, 0.0, 0.0]], ['As', [0.25, 0.25, 0.25]]]},\n",
       " 'kpoints': {},\n",
       " 'cell_parameters': {}}"
      ]
     },
     "execution_count": 5,
     "metadata": {},
     "output_type": "execute_result"
    }
   ],
   "source": [
    "inp = I.PwInput()\n",
    "inp.set_scf(force_symmorphic=True,conv_thr=1e-6)\n",
    "inp.set_pseudo_dir(pseudo_dir='../pseudos')\n",
    "inp.set_lattice(2,celldm1=10.6) #first guess to the celldm1 to be checked later\n",
    "inp.set_occupations(occupations='fixed')\n",
    "inp.add_atom('Ga','Ga_hamlu.fhi.UPF')\n",
    "inp.add_atom('As','As_hamlu.fhi.UPF')\n",
    "inp.set_atoms_number(2)\n",
    "inp.set_atomic_positions([['Ga',[0.,0.,0.]],['As',[0.25,0.25,0.25]]],type='alat')\n",
    "inp"
   ]
  },
  {
   "cell_type": "markdown",
   "metadata": {},
   "source": [
    "### Convergence tests on the energy cutoff of the wavefunctions"
   ]
  },
  {
   "cell_type": "markdown",
   "metadata": {},
   "source": [
    "We perform a first seek_convergence procedure using the cutoff energy of the wave functions as free parameter.\n",
    "In this case we set the kpoints sampling on a grid 6,6,6"
   ]
  },
  {
   "cell_type": "code",
   "execution_count": 6,
   "metadata": {},
   "outputs": [],
   "source": [
    "kvalue = 6\n",
    "inp.set_kpoints(type='automatic',points=[kvalue,kvalue,kvalue])"
   ]
  },
  {
   "cell_type": "markdown",
   "metadata": {},
   "source": [
    "We start with the value of 40 Ry"
   ]
  },
  {
   "cell_type": "code",
   "execution_count": 7,
   "metadata": {},
   "outputs": [
    {
     "data": {
      "text/plain": [
       "[40, 50, 60, 70, 80, 90]"
      ]
     },
     "execution_count": 7,
     "metadata": {},
     "output_type": "execute_result"
    }
   ],
   "source": [
    "ecut = [10*i for i in range(4,10)]\n",
    "ecut"
   ]
  },
  {
   "cell_type": "code",
   "execution_count": 8,
   "metadata": {},
   "outputs": [],
   "source": [
    "ecut_conv = D.Dataset(run_dir=run_dir)"
   ]
  },
  {
   "cell_type": "code",
   "execution_count": 10,
   "metadata": {},
   "outputs": [],
   "source": [
    "for e in ecut:\n",
    "    idd = {'ecut' : e, 'k' : kvalue}\n",
    "    inp.set_prefix(D.name_from_id(idd))\n",
    "    inp.set_energy_cutoff(e)\n",
    "    ecut_conv.append_run(id=idd,input=inp,runner=code)"
   ]
  },
  {
   "cell_type": "markdown",
   "metadata": {},
   "source": [
    "We use a postProcessing function to extract the total energy from the results and run a seek_convergence"
   ]
  },
  {
   "cell_type": "code",
   "execution_count": 11,
   "metadata": {},
   "outputs": [],
   "source": [
    "ecut_conv.set_postprocessing_function(D.QE_get_energy)"
   ]
  },
  {
   "cell_type": "code",
   "execution_count": 12,
   "metadata": {},
   "outputs": [
    {
     "name": "stdout",
     "output_type": "stream",
     "text": [
      "Fetching results for id \" {'ecut': 40, 'k': 6} \"\n",
      "Create the sub-directory 'GS_convergence'\n",
      "run 0 command: mpirun -np 8 pw.x -inp ecut_40-k_6.in > ecut_40-k_6.log\n",
      "slurm submit:  cd GS_convergence ; sbatch job_ecut_40-k_6.sh\n",
      "run0_is_running: True \n",
      "Job completed\n",
      "Fetching results for id \" {'ecut': 50, 'k': 6} \"\n",
      "run 0 command: mpirun -np 8 pw.x -inp ecut_50-k_6.in > ecut_50-k_6.log\n",
      "slurm submit:  cd GS_convergence ; sbatch job_ecut_50-k_6.sh\n",
      "run0_is_running: True \n",
      "Job completed\n",
      "Convergence reached in Dataset \"Dataset\" for id \" {'ecut': 40, 'k': 6} \"\n"
     ]
    },
    {
     "data": {
      "text/plain": [
       "({'ecut': 40, 'k': 6}, -12.35957277764044)"
      ]
     },
     "execution_count": 12,
     "metadata": {},
     "output_type": "execute_result"
    }
   ],
   "source": [
    "ecut_conv.seek_convergence(rtol=1e-5)"
   ]
  },
  {
   "cell_type": "markdown",
   "metadata": {},
   "source": [
    "As a further convergence check on ecut_conv we compute the value of the direct gap.\n",
    "\n",
    "First we perform the scf computations for the all the values of ecut since we need them as\n",
    "source directory in the nscf calculations"
   ]
  },
  {
   "cell_type": "code",
   "execution_count": 13,
   "metadata": {},
   "outputs": [
    {
     "name": "stdout",
     "output_type": "stream",
     "text": [
      "Skip the run of ecut_40-k_6\n",
      "Skip the run of ecut_50-k_6\n",
      "run 2 command: mpirun -np 8 pw.x -inp ecut_60-k_6.in > ecut_60-k_6.log\n",
      "run 3 command: mpirun -np 8 pw.x -inp ecut_70-k_6.in > ecut_70-k_6.log\n",
      "run 4 command: mpirun -np 8 pw.x -inp ecut_80-k_6.in > ecut_80-k_6.log\n",
      "run 5 command: mpirun -np 8 pw.x -inp ecut_90-k_6.in > ecut_90-k_6.log\n",
      "slurm submit:  cd GS_convergence ; sbatch job_ecut_60-k_6.sh\n",
      "run2_is_running: True \n",
      "Job completed\n",
      "slurm submit:  cd GS_convergence ; sbatch job_ecut_70-k_6.sh\n",
      "run3_is_running: True \n",
      "Job completed\n",
      "slurm submit:  cd GS_convergence ; sbatch job_ecut_80-k_6.sh\n",
      "run4_is_running: True \n",
      "Job completed\n",
      "slurm submit:  cd GS_convergence ; sbatch job_ecut_90-k_6.sh\n",
      "run5_is_running: True \n",
      "Job completed\n"
     ]
    }
   ],
   "source": [
    "code.update_global_options(multiTask=False)\n",
    "ecut_conv.run()\n",
    "code.update_global_options(multiTask=True)"
   ]
  },
  {
   "cell_type": "markdown",
   "metadata": {},
   "source": [
    "Then we run the nscf computations at $\\Gamma$ with the empty bands to compute the gap.\n",
    "\n",
    "Since the various runs use different source_dir we need to use different calculators"
   ]
  },
  {
   "cell_type": "code",
   "execution_count": 14,
   "metadata": {},
   "outputs": [
    {
     "name": "stdout",
     "output_type": "stream",
     "text": [
      "Initialize a parallel QuantumESPRESSO calculator with scheduler slurm\n",
      "Initialize a parallel QuantumESPRESSO calculator with scheduler slurm\n",
      "Initialize a parallel QuantumESPRESSO calculator with scheduler slurm\n",
      "Initialize a parallel QuantumESPRESSO calculator with scheduler slurm\n",
      "Initialize a parallel QuantumESPRESSO calculator with scheduler slurm\n",
      "Initialize a parallel QuantumESPRESSO calculator with scheduler slurm\n"
     ]
    }
   ],
   "source": [
    "gaps_data = D.Dataset(run_dir=run_dir)\n",
    "num_bands = 6\n",
    "klist = [[0.0,0.0,0.0,1.0]]\n",
    "\n",
    "calcs = []\n",
    "inp.set_nscf(num_bands,force_symmorphic=True,conv_thr=1e-6)\n",
    "inp.set_kpoints(type='tpiba',klist=klist)\n",
    "for ind,e in enumerate(ecut):\n",
    "    source = 'GS_convergence/ecut_%s-k_%s.save'%(e,kvalue)\n",
    "    calcs.append(C.QeCalculator(omp=omp,mpi=mpi,scheduler='slurm'))\n",
    "    inp.set_energy_cutoff(e)\n",
    "    idd = {'ecut': e, 'bands' : num_bands, 'sampling' : 'gamma'} \n",
    "    pref = D.name_from_id(idd)\n",
    "    inp.set_prefix(pref)\n",
    "    gaps_data.append_run(id=idd,input=inp,runner=calcs[ind],source_dir = source, multiTask=False)"
   ]
  },
  {
   "cell_type": "code",
   "execution_count": 15,
   "metadata": {},
   "outputs": [],
   "source": [
    "gaps_data.set_postprocessing_function(D.QE_get_gap)"
   ]
  },
  {
   "cell_type": "code",
   "execution_count": 16,
   "metadata": {},
   "outputs": [
    {
     "name": "stdout",
     "output_type": "stream",
     "text": [
      "Copy source_dir GS_convergence/ecut_40-k_6.save in the GS_convergence/bands_6-ecut_40-sampling_gamma.save\n",
      "run 0 command: mpirun -np 8 pw.x -inp bands_6-ecut_40-sampling_gamma.in > bands_6-ecut_40-sampling_gamma.log\n",
      "slurm submit:  cd GS_convergence ; sbatch job_bands_6-ecut_40-sampling_gamma.sh\n",
      "run0_is_running: True \n",
      "Job completed\n",
      "Copy source_dir GS_convergence/ecut_50-k_6.save in the GS_convergence/bands_6-ecut_50-sampling_gamma.save\n",
      "run 0 command: mpirun -np 8 pw.x -inp bands_6-ecut_50-sampling_gamma.in > bands_6-ecut_50-sampling_gamma.log\n",
      "slurm submit:  cd GS_convergence ; sbatch job_bands_6-ecut_50-sampling_gamma.sh\n",
      "run0_is_running: True \n",
      "Job completed\n",
      "Copy source_dir GS_convergence/ecut_60-k_6.save in the GS_convergence/bands_6-ecut_60-sampling_gamma.save\n",
      "run 0 command: mpirun -np 8 pw.x -inp bands_6-ecut_60-sampling_gamma.in > bands_6-ecut_60-sampling_gamma.log\n",
      "slurm submit:  cd GS_convergence ; sbatch job_bands_6-ecut_60-sampling_gamma.sh\n",
      "run0_is_running: True \n",
      "Job completed\n",
      "Copy source_dir GS_convergence/ecut_70-k_6.save in the GS_convergence/bands_6-ecut_70-sampling_gamma.save\n",
      "run 0 command: mpirun -np 8 pw.x -inp bands_6-ecut_70-sampling_gamma.in > bands_6-ecut_70-sampling_gamma.log\n",
      "slurm submit:  cd GS_convergence ; sbatch job_bands_6-ecut_70-sampling_gamma.sh\n",
      "run0_is_running: True \n",
      "Job completed\n",
      "Copy source_dir GS_convergence/ecut_80-k_6.save in the GS_convergence/bands_6-ecut_80-sampling_gamma.save\n",
      "run 0 command: mpirun -np 8 pw.x -inp bands_6-ecut_80-sampling_gamma.in > bands_6-ecut_80-sampling_gamma.log\n",
      "slurm submit:  cd GS_convergence ; sbatch job_bands_6-ecut_80-sampling_gamma.sh\n",
      "run0_is_running: True \n",
      "Job completed\n",
      "Copy source_dir GS_convergence/ecut_90-k_6.save in the GS_convergence/bands_6-ecut_90-sampling_gamma.save\n",
      "run 0 command: mpirun -np 8 pw.x -inp bands_6-ecut_90-sampling_gamma.in > bands_6-ecut_90-sampling_gamma.log\n",
      "slurm submit:  cd GS_convergence ; sbatch job_bands_6-ecut_90-sampling_gamma.sh\n",
      "run0_is_running: True \n",
      "Job completed\n",
      "Direct gap system\n",
      "=================\n",
      "Gap : 0.3760032799406727 eV\n",
      "Direct gap system\n",
      "=================\n",
      "Gap : 0.3762514503760502 eV\n",
      "Direct gap system\n",
      "=================\n",
      "Gap : 0.37583949169835584 eV\n",
      "Direct gap system\n",
      "=================\n",
      "Gap : 0.3755753159898999 eV\n",
      "Direct gap system\n",
      "=================\n",
      "Gap : 0.37569413720432004 eV\n",
      "Direct gap system\n",
      "=================\n",
      "Gap : 0.3758576764022796 eV\n"
     ]
    },
    {
     "data": {
      "text/plain": [
       "{0: 0.3760032799406727,\n",
       " 1: 0.3762514503760502,\n",
       " 2: 0.37583949169835584,\n",
       " 3: 0.3755753159898999,\n",
       " 4: 0.37569413720432004,\n",
       " 5: 0.3758576764022796}"
      ]
     },
     "execution_count": 16,
     "metadata": {},
     "output_type": "execute_result"
    }
   ],
   "source": [
    "gaps_data.run()"
   ]
  },
  {
   "cell_type": "markdown",
   "metadata": {},
   "source": [
    "To be safe we choose"
   ]
  },
  {
   "cell_type": "code",
   "execution_count": 17,
   "metadata": {},
   "outputs": [],
   "source": [
    "ecut_conv = 60"
   ]
  },
  {
   "cell_type": "markdown",
   "metadata": {},
   "source": [
    "### Convergence tests on the number of kpoints for gs density"
   ]
  },
  {
   "cell_type": "code",
   "execution_count": 18,
   "metadata": {},
   "outputs": [
    {
     "data": {
      "text/plain": [
       "{'control': {'calculation': \"'scf'\",\n",
       "  'verbosity': \"'high'\",\n",
       "  'pseudo_dir': \"'../pseudos'\"},\n",
       " 'system': {'force_symmorphic': '.true.',\n",
       "  'ibrav': 2,\n",
       "  'celldm(1)': 10.6,\n",
       "  'occupations': \"'fixed'\",\n",
       "  'ntyp': '2',\n",
       "  'nat': '2',\n",
       "  'ecutwfc': 60},\n",
       " 'electrons': {'conv_thr': 1e-06, 'diago_full_acc': '.false.'},\n",
       " 'ions': {},\n",
       " 'cell': {},\n",
       " 'atomic_species': {'Ga': ['1.0', 'Ga_hamlu.fhi.UPF'],\n",
       "  'As': ['1.0', 'As_hamlu.fhi.UPF']},\n",
       " 'atomic_positions': {'type': 'alat',\n",
       "  'values': [['Ga', [0.0, 0.0, 0.0]], ['As', [0.25, 0.25, 0.25]]]},\n",
       " 'kpoints': {},\n",
       " 'cell_parameters': {}}"
      ]
     },
     "execution_count": 18,
     "metadata": {},
     "output_type": "execute_result"
    }
   ],
   "source": [
    "inp = I.PwInput()\n",
    "inp.set_scf(force_symmorphic=True,conv_thr=1e-6)\n",
    "inp.set_pseudo_dir(pseudo_dir='../pseudos')\n",
    "inp.set_lattice(2,celldm1=10.6) #first guess to the celldm1 to be checked later\n",
    "inp.set_occupations(occupations='fixed')\n",
    "inp.add_atom('Ga','Ga_hamlu.fhi.UPF')\n",
    "inp.add_atom('As','As_hamlu.fhi.UPF')\n",
    "inp.set_atoms_number(2)\n",
    "inp.set_energy_cutoff(ecut_conv)\n",
    "inp.set_atomic_positions([['Ga',[0.,0.,0.]],['As',[0.25,0.25,0.25]]],type='alat')\n",
    "inp"
   ]
  },
  {
   "cell_type": "code",
   "execution_count": 19,
   "metadata": {},
   "outputs": [],
   "source": [
    "kvalue_conv = D.Dataset(run_dir=run_dir)"
   ]
  },
  {
   "cell_type": "code",
   "execution_count": 20,
   "metadata": {},
   "outputs": [],
   "source": [
    "kvalues = [6,7,8]"
   ]
  },
  {
   "cell_type": "code",
   "execution_count": 21,
   "metadata": {},
   "outputs": [],
   "source": [
    "for k in kvalues:\n",
    "    idd = {'ecut' : ecut_conv, 'k' : k}\n",
    "    inp.set_prefix(D.name_from_id(idd))\n",
    "    inp.set_kpoints(points=[k,k,k])\n",
    "    kvalue_conv.append_run(id=idd,input=inp,runner=code)"
   ]
  },
  {
   "cell_type": "code",
   "execution_count": 22,
   "metadata": {},
   "outputs": [],
   "source": [
    "kvalue_conv.set_postprocessing_function(D.QE_get_energy)"
   ]
  },
  {
   "cell_type": "code",
   "execution_count": 23,
   "metadata": {},
   "outputs": [
    {
     "name": "stdout",
     "output_type": "stream",
     "text": [
      "Fetching results for id \" {'ecut': 60, 'k': 6} \"\n",
      "Skip the run of ecut_60-k_6\n",
      "Job completed\n",
      "Fetching results for id \" {'ecut': 60, 'k': 7} \"\n",
      "run 0 command: mpirun -np 8 pw.x -inp ecut_60-k_7.in > ecut_60-k_7.log\n",
      "slurm submit:  cd GS_convergence ; sbatch job_ecut_60-k_7.sh\n",
      "run0_is_running: True \n",
      "Job completed\n",
      "Convergence reached in Dataset \"Dataset\" for id \" {'ecut': 60, 'k': 6} \"\n"
     ]
    },
    {
     "data": {
      "text/plain": [
       "({'ecut': 60, 'k': 6}, -12.35965059691929)"
      ]
     },
     "execution_count": 23,
     "metadata": {},
     "output_type": "execute_result"
    }
   ],
   "source": [
    "kvalue_conv.seek_convergence(rtol=1e-4)"
   ]
  },
  {
   "cell_type": "markdown",
   "metadata": {},
   "source": [
    "We choose k = 6 that guarantees convergence at the order of 1meV"
   ]
  },
  {
   "cell_type": "code",
   "execution_count": 24,
   "metadata": {},
   "outputs": [],
   "source": [
    "k_conv = 6"
   ]
  },
  {
   "cell_type": "markdown",
   "metadata": {},
   "source": [
    "### Calculation of  the equilibrium lattice constants"
   ]
  },
  {
   "cell_type": "code",
   "execution_count": 25,
   "metadata": {},
   "outputs": [
    {
     "data": {
      "text/plain": [
       "{'control': {'calculation': \"'scf'\",\n",
       "  'verbosity': \"'high'\",\n",
       "  'pseudo_dir': \"'../pseudos'\"},\n",
       " 'system': {'force_symmorphic': '.true.',\n",
       "  'ibrav': 2,\n",
       "  'celldm(1)': 10.6,\n",
       "  'occupations': \"'fixed'\",\n",
       "  'ntyp': '2',\n",
       "  'nat': '2',\n",
       "  'ecutwfc': 60},\n",
       " 'electrons': {'conv_thr': 1e-06, 'diago_full_acc': '.false.'},\n",
       " 'ions': {},\n",
       " 'cell': {},\n",
       " 'atomic_species': {'Ga': ['1.0', 'Ga_hamlu.fhi.UPF'],\n",
       "  'As': ['1.0', 'As_hamlu.fhi.UPF']},\n",
       " 'atomic_positions': {'type': 'alat',\n",
       "  'values': [['Ga', [0.0, 0.0, 0.0]], ['As', [0.25, 0.25, 0.25]]]},\n",
       " 'kpoints': {'type': 'automatic', 'values': ([6, 6, 6], [0.0, 0.0, 0.0])},\n",
       " 'cell_parameters': {}}"
      ]
     },
     "execution_count": 25,
     "metadata": {},
     "output_type": "execute_result"
    }
   ],
   "source": [
    "inp = I.PwInput()\n",
    "inp.set_scf(force_symmorphic=True,conv_thr=1e-6)\n",
    "inp.set_pseudo_dir(pseudo_dir='../pseudos')\n",
    "inp.set_lattice(2,celldm1=10.6) #first guess to the celldm1 to be checked later\n",
    "inp.set_occupations(occupations='fixed')\n",
    "inp.add_atom('Ga','Ga_hamlu.fhi.UPF')\n",
    "inp.add_atom('As','As_hamlu.fhi.UPF')\n",
    "inp.set_atoms_number(2)\n",
    "inp.set_energy_cutoff(ecut_conv)\n",
    "inp.set_kpoints(points=[k_conv,k_conv,k_conv])\n",
    "inp.set_atomic_positions([['Ga',[0.,0.,0.]],['As',[0.25,0.25,0.25]]],type='alat')\n",
    "inp"
   ]
  },
  {
   "cell_type": "code",
   "execution_count": 26,
   "metadata": {},
   "outputs": [],
   "source": [
    "lat_conv = D.Dataset(run_dir=run_dir)"
   ]
  },
  {
   "cell_type": "code",
   "execution_count": 27,
   "metadata": {},
   "outputs": [],
   "source": [
    "lat0 = 10.5\n",
    "scale = 5e-3\n",
    "deltas = [i for i in range(-3,4)]"
   ]
  },
  {
   "cell_type": "code",
   "execution_count": 28,
   "metadata": {},
   "outputs": [],
   "source": [
    "inp.set_energy_cutoff(ecut_conv)\n",
    "inp.set_kpoints(points=[k_conv,k_conv,k_conv])"
   ]
  },
  {
   "cell_type": "code",
   "execution_count": 29,
   "metadata": {},
   "outputs": [],
   "source": [
    "for delta in deltas:\n",
    "    idd = {'lat_delta' : delta}\n",
    "    inp.set_prefix(D.name_from_id(idd))\n",
    "    lat = lat0*(1+delta*scale)\n",
    "    inp.set_lattice(2,celldm1=lat)\n",
    "    lat_conv.append_run(id=idd,input=inp,runner=code,multiTask=False)"
   ]
  },
  {
   "cell_type": "code",
   "execution_count": 30,
   "metadata": {},
   "outputs": [],
   "source": [
    "lat_conv.set_postprocessing_function(D.QE_get_energy)"
   ]
  },
  {
   "cell_type": "code",
   "execution_count": 31,
   "metadata": {},
   "outputs": [
    {
     "name": "stdout",
     "output_type": "stream",
     "text": [
      "run 0 command: mpirun -np 8 pw.x -inp lat_delta_-3.in > lat_delta_-3.log\n",
      "run 1 command: mpirun -np 8 pw.x -inp lat_delta_-2.in > lat_delta_-2.log\n",
      "run 2 command: mpirun -np 8 pw.x -inp lat_delta_-1.in > lat_delta_-1.log\n",
      "run 3 command: mpirun -np 8 pw.x -inp lat_delta_0.in > lat_delta_0.log\n",
      "run 4 command: mpirun -np 8 pw.x -inp lat_delta_1.in > lat_delta_1.log\n",
      "run 5 command: mpirun -np 8 pw.x -inp lat_delta_2.in > lat_delta_2.log\n",
      "run 6 command: mpirun -np 8 pw.x -inp lat_delta_3.in > lat_delta_3.log\n",
      "slurm submit:  cd GS_convergence ; sbatch job_lat_delta_-3.sh\n",
      "run0_is_running: True \n",
      "Job completed\n",
      "slurm submit:  cd GS_convergence ; sbatch job_lat_delta_-2.sh\n",
      "run1_is_running: True \n",
      "Job completed\n",
      "slurm submit:  cd GS_convergence ; sbatch job_lat_delta_-1.sh\n",
      "run2_is_running: True \n",
      "Job completed\n",
      "slurm submit:  cd GS_convergence ; sbatch job_lat_delta_0.sh\n",
      "run3_is_running: True \n",
      "Job completed\n",
      "slurm submit:  cd GS_convergence ; sbatch job_lat_delta_1.sh\n",
      "run4_is_running: True \n",
      "Job completed\n",
      "slurm submit:  cd GS_convergence ; sbatch job_lat_delta_2.sh\n",
      "run5_is_running: True \n",
      "Job completed\n",
      "slurm submit:  cd GS_convergence ; sbatch job_lat_delta_3.sh\n",
      "run6_is_running: True \n",
      "Job completed\n"
     ]
    }
   ],
   "source": [
    "results = lat_conv.run()"
   ]
  },
  {
   "cell_type": "markdown",
   "metadata": {},
   "source": [
    "We perform a quadratic fit of data"
   ]
  },
  {
   "cell_type": "code",
   "execution_count": 32,
   "metadata": {},
   "outputs": [
    {
     "data": {
      "text/plain": [
       "[<matplotlib.lines.Line2D at 0x7f6934322a90>]"
      ]
     },
     "execution_count": 32,
     "metadata": {},
     "output_type": "execute_result"
    },
    {
     "data": {
      "image/png": "[encoded data removed]",
      "text/plain": [
       "<Figure size 432x288 with 1 Axes>"
      ]
     },
     "metadata": {
      "needs_background": "light"
     },
     "output_type": "display_data"
    }
   ],
   "source": [
    "res = [results[i] for i in range(len(deltas))]\n",
    "coeffs = np.polyfit(deltas,res,2)\n",
    "values_fit = np.linspace(deltas[0],deltas[-1],30)\n",
    "res_fit = [coeffs[0]*x**2+coeffs[1]*x+coeffs[2] for x in values_fit]\n",
    "plt.plot(deltas,res)\n",
    "plt.plot(values_fit,res_fit)"
   ]
  },
  {
   "cell_type": "code",
   "execution_count": 33,
   "metadata": {},
   "outputs": [
    {
     "data": {
      "text/plain": [
       "10.556398783283278"
      ]
     },
     "execution_count": 33,
     "metadata": {},
     "output_type": "execute_result"
    }
   ],
   "source": [
    "delta_eq = -coeffs[1]/(2*coeffs[0])\n",
    "lat_eq = lat0*(1+delta_eq*scale)\n",
    "lat_eq"
   ]
  },
  {
   "cell_type": "markdown",
   "metadata": {},
   "source": [
    "This is the value of the equilibrium lattice constants. So to summarize"
   ]
  },
  {
   "cell_type": "code",
   "execution_count": 34,
   "metadata": {},
   "outputs": [],
   "source": [
    "ecut_conv = 60\n",
    "k_conv = 6\n",
    "lat_eq = 10.556"
   ]
  },
  {
   "cell_type": "markdown",
   "metadata": {},
   "source": [
    "We perform a last scf computation for the converged system, that will be used as starting point for the nscf ones"
   ]
  },
  {
   "cell_type": "code",
   "execution_count": 35,
   "metadata": {},
   "outputs": [
    {
     "data": {
      "text/plain": [
       "{'control': {'calculation': \"'scf'\",\n",
       "  'verbosity': \"'high'\",\n",
       "  'prefix': \"'gs_converged'\",\n",
       "  'pseudo_dir': \"'../pseudos'\"},\n",
       " 'system': {'force_symmorphic': '.true.',\n",
       "  'ibrav': 2,\n",
       "  'celldm(1)': 10.556,\n",
       "  'occupations': \"'fixed'\",\n",
       "  'ntyp': '2',\n",
       "  'nat': '2',\n",
       "  'ecutwfc': 60},\n",
       " 'electrons': {'conv_thr': 1e-06, 'diago_full_acc': '.false.'},\n",
       " 'ions': {},\n",
       " 'cell': {},\n",
       " 'atomic_species': {'Ga': ['1.0', 'Ga_hamlu.fhi.UPF'],\n",
       "  'As': ['1.0', 'As_hamlu.fhi.UPF']},\n",
       " 'atomic_positions': {'type': 'alat',\n",
       "  'values': [['Ga', [0.0, 0.0, 0.0]], ['As', [0.25, 0.25, 0.25]]]},\n",
       " 'kpoints': {'type': 'automatic', 'values': ([6, 6, 6], [0.0, 0.0, 0.0])},\n",
       " 'cell_parameters': {}}"
      ]
     },
     "execution_count": 35,
     "metadata": {},
     "output_type": "execute_result"
    }
   ],
   "source": [
    "prefix = 'gs_converged'\n",
    "\n",
    "inp = I.PwInput()\n",
    "inp.set_scf(force_symmorphic=True,conv_thr=1e-6)\n",
    "inp.set_prefix(prefix)\n",
    "inp.set_pseudo_dir(pseudo_dir='../pseudos')\n",
    "inp.set_lattice(2,celldm1=lat_eq) #first guess to the celldm1 to be checked later\n",
    "inp.set_occupations(occupations='fixed')\n",
    "inp.add_atom('Ga','Ga_hamlu.fhi.UPF')\n",
    "inp.add_atom('As','As_hamlu.fhi.UPF')\n",
    "inp.set_atoms_number(2)\n",
    "inp.set_energy_cutoff(ecut_conv)\n",
    "inp.set_kpoints(points=[k_conv,k_conv,k_conv])\n",
    "inp.set_atomic_positions([['Ga',[0.,0.,0.]],['As',[0.25,0.25,0.25]]],type='alat')\n",
    "inp"
   ]
  },
  {
   "cell_type": "code",
   "execution_count": 36,
   "metadata": {},
   "outputs": [
    {
     "name": "stdout",
     "output_type": "stream",
     "text": [
      "run 0 command: mpirun -np 8 pw.x -inp gs_converged.in > gs_converged.log\n",
      "slurm submit:  cd GS_convergence ; sbatch job_gs_converged.sh\n",
      "run0_is_running: True \n",
      "Job completed\n"
     ]
    },
    {
     "data": {
      "text/plain": [
       "{'output': ['GS_convergence/gs_converged.save/data-file-schema.xml']}"
      ]
     },
     "execution_count": 36,
     "metadata": {},
     "output_type": "execute_result"
    }
   ],
   "source": [
    "code.run(run_dir=run_dir,inputs=[inp],names=[prefix])"
   ]
  },
  {
   "cell_type": "markdown",
   "metadata": {},
   "source": [
    "# Analysis of the band structure"
   ]
  },
  {
   "cell_type": "code",
   "execution_count": 37,
   "metadata": {},
   "outputs": [],
   "source": [
    "run_dir = 'QE_bands'"
   ]
  },
  {
   "cell_type": "markdown",
   "metadata": {},
   "source": [
    "We compute the band structure along a path. We use the converged energy_cutoff and lattice parameters."
   ]
  },
  {
   "cell_type": "code",
   "execution_count": 38,
   "metadata": {},
   "outputs": [
    {
     "data": {
      "text/plain": [
       "[[0.5, 0.5, 0.5, 30],\n",
       " [0.0, 0.0, 0.0, 30],\n",
       " [0.0, 0.0, 1.0, 30],\n",
       " [0.0, 1.0, 1.0, 30],\n",
       " [0.0, 0.0, 0.0, 0]]"
      ]
     },
     "execution_count": 38,
     "metadata": {},
     "output_type": "execute_result"
    }
   ],
   "source": [
    "hsp = U.high_sym_fcc\n",
    "klist = U.build_kpath(hsp['L'],hsp['G'],hsp['X'],hsp['K'],hsp['G'],numstep=30)\n",
    "klist"
   ]
  },
  {
   "cell_type": "code",
   "execution_count": 39,
   "metadata": {},
   "outputs": [
    {
     "data": {
      "text/plain": [
       "{'control': {'calculation': \"'bands'\",\n",
       "  'verbosity': \"'high'\",\n",
       "  'pseudo_dir': \"'../pseudos'\",\n",
       "  'prefix': \"'bands'\"},\n",
       " 'system': {'nbnd': 8,\n",
       "  'force_symmorphic': '.true.',\n",
       "  'ibrav': 2,\n",
       "  'celldm(1)': 10.556,\n",
       "  'occupations': \"'fixed'\",\n",
       "  'ntyp': '2',\n",
       "  'nat': '2',\n",
       "  'ecutwfc': 60},\n",
       " 'electrons': {'conv_thr': 1e-06, 'diago_full_acc': '.false.'},\n",
       " 'ions': {},\n",
       " 'cell': {},\n",
       " 'atomic_species': {'Ga': ['1.0', 'Ga_hamlu.fhi.UPF'],\n",
       "  'As': ['1.0', 'As_hamlu.fhi.UPF']},\n",
       " 'atomic_positions': {'type': 'alat',\n",
       "  'values': [['Ga', [0.0, 0.0, 0.0]], ['As', [0.25, 0.25, 0.25]]]},\n",
       " 'kpoints': {'type': 'tpiba_b',\n",
       "  'values': [[0.5, 0.5, 0.5, 30],\n",
       "   [0.0, 0.0, 0.0, 30],\n",
       "   [0.0, 0.0, 1.0, 30],\n",
       "   [0.0, 1.0, 1.0, 30],\n",
       "   [0.0, 0.0, 0.0, 0]]},\n",
       " 'cell_parameters': {}}"
      ]
     },
     "execution_count": 39,
     "metadata": {},
     "output_type": "execute_result"
    }
   ],
   "source": [
    "pref = 'bands' \n",
    "\n",
    "inp = I.PwInput()\n",
    "inp.set_bands(8,force_symmorphic=True,conv_thr=1e-6)\n",
    "inp.set_pseudo_dir(pseudo_dir='../pseudos')\n",
    "inp.set_lattice(2,celldm1=lat_eq)\n",
    "inp.set_occupations(occupations='fixed')\n",
    "inp.add_atom('Ga','Ga_hamlu.fhi.UPF')\n",
    "inp.add_atom('As','As_hamlu.fhi.UPF')\n",
    "inp.set_atoms_number(2)\n",
    "inp.set_atomic_positions([['Ga',[0.,0.,0.]],['As',[0.25,0.25,0.25]]],type='alat')\n",
    "inp.set_energy_cutoff(ecut_conv)\n",
    "inp.set_kpoints(type='tpiba_b',klist=klist)\n",
    "inp.set_prefix(pref)\n",
    "inp"
   ]
  },
  {
   "cell_type": "code",
   "execution_count": 40,
   "metadata": {},
   "outputs": [
    {
     "name": "stdout",
     "output_type": "stream",
     "text": [
      "Create the sub-directory 'QE_bands'\n",
      "Copy source_dir GS_convergence/gs_converged.save in the QE_bands/bands.save\n",
      "run 0 command: mpirun -np 8 pw.x -inp bands.in > bands.log\n",
      "slurm submit:  cd QE_bands ; sbatch job_bands.sh\n",
      "run0_is_running: True \n",
      "run0_is_running: True \n",
      "run0_is_running: True \n",
      "Job completed\n"
     ]
    }
   ],
   "source": [
    "result = code.run(run_dir=run_dir,inputs=[inp],names=[pref],source_dir='GS_convergence/gs_converged.save')"
   ]
  },
  {
   "cell_type": "code",
   "execution_count": 41,
   "metadata": {},
   "outputs": [
    {
     "name": "stdout",
     "output_type": "stream",
     "text": [
      "Apply a scissor of 0.9546929186864358 eV\n"
     ]
    }
   ],
   "source": [
    "bands = U.BandStructure.from_Pw(result['output'][0],hsp,set_gap=1.42)"
   ]
  },
  {
   "cell_type": "code",
   "execution_count": 42,
   "metadata": {},
   "outputs": [
    {
     "name": "stderr",
     "output_type": "stream",
     "text": [
      "/home/dalessandro/Applications/MPPI/mppi/Utilities/BandStructure.py:182: UserWarning: FixedFormatter should only be used together with FixedLocator\n",
      "  ax.set_xticklabels(labels,size=14)\n"
     ]
    },
    {
     "data": {
      "image/png": "[encoded data removed]",
      "text/plain": [
       "<Figure size 720x504 with 1 Axes>"
      ]
     },
     "metadata": {
      "needs_background": "light"
     },
     "output_type": "display_data"
    }
   ],
   "source": [
    "fig, ax = plt.subplots(figsize=(10, 7))\n",
    "plt.title('GaAs bands')\n",
    "plt.ylim(-5,5)\n",
    "bands.plot(plt,selection=[i for i in range(0,7)])"
   ]
  },
  {
   "cell_type": "markdown",
   "metadata": {},
   "source": [
    "It is useful also to display the band structure evidencing the region around $\\Gamma$ that is sampled for the RT analysis"
   ]
  },
  {
   "cell_type": "code",
   "execution_count": 43,
   "metadata": {},
   "outputs": [
    {
     "data": {
      "text/plain": [
       "(['G', 'G', 'X', 'L', 'K'],\n",
       " [0.8660254037844385,\n",
       "  4.28023896615753,\n",
       "  1.8660254037844377,\n",
       "  0.0,\n",
       "  2.866025403784435])"
      ]
     },
     "execution_count": 43,
     "metadata": {},
     "output_type": "execute_result"
    }
   ],
   "source": [
    "hs_positions = bands.get_high_sym_positions()\n",
    "hs_positions"
   ]
  },
  {
   "cell_type": "code",
   "execution_count": 44,
   "metadata": {},
   "outputs": [
    {
     "data": {
      "text/plain": [
       "0.8660254037844385"
      ]
     },
     "execution_count": 44,
     "metadata": {},
     "output_type": "execute_result"
    }
   ],
   "source": [
    "kspan = 0.05 #in unit of 2pi/alat\n",
    "k0 = hs_positions[1][0]\n",
    "k0"
   ]
  },
  {
   "cell_type": "code",
   "execution_count": 45,
   "metadata": {},
   "outputs": [
    {
     "name": "stderr",
     "output_type": "stream",
     "text": [
      "/home/dalessandro/Applications/MPPI/mppi/Utilities/BandStructure.py:182: UserWarning: FixedFormatter should only be used together with FixedLocator\n",
      "  ax.set_xticklabels(labels,size=14)\n"
     ]
    },
    {
     "data": {
      "text/plain": [
       "(0.0, 1.864)"
      ]
     },
     "execution_count": 45,
     "metadata": {},
     "output_type": "execute_result"
    },
    {
     "data": {
      "image/png": "[encoded data removed]",
      "text/plain": [
       "<Figure size 720x504 with 1 Axes>"
      ]
     },
     "metadata": {
      "needs_background": "light"
     },
     "output_type": "display_data"
    }
   ],
   "source": [
    "fig, ax = plt.subplots(figsize=(10, 7))\n",
    "bands.plot(plt)\n",
    "ax.axvspan(k0-kspan/2, k0+kspan/2, alpha=0.5, color='gray')\n",
    "plt.ylim(-3,3.6)\n",
    "plt.ylabel('bands structure (eV)',size=14)\n",
    "plt.hlines(0.,0.,2,linestyles='--')\n",
    "plt.xlim(0.,1.864)"
   ]
  },
  {
   "cell_type": "markdown",
   "metadata": {},
   "source": [
    "## NSCF computation on various grids"
   ]
  },
  {
   "cell_type": "markdown",
   "metadata": {},
   "source": [
    "We perform nscf computations on grids of various dimensions and type. These computations will be the starting points for various\n",
    "RT analysis, to the effects of the kpoints sampling in the real-time reponse of the systems. \n",
    "\n",
    "All the computations share the same scf input. The common parameters are"
   ]
  },
  {
   "cell_type": "code",
   "execution_count": 5,
   "metadata": {},
   "outputs": [],
   "source": [
    "run_dir = 'NSCF'"
   ]
  },
  {
   "cell_type": "code",
   "execution_count": 6,
   "metadata": {},
   "outputs": [],
   "source": [
    "ecut_conv = 60\n",
    "k_conv = 6\n",
    "lat_eq = 10.556\n",
    "source_dir = 'GS_convergence/gs_converged.save'\n",
    "num_bands = 8"
   ]
  },
  {
   "cell_type": "markdown",
   "metadata": {},
   "source": [
    "The basic input file is given by"
   ]
  },
  {
   "cell_type": "code",
   "execution_count": 14,
   "metadata": {},
   "outputs": [
    {
     "data": {
      "text/plain": [
       "{'control': {'calculation': \"'nscf'\",\n",
       "  'verbosity': \"'high'\",\n",
       "  'prefix': \"'pwscf'\",\n",
       "  'outdir': \"'./'\",\n",
       "  'pseudo_dir': \"'/work/dalessandro/OPTICAL_ORIENTATION/Echo_mechanisms_deacy_time/PHOTON_ECO/pseudos'\"},\n",
       " 'system': {'force_symmorphic': '.true.',\n",
       "  'nbnd': 8,\n",
       "  'ibrav': 2,\n",
       "  'celldm(1)': 10.556,\n",
       "  'occupations': \"'fixed'\",\n",
       "  'ntyp': '2',\n",
       "  'nat': '2',\n",
       "  'ecutwfc': 60},\n",
       " 'electrons': {'diago_full_acc': '.false.', 'conv_thr': 1e-06},\n",
       " 'ions': {},\n",
       " 'cell': {},\n",
       " 'atomic_species': {'Ga': ['1.0', 'Ga_hamlu.fhi.UPF'],\n",
       "  'As': ['1.0', 'As_hamlu.fhi.UPF']},\n",
       " 'atomic_positions': {'type': 'alat',\n",
       "  'values': [['Ga', [0.0, 0.0, 0.0]], ['As', [0.25, 0.25, 0.25]]]},\n",
       " 'kpoints': {},\n",
       " 'cell_parameters': {}}"
      ]
     },
     "execution_count": 14,
     "metadata": {},
     "output_type": "execute_result"
    }
   ],
   "source": [
    "inp = I.PwInput()\n",
    "inp.set_nscf(num_bands,force_symmorphic=True,conv_thr=1e-6)\n",
    "inp.set_pseudo_dir(pseudo_dir='pseudos')\n",
    "inp.set_lattice(2,celldm1=lat_eq)\n",
    "inp.set_occupations(occupations='fixed')\n",
    "inp.add_atom('Ga','Ga_hamlu.fhi.UPF')\n",
    "inp.add_atom('As','As_hamlu.fhi.UPF')\n",
    "inp.set_atoms_number(2)\n",
    "inp.set_atomic_positions([['Ga',[0.,0.,0.]],['As',[0.25,0.25,0.25]]],type='alat')\n",
    "inp.set_energy_cutoff(ecut_conv)\n",
    "inp"
   ]
  },
  {
   "cell_type": "markdown",
   "metadata": {},
   "source": [
    "### Regular grid"
   ]
  },
  {
   "cell_type": "code",
   "execution_count": 50,
   "metadata": {},
   "outputs": [],
   "source": [
    "kpoints = 8 #20"
   ]
  },
  {
   "cell_type": "code",
   "execution_count": 51,
   "metadata": {},
   "outputs": [],
   "source": [
    "idd = {'bnds' : num_bands, 'kpoints' : kpoints}\n",
    "pref = D.name_from_id(idd)\n",
    "inp.set_kpoints(type='automatic',points=[kpoints,kpoints,kpoints])\n",
    "inp.set_prefix(pref)\n",
    "#inp"
   ]
  },
  {
   "cell_type": "code",
   "execution_count": 52,
   "metadata": {},
   "outputs": [
    {
     "name": "stdout",
     "output_type": "stream",
     "text": [
      "Copy source_dir GS_convergence/gs_converged.save in the NSCF/bnds_8-kpoints_8.save\n",
      "run 0 command: mpirun -np 8 pw.x -inp bnds_8-kpoints_8.in > bnds_8-kpoints_8.log\n",
      "slurm submit:  cd NSCF ; sbatch job_bnds_8-kpoints_8.sh\n",
      "run0_is_running: True \n",
      "Job completed\n"
     ]
    },
    {
     "data": {
      "text/plain": [
       "{'output': ['NSCF/bnds_8-kpoints_8.save/data-file-schema.xml']}"
      ]
     },
     "execution_count": 52,
     "metadata": {},
     "output_type": "execute_result"
    }
   ],
   "source": [
    "result_reg = code.run(run_dir=run_dir,inputs=[inp],names=[pref],source_dir=source_dir)\n",
    "result_reg"
   ]
  },
  {
   "cell_type": "markdown",
   "metadata": {},
   "source": [
    "### Gamma"
   ]
  },
  {
   "cell_type": "code",
   "execution_count": 53,
   "metadata": {},
   "outputs": [],
   "source": [
    "klist = [[0.0,0.0,0.0,1.0]]"
   ]
  },
  {
   "cell_type": "code",
   "execution_count": 54,
   "metadata": {},
   "outputs": [
    {
     "data": {
      "text/plain": [
       "{'control': {'calculation': \"'nscf'\",\n",
       "  'verbosity': \"'high'\",\n",
       "  'pseudo_dir': \"'../pseudos'\",\n",
       "  'prefix': \"'bnds_8-sampling_gamma'\"},\n",
       " 'system': {'nbnd': 8,\n",
       "  'force_symmorphic': '.true.',\n",
       "  'ibrav': 2,\n",
       "  'celldm(1)': 10.556,\n",
       "  'occupations': \"'fixed'\",\n",
       "  'ntyp': '2',\n",
       "  'nat': '2',\n",
       "  'ecutwfc': 60},\n",
       " 'electrons': {'conv_thr': 1e-06, 'diago_full_acc': '.false.'},\n",
       " 'ions': {},\n",
       " 'cell': {},\n",
       " 'atomic_species': {'Ga': ['1.0', 'Ga_hamlu.fhi.UPF'],\n",
       "  'As': ['1.0', 'As_hamlu.fhi.UPF']},\n",
       " 'atomic_positions': {'type': 'alat',\n",
       "  'values': [['Ga', [0.0, 0.0, 0.0]], ['As', [0.25, 0.25, 0.25]]]},\n",
       " 'kpoints': {'type': 'tpiba', 'values': [[0.0, 0.0, 0.0, 1.0]]},\n",
       " 'cell_parameters': {}}"
      ]
     },
     "execution_count": 54,
     "metadata": {},
     "output_type": "execute_result"
    }
   ],
   "source": [
    "idd = {'bnds' : num_bands, 'sampling' : 'gamma'} \n",
    "pref = D.name_from_id(idd)\n",
    "inp.set_kpoints(type='tpiba',klist=klist)\n",
    "inp.set_prefix(pref)\n",
    "inp"
   ]
  },
  {
   "cell_type": "code",
   "execution_count": 55,
   "metadata": {},
   "outputs": [
    {
     "name": "stdout",
     "output_type": "stream",
     "text": [
      "Copy source_dir GS_convergence/gs_converged.save in the NSCF/bnds_8-sampling_gamma.save\n",
      "run 0 command: mpirun -np 8 pw.x -inp bnds_8-sampling_gamma.in > bnds_8-sampling_gamma.log\n",
      "slurm submit:  cd NSCF ; sbatch job_bnds_8-sampling_gamma.sh\n",
      "run0_is_running: True \n",
      "Job completed\n"
     ]
    },
    {
     "data": {
      "text/plain": [
       "{'output': ['NSCF/bnds_8-sampling_gamma.save/data-file-schema.xml']}"
      ]
     },
     "execution_count": 55,
     "metadata": {},
     "output_type": "execute_result"
    }
   ],
   "source": [
    "result_gamma = code.run(run_dir=run_dir,inputs=[inp],names=[pref],source_dir=source_dir)\n",
    "result_gamma"
   ]
  },
  {
   "cell_type": "code",
   "execution_count": 56,
   "metadata": {},
   "outputs": [
    {
     "name": "stdout",
     "output_type": "stream",
     "text": [
      "Parse file : NSCF/bnds_8-sampling_gamma.save/data-file-schema.xml\n"
     ]
    }
   ],
   "source": [
    "data = P.PwParser(result_gamma['output'][0])"
   ]
  },
  {
   "cell_type": "code",
   "execution_count": 57,
   "metadata": {},
   "outputs": [
    {
     "name": "stdout",
     "output_type": "stream",
     "text": [
      "Apply a scissor of 0.9546929035002345 eV\n"
     ]
    },
    {
     "data": {
      "text/plain": [
       "array([[-1.29871070e+01, -1.95060146e-09, -1.12857546e-09,\n",
       "         0.00000000e+00,  1.42000000e+00,  4.72382720e+00,\n",
       "         4.72382720e+00,  4.72382725e+00]])"
      ]
     },
     "execution_count": 57,
     "metadata": {},
     "output_type": "execute_result"
    }
   ],
   "source": [
    "data.get_evals(set_gap=1.42)"
   ]
  },
  {
   "cell_type": "markdown",
   "metadata": {},
   "source": [
    "### Random grid close to Gamma"
   ]
  },
  {
   "cell_type": "code",
   "execution_count": 15,
   "metadata": {},
   "outputs": [],
   "source": [
    "import random as rand\n",
    "num_kpoints = 1000\n",
    "k_span = 0.04\n",
    "weight = [1.]"
   ]
  },
  {
   "cell_type": "code",
   "execution_count": 16,
   "metadata": {},
   "outputs": [],
   "source": [
    "# generate the random list\n",
    "klist = []\n",
    "klist.append([0.,0.,0.]+weight) #we include Gamma\n",
    "for n in range(num_kpoints-1):\n",
    "    k_rand = [k_span*(rand.random()-0.5) for ind in range(3)] + weight\n",
    "    klist.append(k_rand)"
   ]
  },
  {
   "cell_type": "code",
   "execution_count": 17,
   "metadata": {},
   "outputs": [
    {
     "name": "stdout",
     "output_type": "stream",
     "text": [
      "written to : NSCF/klist_1000-kspan_0.04.yaml\n"
     ]
    }
   ],
   "source": [
    "# write the list of kpoints to file\n",
    "k_dict = {'kpoints': klist}\n",
    "filename = os.path.join(run_dir,'klist_'+str(num_kpoints)+'-kspan_'+str(k_span)+'.yaml')\n",
    "print('written to :',filename)\n",
    "with open(filename, 'w') as yaml_file:    \n",
    "    yaml.dump(k_dict, yaml_file, default_flow_style=True)"
   ]
  },
  {
   "cell_type": "code",
   "execution_count": 19,
   "metadata": {},
   "outputs": [
    {
     "name": "stdout",
     "output_type": "stream",
     "text": [
      "read from : NSCF/klist_1000-kspan_0.04.yaml\n"
     ]
    }
   ],
   "source": [
    "# read the list of kpoints from file\n",
    "filename = os.path.join(run_dir,'klist_'+str(num_kpoints)+'-kspan_'+str(k_span)+'.yaml')\n",
    "print('read from :',filename)\n",
    "klist = yaml.safe_load(open(filename))['kpoints']\n",
    "#klist"
   ]
  },
  {
   "cell_type": "code",
   "execution_count": 20,
   "metadata": {},
   "outputs": [
    {
     "data": {
      "image/png": "[encoded data removed]",
      "text/plain": [
       "<Figure size 432x288 with 1 Axes>"
      ]
     },
     "metadata": {
      "needs_background": "light"
     },
     "output_type": "display_data"
    }
   ],
   "source": [
    "for ind,k in enumerate(klist):\n",
    "    plt.scatter(ind,k[0])"
   ]
  },
  {
   "cell_type": "code",
   "execution_count": 21,
   "metadata": {},
   "outputs": [],
   "source": [
    "idd = {'bnds' : num_bands, 'kpoints' : num_kpoints, 'sampling' : 'random_close_Gamma_kspan'+str(k_span)}  \n",
    "pref = D.name_from_id(idd)\n",
    "inp.set_kpoints(type='tpiba',klist=klist)\n",
    "inp.set_prefix(pref)\n",
    "#inp"
   ]
  },
  {
   "cell_type": "code",
   "execution_count": 24,
   "metadata": {},
   "outputs": [
    {
     "name": "stdout",
     "output_type": "stream",
     "text": [
      "copy source_dir GS_convergence/gs_converged.save in the /work/dalessandro/OPTICAL_ORIENTATION/Echo_mechanisms_deacy_time/PHOTON_ECO/NSCF/bnds_8-kpoints_1000-sampling_random_close_Gamma_kspan0.04.save\n",
      "run command: mpirun -np 16 pw.x -inp bnds_8-kpoints_1000-sampling_random_close_Gamma_kspan0.04.in > bnds_8-kpoints_1000-sampling_random_close_Gamma_kspan0.04.log\n",
      "slurm submit:  cd NSCF ; sbatch job_bnds_8-kpoints_1000-sampling_random_close_Gamma_kspan0.04.sh\n",
      "computation bnds_8-kpoints_1000-sampling_random_close_Gamma_kspan0.04 is running...\n",
      "computation bnds_8-kpoints_1000-sampling_random_close_Gamma_kspan0.04 ended\n"
     ]
    },
    {
     "data": {
      "text/plain": [
       "'/work/dalessandro/OPTICAL_ORIENTATION/Echo_mechanisms_deacy_time/PHOTON_ECO/NSCF/bnds_8-kpoints_1000-sampling_random_close_Gamma_kspan0.04.save/data-file-schema.xml'"
      ]
     },
     "execution_count": 24,
     "metadata": {},
     "output_type": "execute_result"
    }
   ],
   "source": [
    "result_random = code.run(run_dir=run_dir,input=inp,name=pref,source_dir=source_dir)\n",
    "result_random"
   ]
  },
  {
   "cell_type": "markdown",
   "metadata": {},
   "source": [
    "We find the position of the point with the energy more close to the value of 1.5 eV, that is the pump energy used in the RT simualations."
   ]
  },
  {
   "cell_type": "code",
   "execution_count": 30,
   "metadata": {},
   "outputs": [
    {
     "name": "stdout",
     "output_type": "stream",
     "text": [
      "Parse file : /work/dalessandro/OPTICAL_ORIENTATION/Echo_mechanisms_deacy_time/PHOTON_ECO/NSCF/bnds_8-kpoints_1000-sampling_random_close_Gamma_kspan0.04.save/data-file-schema.xml\n",
      "Apply a scissor of 0.9546929212546953 eV\n"
     ]
    }
   ],
   "source": [
    "data = P.PwParser(result_random)\n",
    "evals = data.get_evals(set_gap=1.42)"
   ]
  },
  {
   "cell_type": "code",
   "execution_count": 14,
   "metadata": {},
   "outputs": [
    {
     "name": "stdout",
     "output_type": "stream",
     "text": [
      "gap resonant point 1.4999679849537104\n",
      "resonant energy shift 3.201504628957963e-05\n",
      "resonant k position 50\n",
      "resonant k coordinate [0.012222375762903016, 0.008813912358998723, 0.0169281134202883, 1.0]\n"
     ]
    }
   ],
   "source": [
    "pump_energy = 1.5\n",
    "resonant_point = -1\n",
    "delta_res = 10  \n",
    "for ind,e in enumerate(evals):\n",
    "    gap = e[4]-e[3]\n",
    "    delta = pump_energy - gap\n",
    "    if abs(delta) < abs(delta_res):\n",
    "        delta_res = delta\n",
    "        resonant_point = ind\n",
    "gap_resonant = evals[resonant_point][4]-evals[resonant_point][3]\n",
    "print('gap resonant point',gap_resonant)\n",
    "print('resonant energy shift',pump_energy-gap_resonant)\n",
    "print('resonant k position',resonant_point)\n",
    "print('resonant k coordinate',klist[resonant_point])"
   ]
  },
  {
   "cell_type": "code",
   "execution_count": 65,
   "metadata": {},
   "outputs": [
    {
     "data": {
      "text/plain": [
       "array([-1.29851541e+01, -8.54192767e-02, -4.97293187e-03, -2.28997190e-03,\n",
       "        1.49766830e+00,  4.72301040e+00,  4.72858283e+00,  4.73120126e+00])"
      ]
     },
     "execution_count": 65,
     "metadata": {},
     "output_type": "execute_result"
    }
   ],
   "source": [
    "evals[resonant_point]"
   ]
  },
  {
   "cell_type": "markdown",
   "metadata": {},
   "source": [
    "We also choose another point with a non vanishing gap to perform further comparisons between RT results\n",
    "and the TLS model"
   ]
  },
  {
   "cell_type": "code",
   "execution_count": 54,
   "metadata": {},
   "outputs": [
    {
     "name": "stdout",
     "output_type": "stream",
     "text": [
      "delta 0.031100977246261152\n"
     ]
    },
    {
     "data": {
      "text/plain": [
       "[-0.004968954438749265, -0.01312680000969086, 0.009982472062397859, 1.0]"
      ]
     },
     "execution_count": 54,
     "metadata": {},
     "output_type": "execute_result"
    }
   ],
   "source": [
    "k_chosen = 10\n",
    "gap = evals[k_chosen][4]-evals[k_chosen][3]\n",
    "delta = pump_energy-gap\n",
    "print('delta',delta)\n",
    "klist[k_chosen]"
   ]
  },
  {
   "cell_type": "markdown",
   "metadata": {},
   "source": [
    "check for the degeneracies in the valence sector"
   ]
  },
  {
   "cell_type": "code",
   "execution_count": 57,
   "metadata": {},
   "outputs": [
    {
     "name": "stdout",
     "output_type": "stream",
     "text": [
      "0.0023411457768967026\n",
      "0.05094341088684029\n",
      "12.984938404924776\n"
     ]
    }
   ],
   "source": [
    "print(evals[k_chosen][3]-evals[k_chosen][2])\n",
    "print(evals[k_chosen][3]-evals[k_chosen][1])\n",
    "print(evals[k_chosen][3]-evals[k_chosen][0])"
   ]
  },
  {
   "cell_type": "markdown",
   "metadata": {},
   "source": [
    "__Selection of the kpoints in the energy range of the pulse__"
   ]
  },
  {
   "cell_type": "code",
   "execution_count": 32,
   "metadata": {},
   "outputs": [
    {
     "name": "stdout",
     "output_type": "stream",
     "text": [
      "Parse file : NSCF/bnds_8-kpoints_1000-sampling_random_close_Gamma_kspan0.04.save/data-file-schema.xml\n"
     ]
    }
   ],
   "source": [
    "data = P.PwParser('NSCF/bnds_8-kpoints_1000-sampling_random_close_Gamma_kspan0.04.save/data-file-schema.xml')"
   ]
  },
  {
   "cell_type": "code",
   "execution_count": 71,
   "metadata": {},
   "outputs": [
    {
     "name": "stdout",
     "output_type": "stream",
     "text": [
      "Apply a scissor of 0.9546929212546953 eV\n"
     ]
    }
   ],
   "source": [
    "weights = data.weights\n",
    "evals = data.get_evals(set_gap=1.42)\n",
    "kpoints = data.kpoints\n",
    "transitions = data.get_transitions(initial=[0,1,2,3],final=[4],set_gap=1.42)"
   ]
  },
  {
   "cell_type": "markdown",
   "metadata": {},
   "source": [
    "We extract among the 1000 kpoints in the volume of 0.04^3 around $\\Gamma$ the ones for which some transitions\n",
    "energy is in the energy range of the pulse"
   ]
  },
  {
   "cell_type": "code",
   "execution_count": 89,
   "metadata": {},
   "outputs": [],
   "source": [
    "pulse_energy = 1.46\n",
    "pulse_width = 0.025 # eV it gives the range of the abs of the maximum acceptable detuning. So the acceptance range is twice this value"
   ]
  },
  {
   "cell_type": "code",
   "execution_count": 90,
   "metadata": {},
   "outputs": [
    {
     "data": {
      "text/plain": [
       "509"
      ]
     },
     "execution_count": 90,
     "metadata": {},
     "output_type": "execute_result"
    }
   ],
   "source": [
    "ind_activated = []\n",
    "for ind in range(len(transitions)):\n",
    "    spread = np.abs(transitions[ind] - pulse_energy)\n",
    "    if any(spread < pulse_width) :\n",
    "        ind_activated.append(ind)\n",
    "len(ind_activated)"
   ]
  },
  {
   "cell_type": "code",
   "execution_count": 95,
   "metadata": {},
   "outputs": [],
   "source": [
    "weights_activated = weights[ind_activated]\n",
    "trans_activated = transitions[ind_activated]\n",
    "kpoints_activated = kpoints[ind_activated]"
   ]
  },
  {
   "cell_type": "code",
   "execution_count": 92,
   "metadata": {},
   "outputs": [],
   "source": [
    "jdos = U.Dos()\n",
    "jdos.append_fromPwData(transitions,weights,minVal=1,maxVal=2,eta=4e-3,label='all')\n",
    "jdos.append_fromPwData(trans_activated,weights_activated,minVal=1,maxVal=2,eta=4e-3,label='activated')"
   ]
  },
  {
   "cell_type": "code",
   "execution_count": 93,
   "metadata": {},
   "outputs": [
    {
     "data": {
      "image/png": "[encoded data removed]",
      "text/plain": [
       "<Figure size 432x288 with 1 Axes>"
      ]
     },
     "metadata": {
      "needs_background": "light"
     },
     "output_type": "display_data"
    }
   ],
   "source": [
    "jdos.plot(plt)"
   ]
  },
  {
   "cell_type": "code",
   "execution_count": 97,
   "metadata": {},
   "outputs": [
    {
     "data": {
      "text/plain": [
       "array([[ 1.357517e-02,  7.181320e-03, -8.099400e-04],\n",
       "       [ 1.112759e-02,  1.374640e-03,  5.344830e-03],\n",
       "       [-7.347470e-03,  6.100910e-03,  7.902810e-03],\n",
       "       [-1.335025e-02,  1.094764e-02, -6.847820e-03],\n",
       "       [ 8.419830e-03, -1.523404e-02,  5.112700e-03],\n",
       "       [-1.560675e-02,  1.769560e-03, -4.285370e-03],\n",
       "       [ 1.026519e-02,  9.339260e-03,  1.929870e-03],\n",
       "       [-7.978870e-03,  1.715061e-02, -1.990290e-03],\n",
       "       [ 7.970070e-03, -1.193058e-02,  7.490370e-03],\n",
       "       [-5.726010e-03,  3.365920e-03,  1.207000e-05]])"
      ]
     },
     "execution_count": 97,
     "metadata": {},
     "output_type": "execute_result"
    }
   ],
   "source": [
    "kpoints_activated[0:10]"
   ]
  },
  {
   "cell_type": "code",
   "execution_count": 109,
   "metadata": {},
   "outputs": [
    {
     "data": {
      "text/plain": [
       "array([ 0.01357517,  0.00718132, -0.00080994])"
      ]
     },
     "execution_count": 109,
     "metadata": {},
     "output_type": "execute_result"
    }
   ],
   "source": [
    "kpoints_activated[0]"
   ]
  },
  {
   "cell_type": "code",
   "execution_count": 113,
   "metadata": {},
   "outputs": [],
   "source": [
    "weight = [1.]\n",
    "klist_activated = []\n",
    "for k in kpoints_activated:\n",
    "    klist_activated.append(k.tolist()+weight)"
   ]
  },
  {
   "cell_type": "code",
   "execution_count": 125,
   "metadata": {},
   "outputs": [],
   "source": [
    "idd = {'bnds' : num_bands, 'kpoints' : len(klist_activated), 'sampling' : 'activated-energy_'+str(pulse_energy)+'-width_'+str(pulse_width)}  \n",
    "pref = D.name_from_id(idd)\n",
    "inp.set_kpoints(type='tpiba',klist=klist_activated)\n",
    "inp.set_prefix(pref)\n",
    "#inp"
   ]
  },
  {
   "cell_type": "code",
   "execution_count": 127,
   "metadata": {},
   "outputs": [
    {
     "name": "stdout",
     "output_type": "stream",
     "text": [
      "copy source_dir GS_convergence/gs_converged.save in the /work/dalessandro/OPTICAL_ORIENTATION/Echo_mechanisms_deacy_time/PHOTON_ECO/NSCF/bnds_8-kpoints_509-sampling_activated-energy_1.46-width_0.025.save\n",
      "run command: mpirun -np 16 pw.x -inp bnds_8-kpoints_509-sampling_activated-energy_1.46-width_0.025.in > bnds_8-kpoints_509-sampling_activated-energy_1.46-width_0.025.log\n",
      "slurm submit:  cd NSCF ; sbatch job_bnds_8-kpoints_509-sampling_activated-energy_1.46-width_0.025.sh\n",
      "computation bnds_8-kpoints_509-sampling_activated-energy_1.46-width_0.025 is running...\n",
      "computation bnds_8-kpoints_509-sampling_activated-energy_1.46-width_0.025 ended\n"
     ]
    },
    {
     "data": {
      "text/plain": [
       "'/work/dalessandro/OPTICAL_ORIENTATION/Echo_mechanisms_deacy_time/PHOTON_ECO/NSCF/bnds_8-kpoints_509-sampling_activated-energy_1.46-width_0.025.save/data-file-schema.xml'"
      ]
     },
     "execution_count": 127,
     "metadata": {},
     "output_type": "execute_result"
    }
   ],
   "source": [
    "result_activated = code.run(run_dir=run_dir,input=inp,name=pref,source_dir=source_dir)\n",
    "result_activated"
   ]
  },
  {
   "cell_type": "markdown",
   "metadata": {},
   "source": [
    "### Point resonant with pump of 1.5 eV"
   ]
  },
  {
   "cell_type": "code",
   "execution_count": 8,
   "metadata": {},
   "outputs": [],
   "source": [
    "klist = [[0.012222375762903016, 0.008813912358998723, 0.0169281134202883, 1.0]]"
   ]
  },
  {
   "cell_type": "code",
   "execution_count": 9,
   "metadata": {},
   "outputs": [
    {
     "data": {
      "text/plain": [
       "{'control': {'calculation': \"'nscf'\",\n",
       "  'verbosity': \"'high'\",\n",
       "  'pseudo_dir': \"'../pseudos'\",\n",
       "  'prefix': \"'bnds_8-sampling_resonant_1.5eV'\"},\n",
       " 'system': {'nbnd': 8,\n",
       "  'force_symmorphic': '.true.',\n",
       "  'ibrav': 2,\n",
       "  'celldm(1)': 10.556,\n",
       "  'occupations': \"'fixed'\",\n",
       "  'ntyp': '2',\n",
       "  'nat': '2',\n",
       "  'ecutwfc': 60},\n",
       " 'electrons': {'conv_thr': 1e-06, 'diago_full_acc': '.false.'},\n",
       " 'ions': {},\n",
       " 'cell': {},\n",
       " 'atomic_species': {'Ga': ['1.0', 'Ga_hamlu.fhi.UPF'],\n",
       "  'As': ['1.0', 'As_hamlu.fhi.UPF']},\n",
       " 'atomic_positions': {'type': 'alat',\n",
       "  'values': [['Ga', [0.0, 0.0, 0.0]], ['As', [0.25, 0.25, 0.25]]]},\n",
       " 'kpoints': {'type': 'tpiba',\n",
       "  'values': [[0.012222375762903016,\n",
       "    0.008813912358998723,\n",
       "    0.0169281134202883,\n",
       "    1.0]]},\n",
       " 'cell_parameters': {}}"
      ]
     },
     "execution_count": 9,
     "metadata": {},
     "output_type": "execute_result"
    }
   ],
   "source": [
    "idd = {'bnds' : num_bands, 'sampling' : 'resonant_1.5eV'} \n",
    "pref = D.name_from_id(idd)\n",
    "inp.set_kpoints(type='tpiba',klist=klist)\n",
    "inp.set_prefix(pref)\n",
    "inp"
   ]
  },
  {
   "cell_type": "code",
   "execution_count": 10,
   "metadata": {},
   "outputs": [
    {
     "name": "stdout",
     "output_type": "stream",
     "text": [
      "The folder NSCF/bnds_8-sampling_resonant_1.5eV.save already exsists. Source folder GS_convergence/gs_converged.save not copied\n",
      "Skip the run of bnds_8-sampling_resonant_1.5eV\n",
      "Job completed\n"
     ]
    },
    {
     "data": {
      "text/plain": [
       "{'output': ['NSCF/bnds_8-sampling_resonant_1.5eV.save/data-file-schema.xml']}"
      ]
     },
     "execution_count": 10,
     "metadata": {},
     "output_type": "execute_result"
    }
   ],
   "source": [
    "result = code.run(run_dir=run_dir,inputs=[inp],names=[pref],source_dir=source_dir)\n",
    "result"
   ]
  },
  {
   "cell_type": "markdown",
   "metadata": {},
   "source": [
    "### Point with $\\delta=31.1$ meV with pump of 1.5 eV"
   ]
  },
  {
   "cell_type": "code",
   "execution_count": 41,
   "metadata": {},
   "outputs": [],
   "source": [
    "klist = [[-0.004968954438749265, -0.01312680000969086, 0.009982472062397859, 1.0]]"
   ]
  },
  {
   "cell_type": "code",
   "execution_count": 42,
   "metadata": {},
   "outputs": [
    {
     "data": {
      "text/plain": [
       "{'control': {'calculation': \"'nscf'\",\n",
       "  'verbosity': \"'high'\",\n",
       "  'pseudo_dir': \"'../pseudos'\",\n",
       "  'prefix': \"'bnds_8-sampling_delta_31meV'\"},\n",
       " 'system': {'nbnd': 8,\n",
       "  'force_symmorphic': '.true.',\n",
       "  'ibrav': 2,\n",
       "  'celldm(1)': 10.556,\n",
       "  'occupations': \"'fixed'\",\n",
       "  'ntyp': '2',\n",
       "  'nat': '2',\n",
       "  'ecutwfc': 60},\n",
       " 'electrons': {'conv_thr': 1e-06, 'diago_full_acc': '.false.'},\n",
       " 'ions': {},\n",
       " 'cell': {},\n",
       " 'atomic_species': {'Ga': ['1.0', 'Ga_hamlu.fhi.UPF'],\n",
       "  'As': ['1.0', 'As_hamlu.fhi.UPF']},\n",
       " 'atomic_positions': {'type': 'alat',\n",
       "  'values': [['Ga', [0.0, 0.0, 0.0]], ['As', [0.25, 0.25, 0.25]]]},\n",
       " 'kpoints': {'type': 'tpiba',\n",
       "  'values': [[-0.004968954438749265,\n",
       "    -0.01312680000969086,\n",
       "    0.009982472062397859,\n",
       "    1.0]]},\n",
       " 'cell_parameters': {}}"
      ]
     },
     "execution_count": 42,
     "metadata": {},
     "output_type": "execute_result"
    }
   ],
   "source": [
    "idd = {'bnds' : num_bands, 'sampling' : 'delta_31meV'} \n",
    "pref = D.name_from_id(idd)\n",
    "inp.set_kpoints(type='tpiba',klist=klist)\n",
    "inp.set_prefix(pref)\n",
    "inp"
   ]
  },
  {
   "cell_type": "code",
   "execution_count": 45,
   "metadata": {},
   "outputs": [
    {
     "name": "stdout",
     "output_type": "stream",
     "text": [
      "The folder NSCF/bnds_8-sampling_delta_31meV.save already exsists. Source folder GS_convergence/gs_converged.save not copied\n",
      "Skip the run of bnds_8-sampling_delta_31meV\n",
      "Job completed\n"
     ]
    },
    {
     "data": {
      "text/plain": [
       "{'output': ['NSCF/bnds_8-sampling_delta_31meV.save/data-file-schema.xml']}"
      ]
     },
     "execution_count": 45,
     "metadata": {},
     "output_type": "execute_result"
    }
   ],
   "source": [
    "result = code.run(run_dir=run_dir,inputs=[inp],names=[pref],source_dir=source_dir)\n",
    "result"
   ]
  },
  {
   "cell_type": "code",
   "execution_count": 47,
   "metadata": {},
   "outputs": [
    {
     "name": "stdout",
     "output_type": "stream",
     "text": [
      "Parse file : NSCF/bnds_8-sampling_delta_31meV.save/data-file-schema.xml\n",
      "Apply a scissor of 0.9547660227121764 eV\n",
      "delta 0.03110097376582477\n"
     ]
    }
   ],
   "source": [
    "pump_energy = 1.5\n",
    "data = P.PwParser(result['output'][0])\n",
    "evals = data.get_evals(set_scissor=0.9547660227121764)\n",
    "gap = evals[0][4]-evals[0][3]\n",
    "delta = pump_energy-gap\n",
    "print('delta',delta)"
   ]
  },
  {
   "cell_type": "markdown",
   "metadata": {},
   "source": [
    "## Analysis of the Dos"
   ]
  },
  {
   "cell_type": "markdown",
   "metadata": {},
   "source": [
    "We can compare the Dos associated to the regular grid sampling with the one related to the random samplings."
   ]
  },
  {
   "cell_type": "code",
   "execution_count": 85,
   "metadata": {},
   "outputs": [
    {
     "name": "stdout",
     "output_type": "stream",
     "text": [
      "Apply a scissor of 0.9546929263113056 eV\n"
     ]
    }
   ],
   "source": [
    "dos = U.Dos.from_Pw('NSCF/bnds_8-kpoints_8.save/data-file-schema.xml',set_gap=1.42,eta=0.05,label='reg',minVal=-4,maxVal=4)"
   ]
  },
  {
   "cell_type": "code",
   "execution_count": 86,
   "metadata": {},
   "outputs": [
    {
     "name": "stdout",
     "output_type": "stream",
     "text": [
      "Apply a scissor of 0.9546929035002345 eV\n",
      "Apply a scissor of 0.9546929035002345 eV\n",
      "Apply a scissor of 0.9546929035002345 eV\n"
     ]
    }
   ],
   "source": [
    "dos.append_fromPw('NSCF/bnds_8-kpoints_100-sampling_random_close_Gamma_kspan0.05.save/data-file-schema.xml',label='rand100_kspan0.05',set_gap=1.42,eta=0.01,minVal=-4.0,maxVal=4.0)\n",
    "dos.append_fromPw('NSCF/bnds_8-kpoints_100-sampling_random_close_Gamma_kspan0.03.save/data-file-schema.xml',label='rand100_kspan0.03',set_gap=1.42,eta=0.01,minVal=-4.0,maxVal=4.0)\n",
    "dos.append_fromPw('NSCF/bnds_8-kpoints_100-sampling_random_close_Gamma_kspan0.04.save/data-file-schema.xml',label='rand100_kspan0.04',set_gap=1.42,eta=0.01,minVal=-4.0,maxVal=4.0)"
   ]
  },
  {
   "cell_type": "markdown",
   "metadata": {},
   "source": [
    "We can compare all the dos"
   ]
  },
  {
   "cell_type": "code",
   "execution_count": 87,
   "metadata": {},
   "outputs": [
    {
     "data": {
      "text/plain": [
       "<matplotlib.legend.Legend at 0x7f6931ad63c8>"
      ]
     },
     "execution_count": 87,
     "metadata": {},
     "output_type": "execute_result"
    },
    {
     "data": {
      "image/png": "[encoded data removed]",
      "text/plain": [
       "<Figure size 720x504 with 1 Axes>"
      ]
     },
     "metadata": {
      "needs_background": "light"
     },
     "output_type": "display_data"
    }
   ],
   "source": [
    "fig, ax = plt.subplots(figsize=(10, 7))\n",
    "dos.plot(plt,rescale=True)\n",
    "plt.legend(loc='best')"
   ]
  },
  {
   "cell_type": "markdown",
   "metadata": {},
   "source": [
    "## Analysis of the JDos"
   ]
  },
  {
   "cell_type": "markdown",
   "metadata": {},
   "source": [
    "We analyze the JDos assciated to the $v \\rightarrow c$ transitions including the 3 valence bands that are quasi degenerate\n",
    "close to $\\Gamma$ in absence of the SOC and the first conduction band. Adding the second conduction band gives rise to\n",
    "a peak aroung 4.8 eV that is much higher than the pump energy."
   ]
  },
  {
   "cell_type": "code",
   "execution_count": 88,
   "metadata": {},
   "outputs": [
    {
     "name": "stdout",
     "output_type": "stream",
     "text": [
      "Parse file : NSCF/bnds_8-kpoints_100-sampling_random_close_Gamma_kspan0.05.save/data-file-schema.xml\n",
      "Parse file : NSCF/bnds_8-kpoints_100-sampling_random_close_Gamma_kspan0.03.save/data-file-schema.xml\n",
      "Parse file : NSCF/bnds_8-kpoints_100-sampling_random_close_Gamma_kspan0.04.save/data-file-schema.xml\n"
     ]
    }
   ],
   "source": [
    "r_100_kspan5 = P.PwParser('NSCF/bnds_8-kpoints_100-sampling_random_close_Gamma_kspan0.05.save/data-file-schema.xml')\n",
    "r_100_kspan3 = P.PwParser('NSCF/bnds_8-kpoints_100-sampling_random_close_Gamma_kspan0.03.save/data-file-schema.xml')\n",
    "r_100_kspan4 = P.PwParser('NSCF/bnds_8-kpoints_100-sampling_random_close_Gamma_kspan0.04.save/data-file-schema.xml')"
   ]
  },
  {
   "cell_type": "code",
   "execution_count": 89,
   "metadata": {},
   "outputs": [],
   "source": [
    "weights_100_kspan5 = r_100_kspan5.weights\n",
    "weights_100_kspan3 = r_100_kspan3.weights\n",
    "weights_100_kspan4 = r_100_kspan4.weights"
   ]
  },
  {
   "cell_type": "code",
   "execution_count": 90,
   "metadata": {},
   "outputs": [
    {
     "name": "stdout",
     "output_type": "stream",
     "text": [
      "Apply a scissor of 0.9546929035002345 eV\n",
      "Apply a scissor of 0.9546929035002345 eV\n",
      "Apply a scissor of 0.9546929035002345 eV\n"
     ]
    }
   ],
   "source": [
    "transitions_100_kspan5 = r_100_kspan5.get_transitions(set_gap=1.42,initial=[1,2,3],final=[4])\n",
    "transitions_100_kspan3 = r_100_kspan3.get_transitions(set_gap=1.42,initial=[1,2,3],final=[4])\n",
    "transitions_100_kspan4 = r_100_kspan4.get_transitions(set_gap=1.42,initial=[1,2,3],final=[4])"
   ]
  },
  {
   "cell_type": "code",
   "execution_count": 91,
   "metadata": {},
   "outputs": [],
   "source": [
    "jdos = U.Dos()\n",
    "jdos.append_fromPwData(transitions_100_kspan5,weights_100_kspan5,minVal=0,maxVal=2,eta=4e-3,label='N100_kspan0.05')\n",
    "jdos.append_fromPwData(transitions_100_kspan3,weights_100_kspan3,minVal=0,maxVal=2,eta=4e-3,label='N100_kspan0.03')\n",
    "jdos.append_fromPwData(transitions_100_kspan4,weights_100_kspan4,minVal=0,maxVal=2,eta=4e-3,label='N100_kspan0.04')"
   ]
  },
  {
   "cell_type": "code",
   "execution_count": 92,
   "metadata": {},
   "outputs": [
    {
     "data": {
      "text/plain": [
       "<matplotlib.legend.Legend at 0x7f69341bd198>"
      ]
     },
     "execution_count": 92,
     "metadata": {},
     "output_type": "execute_result"
    },
    {
     "data": {
      "image/png": "[encoded data removed]",
      "text/plain": [
       "<Figure size 432x288 with 1 Axes>"
      ]
     },
     "metadata": {
      "needs_background": "light"
     },
     "output_type": "display_data"
    }
   ],
   "source": [
    "jdos.plot(plt,rescale=True)\n",
    "plt.title('JDos cv')\n",
    "plt.xlim(1.,2.)\n",
    "plt.legend()"
   ]
  },
  {
   "cell_type": "markdown",
   "metadata": {},
   "source": [
    "We include also the energetic profile of the pump. To do so we consider the analytic form of the QSIN pump and perform its FT"
   ]
  },
  {
   "cell_type": "code",
   "execution_count": 93,
   "metadata": {},
   "outputs": [],
   "source": [
    "epump = 1.5 # eV\n",
    "hplanck = U.Planck_ev_ps*1e3 # Planck constant in ev*fs\n",
    "nupump = epump/hplanck # in fs^-1\n",
    "\n",
    "width = 30 # fs (it is an estimate since we set 100 fs for the intensity)\n",
    "t0 = 3*width\n",
    "\n",
    "T = 2000 # lenght of the time interval\n",
    "dt = 0.01 # resolution of time sampling\n",
    "N = int(T/dt) # number of sampled points\n",
    "\n",
    "time = np.linspace(0,T,N)\n",
    "field = np.sin(2.*np.pi*nupump*time)*np.exp(-0.5*((time-t0)/width)**2) "
   ]
  },
  {
   "cell_type": "code",
   "execution_count": 94,
   "metadata": {},
   "outputs": [],
   "source": [
    "freqs = np.fft.fftfreq(N, d=dt)\n",
    "fplus = freqs[0:int(N/2)]\n",
    "fourier = np.fft.fft(field)\n",
    "fourierplus = fourier[0:int(N/2)]\n",
    "fabs = np.sqrt(fourierplus.real**2+fourierplus.imag**2)\n",
    "fabs = fabs/max(fabs)"
   ]
  },
  {
   "cell_type": "code",
   "execution_count": 95,
   "metadata": {},
   "outputs": [
    {
     "data": {
      "text/plain": [
       "<matplotlib.legend.Legend at 0x7f6931b32710>"
      ]
     },
     "execution_count": 95,
     "metadata": {},
     "output_type": "execute_result"
    },
    {
     "data": {
      "image/png": "[encoded data removed]",
      "text/plain": [
       "<Figure size 720x504 with 1 Axes>"
      ]
     },
     "metadata": {
      "needs_background": "light"
     },
     "output_type": "display_data"
    }
   ],
   "source": [
    "fig, ax = plt.subplots(figsize=(10, 7))\n",
    "\n",
    "jdos.plot(plt,rescale=True)\n",
    "plt.plot(hplanck*fplus,fabs)\n",
    "#plt.title('JDos cv')\n",
    "plt.vlines(1.5,-2,2,linestyles='--')\n",
    "plt.yticks([])\n",
    "plt.xlabel('energy (eV)',size=14)\n",
    "plt.xlim(1.2,1.8)\n",
    "plt.ylim(0,1.2)\n",
    "plt.legend()"
   ]
  },
  {
   "cell_type": "markdown",
   "metadata": {},
   "source": [
    "It seems that the kspan=0.04 is well fitted with the field profile"
   ]
  },
  {
   "cell_type": "markdown",
   "metadata": {},
   "source": [
    "## Estimate of the FID time scale"
   ]
  },
  {
   "cell_type": "markdown",
   "metadata": {},
   "source": [
    "We compute an estimate of the time profile of the signal by computing the weighted average\n",
    "of a cosine function using the JDOS$_{cv}$ as weight function"
   ]
  },
  {
   "cell_type": "code",
   "execution_count": 97,
   "metadata": {},
   "outputs": [],
   "source": [
    "from scipy import integrate as I"
   ]
  },
  {
   "cell_type": "markdown",
   "metadata": {},
   "source": [
    "We use the jdos associated to kspan=0.04 range"
   ]
  },
  {
   "cell_type": "code",
   "execution_count": 98,
   "metadata": {},
   "outputs": [
    {
     "data": {
      "text/plain": [
       "Text(0.5, 0, 'time (fs)')"
      ]
     },
     "execution_count": 98,
     "metadata": {},
     "output_type": "execute_result"
    },
    {
     "data": {
      "image/png": "[encoded data removed]",
      "text/plain": [
       "<Figure size 720x504 with 1 Axes>"
      ]
     },
     "metadata": {
      "needs_background": "light"
     },
     "output_type": "display_data"
    }
   ],
   "source": [
    "eng = jdos.dos[2][0]\n",
    "values= jdos.dos[2][1]\n",
    "\n",
    "norm = I.simps(y=values,x=eng)\n",
    "\n",
    "nus = eng/(U.Planck_ev_ps*1e3) # in fs^-1\n",
    "omegas = 2.0*np.pi*nus\n",
    "tvals = np.linspace(0,80,400) # 400 point for a range of 80 fs\n",
    "\n",
    "res = []\n",
    "for t in tvals:\n",
    "    integrand = values*np.cos(omegas*t)\n",
    "    res.append(1/norm*I.simps(y=integrand,x=eng))\n",
    "res100 = np.array(res)\n",
    "\n",
    "fig, ax = plt.subplots(figsize=(10, 7))\n",
    "plt.plot(tvals,res)\n",
    "plt.xlabel('time (fs)',size=12)"
   ]
  },
  {
   "cell_type": "markdown",
   "metadata": {},
   "source": [
    "comment on the oscillatory behavior?"
   ]
  },
  {
   "cell_type": "code",
   "execution_count": null,
   "metadata": {},
   "outputs": [],
   "source": []
  },
  {
   "cell_type": "code",
   "execution_count": null,
   "metadata": {},
   "outputs": [],
   "source": []
  },
  {
   "cell_type": "code",
   "execution_count": null,
   "metadata": {},
   "outputs": [],
   "source": []
  },
  {
   "cell_type": "code",
   "execution_count": null,
   "metadata": {},
   "outputs": [],
   "source": []
  },
  {
   "cell_type": "code",
   "execution_count": null,
   "metadata": {},
   "outputs": [],
   "source": []
  }
 ],
 "metadata": {
  "kernelspec": {
   "display_name": "Python 3",
   "language": "python",
   "name": "python3"
  },
  "language_info": {
   "codemirror_mode": {
    "name": "ipython",
    "version": 3
   },
   "file_extension": ".py",
   "mimetype": "text/x-python",
   "name": "python",
   "nbconvert_exporter": "python",
   "pygments_lexer": "ipython3",
   "version": "3.8.10"
  }
 },
 "nbformat": 4,
 "nbformat_minor": 4
}
