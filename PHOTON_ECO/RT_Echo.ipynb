{
 "cells": [
  {
   "cell_type": "code",
   "execution_count": 1,
   "metadata": {},
   "outputs": [],
   "source": [
    "# useful to autoreload the module without restarting the kernel\n",
    "%load_ext autoreload\n",
    "%autoreload 2"
   ]
  },
  {
   "cell_type": "code",
   "execution_count": 33,
   "metadata": {},
   "outputs": [],
   "source": [
    "from mppi import InputFiles as I, Calculators as C, Datasets as D, Utilities as U, Parsers as P\n",
    "from mppi.Utilities import Tools\n",
    "from mppi.Datasets import PostProcessing as PP\n",
    "from mppi.Models import TwoLevelSystems as TLS\n",
    "from mppi.Utilities import Constants as Const\n",
    "import matplotlib.pyplot as plt\n",
    "import numpy as np\n",
    "import os, yaml\n",
    "\n",
    "h_red = Const.Planck_reduced_ev_ps*1e3 # hbar in eV*fs\n",
    "h = Const.Planck_ev_ps*1e3 # h in eV*fs"
   ]
  },
  {
   "cell_type": "code",
   "execution_count": 4,
   "metadata": {},
   "outputs": [
    {
     "name": "stdout",
     "output_type": "stream",
     "text": [
      "rsync -rLptgoDzv --exclude={'*_fragment_*','*_fragments_*','*_CPU_*'} -e ssh ismhpc:/work/dalessandro/OPTICAL_ORIENTATION/Echo_mechanisms_decay_time/PHOTON_ECO/RT_Echo_k1000_kspan0.06/ '/home/marco/Data/RICERCA/DFT AND MANY BODY/OPTICAL ORIENTATION/Echo mechanisms and decay time/PHOTON_ECO/RT_Echo_k1000_kspan0.06'\n"
     ]
    }
   ],
   "source": [
    "# Update data from the ismhpc server. The command has to be executed directly from the command line, \n",
    "# actually os.system does not recognize the files to be excluded. \n",
    "# The --dry-run option can be used to control the effects\n",
    "# of the command before the real copy\n",
    "dry_run = False\n",
    "rsync_str = \"rsync -rLptgoDzv --exclude={'*_fragment_*','*_fragments_*','*_CPU_*'} \"\n",
    "if dry_run: rsync_str += '--dry-run '\n",
    "#ssh_str = '-e ssh ismhpc:/work/dalessandro/OPTICAL_ORIENTATION/Echo_mechanisms_decay_time/PHOTON_ECO/RT_Echo_k509-activated-energy_1.46-width_0.025/ '\n",
    "ssh_str = '-e ssh ismhpc:/work/dalessandro/OPTICAL_ORIENTATION/Echo_mechanisms_decay_time/PHOTON_ECO/RT_Echo_k1000_kspan0.06/ '\n",
    "#dest_path = 'RT_Echo_k509-activated-energy_1.46-width_0.025'\n",
    "dest_path = 'RT_Echo_k1000_kspan0.06'\n",
    "dest_path = os.path.abspath(dest_path)\n",
    "dest_path = \"'%s'\"%dest_path\n",
    "command = rsync_str+ssh_str+dest_path\n",
    "print(command)\n",
    "#os.system(command)"
   ]
  },
  {
   "cell_type": "code",
   "execution_count": 3,
   "metadata": {},
   "outputs": [
    {
     "name": "stdout",
     "output_type": "stream",
     "text": [
      "number of mpi 16\n"
     ]
    }
   ],
   "source": [
    "omp = 1\n",
    "mpi_k = 16\n",
    "mpi_b = 1\n",
    "mpi = int(mpi_k*mpi_b)\n",
    "print('number of mpi',mpi)\n",
    "sbatch_options = ['--partition=all12h'] #,'--ntasks-per-node=16']"
   ]
  },
  {
   "cell_type": "code",
   "execution_count": 4,
   "metadata": {},
   "outputs": [
    {
     "ename": "TypeError",
     "evalue": "__init__() missing 1 required positional argument: 'runRules'",
     "output_type": "error",
     "traceback": [
      "\u001b[0;31m---------------------------------------------------------------------------\u001b[0m",
      "\u001b[0;31mTypeError\u001b[0m                                 Traceback (most recent call last)",
      "\u001b[0;32m<ipython-input-4-c309f3afb1d0>\u001b[0m in \u001b[0;36m<module>\u001b[0;34m\u001b[0m\n\u001b[1;32m      1\u001b[0m \u001b[0;31m#code = C.YamboCalculator(omp=omp,mpi=mpi,executable='yambo_rt')\u001b[0m\u001b[0;34m\u001b[0m\u001b[0;34m\u001b[0m\u001b[0;34m\u001b[0m\u001b[0m\n\u001b[0;32m----> 2\u001b[0;31m \u001b[0mcode\u001b[0m \u001b[0;34m=\u001b[0m \u001b[0mC\u001b[0m\u001b[0;34m.\u001b[0m\u001b[0mYamboCalculator\u001b[0m\u001b[0;34m(\u001b[0m\u001b[0momp\u001b[0m\u001b[0;34m=\u001b[0m\u001b[0momp\u001b[0m\u001b[0;34m,\u001b[0m\u001b[0mmpi\u001b[0m\u001b[0;34m=\u001b[0m\u001b[0mmpi\u001b[0m\u001b[0;34m,\u001b[0m\u001b[0mexecutable\u001b[0m\u001b[0;34m=\u001b[0m\u001b[0;34m'yambo_rt'\u001b[0m\u001b[0;34m,\u001b[0m\u001b[0mscheduler\u001b[0m\u001b[0;34m=\u001b[0m\u001b[0;34m'slurm'\u001b[0m\u001b[0;34m,\u001b[0m\u001b[0msbatch_options\u001b[0m\u001b[0;34m=\u001b[0m\u001b[0msbatch_options\u001b[0m\u001b[0;34m)\u001b[0m\u001b[0;34m\u001b[0m\u001b[0;34m\u001b[0m\u001b[0m\n\u001b[0m\u001b[1;32m      3\u001b[0m \u001b[0mcode\u001b[0m\u001b[0;34m.\u001b[0m\u001b[0mglobal_options\u001b[0m\u001b[0;34m(\u001b[0m\u001b[0;34m)\u001b[0m\u001b[0;34m\u001b[0m\u001b[0;34m\u001b[0m\u001b[0m\n",
      "\u001b[0;31mTypeError\u001b[0m: __init__() missing 1 required positional argument: 'runRules'"
     ]
    }
   ],
   "source": [
    "#code = C.YamboCalculator(omp=omp,mpi=mpi,executable='yambo_rt')\n",
    "code = C.YamboCalculator(omp=omp,mpi=mpi,executable='yambo_rt',scheduler='slurm',sbatch_options=sbatch_options)\n",
    "code.global_options()"
   ]
  },
  {
   "cell_type": "code",
   "execution_count": 38,
   "metadata": {},
   "outputs": [
    {
     "name": "stdout",
     "output_type": "stream",
     "text": [
      "Initialize a Yambo calculator with scheduler slurm\n"
     ]
    },
    {
     "data": {
      "text/plain": [
       "{'scheduler': 'slurm',\n",
       " 'nodes': 1,\n",
       " 'ntasks_per_node': 16,\n",
       " 'cpus_per_task': 2,\n",
       " 'omp_num_threads': 2,\n",
       " 'gpus_per_node': None,\n",
       " 'memory': '125000',\n",
       " 'time': None,\n",
       " 'partition': 'all12h',\n",
       " 'account': None,\n",
       " 'qos': None,\n",
       " 'map_by': None,\n",
       " 'pe': 1,\n",
       " 'rank_by': None,\n",
       " 'executable': 'yambo_rt',\n",
       " 'skip': True,\n",
       " 'clean_restart': True,\n",
       " 'dry_run': False,\n",
       " 'wait_end_run': True,\n",
       " 'activate_BeeOND': True,\n",
       " 'verbose': True}"
      ]
     },
     "execution_count": 38,
     "metadata": {},
     "output_type": "execute_result"
    }
   ],
   "source": [
    "# RunRules for ismhpc\n",
    "# The product of ntasks_per_node*cpus_per_task is equal to 32. \n",
    "# Many mpi are needed for better performances\n",
    "nodes = 1\n",
    "ntasks_per_node = 16\n",
    "cpus_per_task=2\n",
    "omp_num_threads=2\n",
    "\n",
    "ntasks = nodes*ntasks_per_node\n",
    "\n",
    "rr = C.RunRules(scheduler='slurm',partition='all12h',\n",
    "                memory='125000',\n",
    "                nodes=nodes,ntasks_per_node=ntasks_per_node,\n",
    "                cpus_per_task=cpus_per_task,\n",
    "                omp_num_threads=omp_num_threads)\n",
    "code = C.YamboCalculator(rr,executable='yambo_rt',activate_BeeOND=True) #,clean_restart=False,skip=False)\n",
    "code.global_options()"
   ]
  },
  {
   "cell_type": "markdown",
   "metadata": {},
   "source": [
    "We have performed some performance tests to find the optimal choice of the k_b parallelization.\n",
    "Here the preliminary results\n",
    "\n",
    "16_1 run is 1m-59s\n",
    "\n",
    "16_2 run is 2m-36s\n",
    "\n",
    "32_1 run is 4m-07s\n",
    "\n",
    "32_1_2nodee does not create the BeeOND_Dir"
   ]
  },
  {
   "cell_type": "markdown",
   "metadata": {},
   "source": [
    "# Echo signal from RT analysis in GaAs"
   ]
  },
  {
   "cell_type": "markdown",
   "metadata": {},
   "source": [
    "This notebook contains the RT analysis of the photon echo mechanism for GaAs performed with Yambo."
   ]
  },
  {
   "cell_type": "markdown",
   "metadata": {},
   "source": [
    "## Analysis of the echo peak from the RT non-perturbative solution. Decay time determination and echo efficiency assessment "
   ]
  },
  {
   "cell_type": "markdown",
   "metadata": {},
   "source": [
    "We repeat the previous analysis using an improved k sampling in which an higher number of k points in the energy range of the pulses is used. \n",
    "In this way we test if a richer sampling reduce the non echo contribution due to an FID.\n",
    "\n",
    "In this stage we also add an explicit decaying time on the coherences and use the echo signal to compute the decay time."
   ]
  },
  {
   "cell_type": "code",
   "execution_count": 18,
   "metadata": {},
   "outputs": [],
   "source": [
    "# Common parameters (eventually overwritten by the dictionary values)\n",
    "time_step = 10 # as\n",
    "\n",
    "# analysis with improved k-points sampling\n",
    "#run_dir = 'RT_Echo_k509-activated-energy_1.46-width_0.025'\n",
    "#source_dir = 'NSCF/bnds_8-kpoints_509-sampling_activated-energy_1.46-width_0.025.save'\n",
    "\n",
    "# analysis with k sampling volume of 0.06 (1000 points)     \n",
    "run_dir = 'RT_Echo_k1000_kspan0.06'\n",
    "source_dir = 'NSCF/bnds_8-kpoints_1000-sampling_random_close_Gamma_kspan0.06.save'"
   ]
  },
  {
   "cell_type": "markdown",
   "metadata": {},
   "source": [
    "We set the intensity of the pulses and time shift and we extract the echo signal from the non-perturbative solution"
   ]
  },
  {
   "cell_type": "code",
   "execution_count": 19,
   "metadata": {},
   "outputs": [],
   "source": [
    "#int1, int2 = 1e3, 1e3 # intensity of the pulses in kW/cm^2\n",
    "#int_str = 'int_1e3_1e3'\n",
    "\n",
    "#int1, int2 = 1e4, 1e4 # intensity of the pulses in kW/cm^2\n",
    "#int_str = 'int_1e4_1e4'\n",
    "#int_str = 'int_1e4_1e4-bands_2-5'\n",
    "\n",
    "#int1, int2 = 1e5, 1e5 # intensity of the pulses in kW/cm^2\n",
    "#int_str = 'int_1e5_1e5'\n",
    "\n",
    "#int1, int2 = 1e6, 1e6 # intensity of the pulses in kW/cm^2\n",
    "#int_str = 'int_1e6_1e6'\n",
    "\n",
    "int1, int2 = 1e7, 1e7 # intensity of the pulses in kW/cm^2\n",
    "#int_str = 'int_1e7_1e7'\n",
    "#int_str = 'int_1e7_1e7-bands_2-5'\n",
    "int_str = 'int_1e7_1e7-bands_4-5'\n",
    "\n",
    "#int1, int2 = 8254, 33015 # intensity of the pulses in kW/cm^2\n",
    "#int_str = 'int_pi2_pi_extended-bands' # computations are performed with bands : [2,8]\n",
    "#int_str = 'int_pi2_pi_extended-bands_tau-no-omega-multiple' # the tau is not a multiple of omega\n",
    "\n",
    "#eta = 0.\n",
    "#eta = 4e-4\n",
    "eta = 4e-3"
   ]
  },
  {
   "cell_type": "markdown",
   "metadata": {},
   "source": [
    "We set the number of RT_bands"
   ]
  },
  {
   "cell_type": "code",
   "execution_count": 20,
   "metadata": {},
   "outputs": [],
   "source": [
    "RT_bands = [4,5] #[2,5] #[2,8]"
   ]
  },
  {
   "cell_type": "code",
   "execution_count": 21,
   "metadata": {},
   "outputs": [],
   "source": [
    "fwhm = 10 #100 # fs FWHM of the pulses \n",
    "energy = 1.58 # 1.46 # eV energy of the pulse\n",
    "#pulse_str='omega_1.46-fwhm_100'\n",
    "#pulse_str='omega_1.58-fwhm_100'\n",
    "pulse_str='omega_1.58-fwhm_10'\n",
    "#pulse_str='omega_1.58-fwhm_10-tau_pulse_multiple'\n",
    "\n",
    "omega = energy/h_red # angular frequency of the pulse\n",
    "period = h/energy # period of the pulse fs\n",
    "scissor = 0.9548 # (eV) (taken from QE_Analysis it gives a direct gap of 1.42 eV)\n",
    "NETime = 600 #6000 # fs length of the simulation"
   ]
  },
  {
   "cell_type": "code",
   "execution_count": 22,
   "metadata": {},
   "outputs": [
    {
     "data": {
      "text/plain": [
       "0.09071795328941251"
      ]
     },
     "execution_count": 22,
     "metadata": {},
     "output_type": "execute_result"
    }
   ],
   "source": [
    "np.exp(-eta*NETime)"
   ]
  },
  {
   "cell_type": "code",
   "execution_count": 23,
   "metadata": {},
   "outputs": [
    {
     "data": {
      "text/plain": [
       "{'100fs': 100.0}"
      ]
     },
     "execution_count": 23,
     "metadata": {},
     "output_type": "execute_result"
    }
   ],
   "source": [
    "#tau = {'0.5ps':period*177,'1ps':period*353,'1.5ps':period*530,'2ps':period*706,'2.5ps':period*883}\n",
    "#tau = {'0.5ps':500.,'1ps':1000.,'1.5ps':1500.,'2ps':2000.,'2.5ps':2500.}\n",
    "#tau = {'50fs':50.,'100fs':100.,'150fs':150.,'200fs':200.,'250fs':250.}\n",
    "tau = {'100fs':100.}\n",
    "#tau = {'100fs':period*int(100/period)}\n",
    "tau"
   ]
  },
  {
   "cell_type": "code",
   "execution_count": 24,
   "metadata": {},
   "outputs": [],
   "source": [
    "simulations = []\n",
    "simulations.append({ # add the ref simulation\n",
    "    'source_dir' : source_dir,\n",
    "    'id' : ('ref',int_str,pulse_str),\n",
    "    'run_dir' : run_dir,\n",
    "    'fields'  : [dict(index=1,int=int1,freq=energy,fwhm=fwhm,polarization='linear')],\n",
    "    'sim_time'  : NETime,\n",
    "    'eta'       : 1e-5,\n",
    "    'no_sym'    : False,\n",
    "    'bands'     : RT_bands,\n",
    "    'skip'      : True\n",
    "    }\n",
    ")\n",
    "for t in tau: # add the simulations for each value of tau\n",
    "    simulations.append({\n",
    "        'id' : (t,'direct',int_str,pulse_str),\n",
    "        'source_dir' : source_dir,\n",
    "        'run_dir' : run_dir,\n",
    "        'fields'  : [dict(index=1,int=int1,freq=energy,fwhm=fwhm,polarization='linear'),\n",
    "                     dict(index=2,int=int2,freq=energy,fwhm=fwhm,polarization='linear',tstart=tau[t],tstart_units='fs')],\n",
    "        'sim_time'  : NETime,\n",
    "        'eta'       : 1e-5,\n",
    "        'no_sym'    : False,\n",
    "        'bands'     : RT_bands,\n",
    "        'skip'      : True\n",
    "    })\n",
    "    simulations.append({\n",
    "        'id' : (t,'invert',int_str,pulse_str),\n",
    "        'source_dir' : source_dir,\n",
    "        'run_dir' : run_dir,\n",
    "        'fields'  : [dict(index=1,int=int1,freq=energy,fwhm=fwhm,polarization='linear'),\n",
    "                     dict(index=2,int=int2,freq=energy,fwhm=fwhm,polarization='linear',\n",
    "                     direction=[-1.,0.,0.],tstart=tau[t],tstart_units='fs')],\n",
    "        'sim_time'  : NETime,\n",
    "        'eta'       : 1e-5,\n",
    "        'no_sym'    : False,\n",
    "        'bands'     : RT_bands,\n",
    "        'skip'      : True\n",
    "    })"
   ]
  },
  {
   "cell_type": "code",
   "execution_count": 25,
   "metadata": {},
   "outputs": [
    {
     "data": {
      "text/plain": [
       "{'id': ('100fs', 'direct', 'int_1e7_1e7-bands_4-5', 'omega_1.58-fwhm_10'),\n",
       " 'source_dir': 'NSCF/bnds_8-kpoints_1000-sampling_random_close_Gamma_kspan0.06.save',\n",
       " 'run_dir': 'RT_Echo_k1000_kspan0.06',\n",
       " 'fields': [{'index': 1,\n",
       "   'int': 10000000.0,\n",
       "   'freq': 1.58,\n",
       "   'fwhm': 10,\n",
       "   'polarization': 'linear'},\n",
       "  {'index': 2,\n",
       "   'int': 10000000.0,\n",
       "   'freq': 1.58,\n",
       "   'fwhm': 10,\n",
       "   'polarization': 'linear',\n",
       "   'tstart': 100.0,\n",
       "   'tstart_units': 'fs'}],\n",
       " 'sim_time': 600,\n",
       " 'eta': 1e-05,\n",
       " 'no_sym': False,\n",
       " 'bands': [4, 5],\n",
       " 'skip': True}"
      ]
     },
     "execution_count": 25,
     "metadata": {},
     "output_type": "execute_result"
    }
   ],
   "source": [
    "simulations[1]"
   ]
  },
  {
   "cell_type": "markdown",
   "metadata": {},
   "source": [
    "### Construction of the SAVE folder and FixSymm procedure"
   ]
  },
  {
   "cell_type": "code",
   "execution_count": 26,
   "metadata": {},
   "outputs": [
    {
     "name": "stdout",
     "output_type": "stream",
     "text": [
      "build SAVE and perform FixSymm for ('ref', 'int_1e7_1e7-bands_4-5', 'omega_1.58-fwhm_10')\n",
      "SAVE folder already present in RT_Echo_k1000_kspan0.06. No operations performed.\n",
      "SAVE folder already present in RT_Echo_k1000_kspan0.06/FixSymm. No operations performed.\n",
      " \n",
      "build SAVE and perform FixSymm for ('100fs', 'direct', 'int_1e7_1e7-bands_4-5', 'omega_1.58-fwhm_10')\n",
      "SAVE folder already present in RT_Echo_k1000_kspan0.06. No operations performed.\n",
      "SAVE folder already present in RT_Echo_k1000_kspan0.06/FixSymm. No operations performed.\n",
      " \n",
      "build SAVE and perform FixSymm for ('100fs', 'invert', 'int_1e7_1e7-bands_4-5', 'omega_1.58-fwhm_10')\n",
      "SAVE folder already present in RT_Echo_k1000_kspan0.06. No operations performed.\n",
      "SAVE folder already present in RT_Echo_k1000_kspan0.06/FixSymm. No operations performed.\n",
      " \n"
     ]
    }
   ],
   "source": [
    "#for ind,sim in enumerate(simulations):\n",
    "for sim in simulations:\n",
    "    source_dir = sim['source_dir']\n",
    "    run_dir = sim['run_dir']\n",
    "    if not sim['no_sym']:\n",
    "        sim['rt_run_dir'] = os.path.join(sim['run_dir'],'FixSymm')\n",
    "        print('build SAVE and perform FixSymm for %s'%str(sim['id']))\n",
    "        Tools.build_SAVE(source_dir,run_dir,make_link=True,overwrite_if_found=False)\n",
    "        Tools.make_FixSymm(run_dir,Efield1=[1.,0.,0.],overwrite_if_found=False)\n",
    "    else:\n",
    "        sim['rt_run_dir'] = sim['run_dir']\n",
    "        print('build SAVE for %s sim with the -nosym option'%sim['id'])\n",
    "        Tools.build_SAVE(source_dir,run_dir,make_link=True,command='p2y -nosym')\n",
    "    print(' ')\n",
    "\n",
    "#Remove the contribution of the pseudo from the commutator\n",
    "for sim in simulations:\n",
    "    rt_run_dir = sim['rt_run_dir']\n",
    "    db = 'ns.kb_pp_pwscf'\n",
    "    src = os.path.join(rt_run_dir,'SAVE',db)\n",
    "    dst = os.path.join(rt_run_dir,'SAVE',db+'_hide')\n",
    "    command = 'mv %s %s'%(src,dst)\n",
    "    #print(command)\n",
    "    os.system(command)"
   ]
  },
  {
   "cell_type": "markdown",
   "metadata": {},
   "source": [
    "### Running of the simulations"
   ]
  },
  {
   "cell_type": "markdown",
   "metadata": {},
   "source": [
    "We build the input object for each simulation. Some parameters are common for all the simulations\n",
    "and are specified here, the others are taken from the dictionary.\n",
    "\n",
    "The input are added to the simulations dict."
   ]
  },
  {
   "cell_type": "code",
   "execution_count": 27,
   "metadata": {},
   "outputs": [],
   "source": [
    "io_time = [10.0,10.0,0.1] # [5.0,1.0,1.0] # I/O (CARRIERs - GF - OUTPUT) in fs FOR THE 10 fs FWHM SIMULATIONS\n",
    "#io_time = [50.0,50.0,1.0] # [5.0,1.0,1.0] # I/O (CARRIERs - GF - OUTPUT) in fs\n",
    "#io_cacheTime = [[50.0,100.0],'fs'] # Time between two consecutive (caching - I/O) of OBSERVABLES\n",
    "io_cacheTime = [[0.1,10.0],'fs'] # Time between two consecutive (caching - I/O) of OBSERVABLES"
   ]
  },
  {
   "cell_type": "code",
   "execution_count": 28,
   "metadata": {},
   "outputs": [
    {
     "data": {
      "text/plain": [
       "{'source_dir': 'NSCF/bnds_8-kpoints_1000-sampling_random_close_Gamma_kspan0.06.save',\n",
       " 'id': ('ref', 'int_1e7_1e7-bands_4-5', 'omega_1.58-fwhm_10'),\n",
       " 'run_dir': 'RT_Echo_k1000_kspan0.06',\n",
       " 'fields': [{'index': 1,\n",
       "   'int': 10000000.0,\n",
       "   'freq': 1.58,\n",
       "   'fwhm': 10,\n",
       "   'polarization': 'linear'}],\n",
       " 'sim_time': 600,\n",
       " 'eta': 1e-05,\n",
       " 'no_sym': False,\n",
       " 'bands': [4, 5],\n",
       " 'skip': True,\n",
       " 'rt_run_dir': 'RT_Echo_k1000_kspan0.06/FixSymm'}"
      ]
     },
     "execution_count": 28,
     "metadata": {},
     "output_type": "execute_result"
    }
   ],
   "source": [
    "simulations[0]"
   ]
  },
  {
   "cell_type": "code",
   "execution_count": 30,
   "metadata": {},
   "outputs": [],
   "source": [
    "for sim in simulations:\n",
    "    rt_input = I.YamboInput('yambo_rt -n p2 -v ip -V rt',folder=sim['rt_run_dir'])\n",
    "    for f in sim['fields']:\n",
    "        rt_input.set_rt_field(**f)\n",
    "    if eta == 0.:\n",
    "        rt_input.set_rt_bands(bands=sim['bands'],scissor=scissor,damping_valence=sim['eta'],damping_conduction=sim['eta'])\n",
    "    else:\n",
    "        rt_input.set_rt_bands(bands=sim['bands'],scissor=scissor,damping_valence=0.,damping_conduction=0.)\n",
    "        rt_input['variables']['PhLifeTime'] = [1/eta,'fs']\n",
    "    rt_input.set_rt_simulationTimes(sim_time=sim['sim_time'],io_time=io_time,time_step=time_step)\n",
    "    rt_input.set_rt_cpu(k=mpi_k,b=mpi_b)\n",
    "    #rt_input['variables']['DBsIOoff']='obs carriers'  # do not write these databases on file\n",
    "    rt_input['variables']['DBsIOoff']='obs'  # do not write these databases on file\n",
    "    rt_input['variables']['IOCachetime'] = io_cacheTime\n",
    "    #rt_input['arguments'].append('SaveGhistory')\n",
    "    sim['input'] = rt_input"
   ]
  },
  {
   "cell_type": "code",
   "execution_count": 31,
   "metadata": {},
   "outputs": [],
   "source": [
    "#simulations[1]"
   ]
  },
  {
   "cell_type": "code",
   "execution_count": 45,
   "metadata": {},
   "outputs": [
    {
     "name": "stdout",
     "output_type": "stream",
     "text": [
      "Initialize a Dataset with 3 parallel tasks\n"
     ]
    }
   ],
   "source": [
    "study = D.Dataset(num_tasks=3)\n",
    "study.set_postprocessing_function(PP.yambo_parse_data)\n",
    "\n",
    "for sim in simulations:\n",
    "    #study.append_run(id=sim['id'],input=sim['input'],run_dir=sim['rt_run_dir'],runner=code,skip=sim['skip'])\n",
    "    study.append_run(id=sim['id'],input=sim['input'],run_dir=sim['rt_run_dir'],runner=code,skip=False)"
   ]
  },
  {
   "cell_type": "code",
   "execution_count": 46,
   "metadata": {},
   "outputs": [
    {
     "data": {
      "text/plain": [
       "[('ref', 'int_1e7_1e7-bands_4-5', 'omega_1.58-fwhm_10'),\n",
       " ('100fs', 'direct', 'int_1e7_1e7-bands_4-5', 'omega_1.58-fwhm_10'),\n",
       " ('100fs', 'invert', 'int_1e7_1e7-bands_4-5', 'omega_1.58-fwhm_10')]"
      ]
     },
     "execution_count": 46,
     "metadata": {},
     "output_type": "execute_result"
    }
   ],
   "source": [
    "study.ids"
   ]
  },
  {
   "cell_type": "code",
   "execution_count": 47,
   "metadata": {},
   "outputs": [
    {
     "name": "stdout",
     "output_type": "stream",
     "text": [
      "Run the selection [0, 1, 2] with the parallel task_groups [[0, 1, 2]] \n",
      "\n",
      "Run the task [0, 1, 2] \n",
      "delete job_out script: RT_Echo_k1000_kspan0.06/FixSymm/job_100fs-invert-int_1e7_1e7-bands_4-5-omega_1.58-fwhm_10.out\n",
      "delete folder: RT_Echo_k1000_kspan0.06/FixSymm/100fs-invert-int_1e7_1e7-bands_4-5-omega_1.58-fwhm_10\n",
      "run command: mpirun -np 16 yambo_rt -F 100fs-invert-int_1e7_1e7-bands_4-5-omega_1.58-fwhm_10.in -J 100fs-invert-int_1e7_1e7-bands_4-5-omega_1.58-fwhm_10 -C 100fs-invert-int_1e7_1e7-bands_4-5-omega_1.58-fwhm_10\n",
      "delete job_out script:slurm submit: delete job_out script:   cd RT_Echo_k1000_kspan0.06/FixSymm ; sbatch job_100fs-invert-int_1e7_1e7-bands_4-5-omega_1.58-fwhm_10.shRT_Echo_k1000_kspan0.06/FixSymm/job_ref-int_1e7_1e7-bands_4-5-omega_1.58-fwhm_10.outRT_Echo_k1000_kspan0.06/FixSymm/job_100fs-direct-int_1e7_1e7-bands_4-5-omega_1.58-fwhm_10.out\n",
      "\n",
      "\n",
      "computation 100fs-invert-int_1e7_1e7-bands_4-5-omega_1.58-fwhm_10 is running...delete folder:delete folder:\n",
      "  RT_Echo_k1000_kspan0.06/FixSymm/ref-int_1e7_1e7-bands_4-5-omega_1.58-fwhm_10RT_Echo_k1000_kspan0.06/FixSymm/100fs-direct-int_1e7_1e7-bands_4-5-omega_1.58-fwhm_10\n",
      "\n",
      "run command: mpirun -np 16 yambo_rt -F ref-int_1e7_1e7-bands_4-5-omega_1.58-fwhm_10.in -J ref-int_1e7_1e7-bands_4-5-omega_1.58-fwhm_10 -C ref-int_1e7_1e7-bands_4-5-omega_1.58-fwhm_10run command: mpirun -np 16 yambo_rt -F 100fs-direct-int_1e7_1e7-bands_4-5-omega_1.58-fwhm_10.in -J 100fs-direct-int_1e7_1e7-bands_4-5-omega_1.58-fwhm_10 -C 100fs-direct-int_1e7_1e7-bands_4-5-omega_1.58-fwhm_10\n",
      "\n",
      "slurm submit: slurm submit:   cd RT_Echo_k1000_kspan0.06/FixSymm ; sbatch job_ref-int_1e7_1e7-bands_4-5-omega_1.58-fwhm_10.shcd RT_Echo_k1000_kspan0.06/FixSymm ; sbatch job_100fs-direct-int_1e7_1e7-bands_4-5-omega_1.58-fwhm_10.sh\n",
      "\n",
      "computation ref-int_1e7_1e7-bands_4-5-omega_1.58-fwhm_10 is running...computation 100fs-direct-int_1e7_1e7-bands_4-5-omega_1.58-fwhm_10 is running...\n",
      "\n",
      "computation 100fs-invert-int_1e7_1e7-bands_4-5-omega_1.58-fwhm_10 ended\n",
      "Run performed in 05m-08s\n",
      "computation ref-int_1e7_1e7-bands_4-5-omega_1.58-fwhm_10 ended\n",
      "Run performed in 05m-57s\n",
      "computation 100fs-direct-int_1e7_1e7-bands_4-5-omega_1.58-fwhm_10 ended\n",
      "Run performed in 06m-08s\n",
      "Task [0, 1, 2] ended \n",
      " \n"
     ]
    }
   ],
   "source": [
    "results = study.run()"
   ]
  },
  {
   "cell_type": "code",
   "execution_count": 48,
   "metadata": {},
   "outputs": [
    {
     "name": "stdout",
     "output_type": "stream",
     "text": [
      "0.512076235\n",
      "1.08595452\n",
      "0.508195355\n"
     ]
    },
    {
     "data": {
      "text/plain": [
       "<matplotlib.legend.Legend at 0x7f99b566bc50>"
      ]
     },
     "execution_count": 48,
     "metadata": {},
     "output_type": "execute_result"
    },
    {
     "data": {
      "image/png": "[encoded data removed]",
      "text/plain": [
       "<Figure size 648x432 with 1 Axes>"
      ]
     },
     "metadata": {
      "needs_background": "light"
     },
     "output_type": "display_data"
    }
   ],
   "source": [
    "plt.figure(figsize=(9,6))\n",
    "for ind,r in results.items():\n",
    "    time = r.data['carriers']['time']\n",
    "    dne = r.data['carriers']['dne']\n",
    "    print(dne[-1])\n",
    "    plt.plot(time,dne,label=D.name_from_id(study.ids[ind]))\n",
    "plt.title('Carriers')\n",
    "plt.legend(loc='best')"
   ]
  },
  {
   "cell_type": "code",
   "execution_count": null,
   "metadata": {},
   "outputs": [],
   "source": [
    "for ind,r in results.items():\n",
    "    plt.figure(figsize=(10,6))\n",
    "    time = r.data['external_field']['time']\n",
    "    profile = r.data['external_field']['Profile'] #['Ex_Re']\n",
    "    plt.plot(time,profile,label=D.name_from_id(study.ids[ind]))\n",
    "    plt.title('Field profile')\n",
    "    plt.legend()"
   ]
  },
  {
   "cell_type": "code",
   "execution_count": null,
   "metadata": {},
   "outputs": [],
   "source": [
    "for ind,r in results.items():\n",
    "    plt.figure(figsize=(10,6))\n",
    "    time = r.data['polarization']['time']\n",
    "    dne = r.data['polarization']['Pol_x']\n",
    "    plt.plot(time,dne,label=D.name_from_id(study.ids[ind]))\n",
    "    plt.title('Polarization x component')\n",
    "    plt.legend()"
   ]
  },
  {
   "cell_type": "markdown",
   "metadata": {},
   "source": [
    "### Extraction of the echo signal"
   ]
  },
  {
   "cell_type": "code",
   "execution_count": 50,
   "metadata": {},
   "outputs": [],
   "source": [
    "x_dipole = results[0].dipoles.r_dipole(0)"
   ]
  },
  {
   "cell_type": "code",
   "execution_count": 51,
   "metadata": {},
   "outputs": [
    {
     "data": {
      "text/plain": [
       "294.0614899039999"
      ]
     },
     "execution_count": 51,
     "metadata": {},
     "output_type": "execute_result"
    }
   ],
   "source": [
    "dft = results[0].dft\n",
    "lat_vol = dft.eval_lattice_volume()\n",
    "lat_vol"
   ]
  },
  {
   "cell_type": "markdown",
   "metadata": {},
   "source": [
    "We compute the echo signal from the observable polarization"
   ]
  },
  {
   "cell_type": "code",
   "execution_count": 52,
   "metadata": {},
   "outputs": [],
   "source": [
    "px_ref = results[0].data['polarization']['Pol_x']\n",
    "#px_ref = results[0].data['current']['col1']\n",
    "time = results[0].data['polarization']['time']"
   ]
  },
  {
   "cell_type": "code",
   "execution_count": 53,
   "metadata": {},
   "outputs": [],
   "source": [
    "echo = {}"
   ]
  },
  {
   "cell_type": "code",
   "execution_count": 54,
   "metadata": {},
   "outputs": [],
   "source": [
    "for t in tau:\n",
    "    px =  []\n",
    "    for val in ['direct','invert']:\n",
    "        #ind = study.ids.index((t,val,eta_str,int_str))\n",
    "        ind = study.ids.index((t,val,int_str,pulse_str))\n",
    "        px.append(results[ind].data['polarization']['Pol_x'])\n",
    "        #px.append(results[ind].data['current']['col1'])\n",
    "    echo[t] = 0.5*(px[0]+px[1])-px_ref"
   ]
  },
  {
   "cell_type": "code",
   "execution_count": 55,
   "metadata": {},
   "outputs": [
    {
     "data": {
      "image/png": "[encoded data removed]",
      "text/plain": [
       "<Figure size 1008x648 with 1 Axes>"
      ]
     },
     "metadata": {
      "needs_background": "light"
     },
     "output_type": "display_data"
    }
   ],
   "source": [
    "plt.figure(figsize=(14,9))\n",
    "for t in tau:\n",
    "    plt.plot(time,echo[t])\n",
    "#plt.xlim(4000,4200)"
   ]
  },
  {
   "cell_type": "markdown",
   "metadata": {},
   "source": [
    "We save relevant data on file"
   ]
  },
  {
   "cell_type": "code",
   "execution_count": 56,
   "metadata": {},
   "outputs": [],
   "source": [
    "out = {}\n",
    "out['time'] = time.tolist()\n",
    "out['px_ref'] = px_ref.tolist()\n",
    "out['echo'] = {}\n",
    "out['profile'] = {}\n",
    "for tau,val in echo.items():\n",
    "    out['echo'][tau] = val.tolist()\n",
    "    ind = study.ids.index((tau,'direct',int_str,pulse_str))\n",
    "    profile = results[ind].data['external_field']['Profile']\n",
    "    out['profile'][tau] = profile.tolist()"
   ]
  },
  {
   "cell_type": "code",
   "execution_count": 58,
   "metadata": {},
   "outputs": [
    {
     "name": "stdout",
     "output_type": "stream",
     "text": [
      "save on file RT_Echo_k1000_kspan0.06/FixSymm/Results/echo_int_1e7_1e7-bands_4-5_omega_1.58-fwhm_10.yaml\n"
     ]
    }
   ],
   "source": [
    "file_name = 'echo_%s_%s.yaml'%(int_str,pulse_str)\n",
    "file = os.path.join(run_dir,'FixSymm','Results',file_name)\n",
    "print('save on file %s'%file)\n",
    "with open(file, 'w') as f:\n",
    "    yaml.dump(out,f,default_flow_style=False)    "
   ]
  },
  {
   "cell_type": "markdown",
   "metadata": {},
   "source": [
    "And we can read data from file"
   ]
  },
  {
   "cell_type": "code",
   "execution_count": 67,
   "metadata": {},
   "outputs": [
    {
     "data": {
      "text/plain": [
       "dict_keys(['echo', 'profile', 'px_ref', 'time'])"
      ]
     },
     "execution_count": 67,
     "metadata": {},
     "output_type": "execute_result"
    }
   ],
   "source": [
    "file_name = 'echo_%s_%s_%s.yaml'%(eta_str,int_str,pulse_str)\n",
    "file = os.path.join(run_dir,'FixSymm','Results',file_name)\n",
    "with open(file, 'r') as f:\n",
    "    data_loaded = yaml.safe_load(f)\n",
    "data_loaded.keys()"
   ]
  },
  {
   "cell_type": "code",
   "execution_count": 69,
   "metadata": {},
   "outputs": [],
   "source": [
    "time = data_loaded['time']\n",
    "px_ref = data_loaded['px_ref']\n",
    "echo = data_loaded['echo']\n",
    "profile = data_loaded['profile']"
   ]
  },
  {
   "cell_type": "code",
   "execution_count": 70,
   "metadata": {},
   "outputs": [
    {
     "data": {
      "text/plain": [
       "dict_keys(['0.5ps', '1.5ps', '1ps', '2.5ps', '2ps'])"
      ]
     },
     "execution_count": 70,
     "metadata": {},
     "output_type": "execute_result"
    }
   ],
   "source": [
    "profile.keys()"
   ]
  },
  {
   "cell_type": "code",
   "execution_count": null,
   "metadata": {},
   "outputs": [],
   "source": []
  },
  {
   "cell_type": "markdown",
   "metadata": {},
   "source": [
    "## Build the (non-linear) $\\eps$ with ypp_rt"
   ]
  },
  {
   "cell_type": "code",
   "execution_count": 12,
   "metadata": {},
   "outputs": [],
   "source": [
    "run_dir_rt = 'RT_Echo_k1000_kspan0.06/FixSymm/'\n",
    "name = 'ref-int_1e7_1e7-omega_1.58-fwhm_10/'\n",
    "jobname = 'job_'+name"
   ]
  },
  {
   "cell_type": "code",
   "execution_count": 4,
   "metadata": {},
   "outputs": [
    {
     "data": {
      "text/plain": [
       "{'args': 'ypp_rt -rtplot X',\n",
       " 'folder': 'RT_Echo_k1000_kspan0.06/FixSymm/',\n",
       " 'filename': 'yambo.in',\n",
       " 'arguments': ['RT_X', 'RTtime'],\n",
       " 'variables': {'Xorder': [1.0, ''],\n",
       "  'ETStpsRt': [200.0, ''],\n",
       "  'DampFactor': [0.0, 'eV'],\n",
       "  'DampMode': 'NONE',\n",
       "  'EnRngeRt': [[0.0, 20.0], 'eV'],\n",
       "  'TimeRange': [['-1.000000', '-1.000000'], 'fs']}}"
      ]
     },
     "execution_count": 4,
     "metadata": {},
     "output_type": "execute_result"
    }
   ],
   "source": [
    "input = I.YamboInput('ypp_rt -rtplot X',folder=run_dir_rt)\n",
    "input"
   ]
  },
  {
   "cell_type": "code",
   "execution_count": 5,
   "metadata": {},
   "outputs": [
    {
     "name": "stdout",
     "output_type": "stream",
     "text": [
      "Initialize a Yambo calculator with scheduler direct\n"
     ]
    }
   ],
   "source": [
    "code = C.YamboCalculator(omp=1,mpi=1,executable='ypp_rt')"
   ]
  },
  {
   "cell_type": "code",
   "execution_count": 6,
   "metadata": {},
   "outputs": [
    {
     "data": {
      "text/plain": [
       "\u001b[0;31mType:\u001b[0m        YamboCalculator\n",
       "\u001b[0;31mString form:\u001b[0m <mppi.Calculators.YamboCalculator.YamboCalculator object at 0x7f86544fd048>\n",
       "\u001b[0;31mFile:\u001b[0m        ~/Applications/MPPI/mppi/Calculators/YamboCalculator.py\n",
       "\u001b[0;31mDocstring:\u001b[0m  \n",
       "Perform a Yambo calculation. Computations are managed by a scheduler that,\n",
       "in the actual implementation of the class, can be `direct` or `slurm`.\n",
       "\n",
       "\n",
       "Parameters:\n",
       "   omp (:py:class:`int`) : value of the OMP_NUM_THREADS variable\n",
       "   mpi (:py:class:`int`) : number of mpi processes\n",
       "   mpi_run (:py:class:`string`) : command for the execution of mpirun, e.g. 'mpirun -np' or 'mpiexec -np'\n",
       "   executable (:py:class:`string`) : set the executable (yambo, ypp, yambo_rt, ...) of the Yambo package\n",
       "   scheduler (:py:class:`string`) : choose the scheduler used to submit the job, actually the choices implemented are\n",
       "        'direct' that runs the computation using the python subprocess package and 'slurm' that creates a slurm script\n",
       "   skip (:py:class:`bool`) : if True evaluate if the computation can be skipped. This is done by checking that the\n",
       "        report file built by yambo exsists and contains the string `game_over` defined as a data member of this class\n",
       "   clean_restart (:py:class:`bool`) : if True delete the folder with the output files and the database before running the computation\n",
       "   dry_run (:py:class:`bool`) : with this option enabled the calculator setup the calculations and write the script\n",
       "        for submitting the job, but the computations are not run\n",
       "   wait_end_run (:py:class:`bool`) : with this option disabled the run method does not wait the end of the run.\n",
       "        This option may be useful for interacting with the code in particular in _asincronous_ computation managed\n",
       "        by the slurm scheduler\n",
       "   sbatch_options (:py:class:`list`) : the elements of this list are strings used as options in the slurm script.\n",
       "        For instance it is possible to specify the number of tasks per node as `--ntasks-per-node=16`\n",
       "   activate_BeeOND (:py:class:`bool`) :  if True set I/O of the run in the BeeOND_dir created by the slurm scheduler.\n",
       "        The value of the ``BeeOND_dir``is written as a data member of the class and can be modified if needed\n",
       "   verbose (:py:class:`bool`) : set the amount of information provided on terminal\n",
       "   kwargs : other parameters that are stored in the _global_options dictionary\n",
       "\n",
       " Computations are performed in the folder specified by the ``run_dir`` parameter. The ``name`` parameter is\n",
       " used as name of the yambo input and as the name of the folder where yambo writes the o- `output` files.\n",
       " The ``jobname`` parameter is the name of the folder where yambo writes the .ndb databases. If this parameter\n",
       " is not provided in the run method the assumption jobname=name is made by the calculator.\n",
       "\n",
       " Example:\n",
       " >>> code = YamboCalculator(omp=1,mpi=4,mpi_run='mpirun -np',executable='yambo',skip=True,verbose=True,scheduler='direct')\n",
       " >>> code.run(input = ..., run_dir = ...,name = ...,jobname = ..., **kwargs)\n",
       "\n",
       " When the run method is called the class runs the command:\n",
       "    cd run_dir ; mpi_run mpi executable_name -F name.in -J jobname -C name - O out_dir\n",
       "\n",
       " where the arguments of the run method are:\n",
       "\n",
       "Args:\n",
       "    run_dir (:py:class:`string`) : the folder in which the simulation is performed\n",
       "    input (:py:class:`string`) : instance of the :class:`YamboInput` class\n",
       "        that define the input objects\n",
       "    name (:py:class:`string`) : string with the names associated to the input file (without extension).\n",
       "        This string is used also as the name of the folder in which results are written as well as a\n",
       "        part of the name of the output files.\n",
       "    jobname (:py:class:`string`) : string with the values of the jobname. If this variable is not specified\n",
       "        the value of name is attributed to jobname by process_run.\n",
       "    out_dir (:py:class:`string`) : position of the folder in which the $jobname folder is located. This parameter\n",
       "        is automatically set by the calculator the value of ``BeeOND_dir`` if the option `activate_BeeOND` is enabled.\n",
       "        Otherwise all the folders are written in the ``run_dir``.\n",
       "    kwargs : other parameters that are stored in the run_options dictionary\n"
      ]
     },
     "metadata": {},
     "output_type": "display_data"
    }
   ],
   "source": [
    "code?"
   ]
  },
  {
   "cell_type": "code",
   "execution_count": 14,
   "metadata": {},
   "outputs": [
    {
     "name": "stdout",
     "output_type": "stream",
     "text": [
      "Skip the run of ref-int_1e7_1e7-omega_1.58-fwhm_10/\n"
     ]
    },
    {
     "data": {
      "text/plain": [
       "{'output': ['RT_Echo_k1000_kspan0.06/FixSymm/ref-int_1e7_1e7-omega_1.58-fwhm_10/o-ref-int_1e7_1e7-omega_1.58-fwhm_10.current',\n",
       "  'RT_Echo_k1000_kspan0.06/FixSymm/ref-int_1e7_1e7-omega_1.58-fwhm_10/o-ref-int_1e7_1e7-omega_1.58-fwhm_10.polarization',\n",
       "  'RT_Echo_k1000_kspan0.06/FixSymm/ref-int_1e7_1e7-omega_1.58-fwhm_10/o-ref-int_1e7_1e7-omega_1.58-fwhm_10.carriers',\n",
       "  'RT_Echo_k1000_kspan0.06/FixSymm/ref-int_1e7_1e7-omega_1.58-fwhm_10/o-ref-int_1e7_1e7-omega_1.58-fwhm_10.external_field'],\n",
       " 'report': 'RT_Echo_k1000_kspan0.06/FixSymm/ref-int_1e7_1e7-omega_1.58-fwhm_10/r-ref-int_1e7_1e7-omega_1.58-fwhm_10_negf',\n",
       " 'dft': 'RT_Echo_k1000_kspan0.06/FixSymm/SAVE/ns.db1',\n",
       " 'RT_G': 'RT_Echo_k1000_kspan0.06/FixSymm/ref-int_1e7_1e7-omega_1.58-fwhm_10/ndb.RT_G',\n",
       " 'RT_G_PAR': 'RT_Echo_k1000_kspan0.06/FixSymm/ref-int_1e7_1e7-omega_1.58-fwhm_10/ndb.RT_G_PAR',\n",
       " 'RT_carriers': 'RT_Echo_k1000_kspan0.06/FixSymm/ref-int_1e7_1e7-omega_1.58-fwhm_10/ndb.RT_carriers',\n",
       " 'RT_reference_components': 'RT_Echo_k1000_kspan0.06/FixSymm/ref-int_1e7_1e7-omega_1.58-fwhm_10/ndb.RT_reference_components',\n",
       " 'dipoles': 'RT_Echo_k1000_kspan0.06/FixSymm/ref-int_1e7_1e7-omega_1.58-fwhm_10/ndb.dipoles'}"
      ]
     },
     "execution_count": 14,
     "metadata": {},
     "output_type": "execute_result"
    }
   ],
   "source": [
    "code.run(input=input,run_dir=run_dir_rt,name=name) #,jobname=jobname)"
   ]
  },
  {
   "cell_type": "code",
   "execution_count": null,
   "metadata": {},
   "outputs": [],
   "source": []
  }
 ],
 "metadata": {
  "kernelspec": {
   "display_name": "Python 3",
   "language": "python",
   "name": "python3"
  },
  "language_info": {
   "codemirror_mode": {
    "name": "ipython",
    "version": 3
   },
   "file_extension": ".py",
   "mimetype": "text/x-python",
   "name": "python",
   "nbconvert_exporter": "python",
   "pygments_lexer": "ipython3",
   "version": "3.6.8"
  }
 },
 "nbformat": 4,
 "nbformat_minor": 4
}
