{
 "cells": [
  {
   "cell_type": "code",
   "execution_count": 1,
   "metadata": {},
   "outputs": [],
   "source": [
    "# useful to autoreload the module without restarting the kernel\n",
    "%load_ext autoreload\n",
    "%autoreload 2"
   ]
  },
  {
   "cell_type": "code",
   "execution_count": 1,
   "metadata": {},
   "outputs": [],
   "source": [
    "from mppi import InputFiles as I, Calculators as C, Datasets as D, Utilities as U, Parsers as P\n",
    "from mppi.Models import TwoLevelSystems as TLS\n",
    "from mppi.Utilities import Constants as Const\n",
    "import matplotlib.pyplot as plt\n",
    "import numpy as np\n",
    "import os\n",
    "import yaml\n",
    "\n",
    "h_red = Const.Planck_reduced_ev_ps*1e3 # hbar in eV*fs\n",
    "h = Const.Planck_ev_ps*1e3 # h in eV*fs"
   ]
  },
  {
   "cell_type": "code",
   "execution_count": 30,
   "metadata": {},
   "outputs": [
    {
     "name": "stdout",
     "output_type": "stream",
     "text": [
      "rsync -rLptgoDzv --exclude={'*_fragment_*','*_fragments_*','*_CPU_*'} -e ssh ismhpc:/work/dalessandro/OPTICAL_ORIENTATION/Echo_mechanisms_deacy_time/PHOTON_ECO/RT_Echo_k509-activated-energy_1.46-width_0.025/ RT_Echo_k509-activated-energy_1.46-width_0.025\n"
     ]
    }
   ],
   "source": [
    "# Update data from the ismhpc server. The command has to be executed directly from the command line, actually\n",
    "# os.system does not recognize the files to be excluded. The --dry-run option can be used to control the effects\n",
    "# of the command before the real copy\n",
    "dry_run = False\n",
    "rsync_str = \"rsync -rLptgoDzv --exclude={'*_fragment_*','*_fragments_*','*_CPU_*'} \"\n",
    "if dry_run: rsync_str += '--dry-run '\n",
    "ssh_str = '-e ssh ismhpc:/work/dalessandro/OPTICAL_ORIENTATION/Echo_mechanisms_deacy_time/PHOTON_ECO/RT_Echo_k509-activated-energy_1.46-width_0.025/ '\n",
    "dest_path = 'RT_Echo_k509-activated-energy_1.46-width_0.025'\n",
    "#dest_path = os.path.abspath('RT_Echo_k509-activated-energy_1.46-width_0.025')\n",
    "#dest_path = \"'%s'\"%dest_path\n",
    "command = rsync_str+ssh_str+dest_path\n",
    "print(command)\n",
    "#os.system(command)"
   ]
  },
  {
   "cell_type": "code",
   "execution_count": 32,
   "metadata": {},
   "outputs": [
    {
     "name": "stdout",
     "output_type": "stream",
     "text": [
      "number of mpi 16\n"
     ]
    }
   ],
   "source": [
    "omp = 1\n",
    "mpi_k = 16\n",
    "mpi_b = 1\n",
    "mpi = int(mpi_k*mpi_b)\n",
    "print('number of mpi',mpi)\n",
    "sbatch_options = ['--partition=all12h'] #,'--ntasks-per-node=16']"
   ]
  },
  {
   "cell_type": "code",
   "execution_count": 34,
   "metadata": {},
   "outputs": [
    {
     "name": "stdout",
     "output_type": "stream",
     "text": [
      "Initialize a Yambo calculator with scheduler slurm\n"
     ]
    },
    {
     "data": {
      "text/plain": [
       "{'omp': 1,\n",
       " 'mpi': 16,\n",
       " 'mpi_run': 'mpirun -np',\n",
       " 'executable': 'yambo_rt',\n",
       " 'scheduler': 'slurm',\n",
       " 'skip': True,\n",
       " 'clean_restart': True,\n",
       " 'dry_run': False,\n",
       " 'wait_end_run': True,\n",
       " 'sbatch_options': ['--partition=all12h'],\n",
       " 'activate_BeeOND': True,\n",
       " 'verbose': True}"
      ]
     },
     "execution_count": 34,
     "metadata": {},
     "output_type": "execute_result"
    }
   ],
   "source": [
    "#code = C.YamboCalculator(omp=omp,mpi=mpi,executable='yambo_rt')\n",
    "code = C.YamboCalculator(omp=omp,mpi=mpi,executable='yambo_rt',scheduler='slurm',sbatch_options=sbatch_options)\n",
    "code.global_options()"
   ]
  },
  {
   "cell_type": "markdown",
   "metadata": {},
   "source": [
    "We have performed some performance tests to find the optimal choice of the k_b parallelization.\n",
    "Here the preliminary results\n",
    "\n",
    "16_1 run is 1m-59s\n",
    "\n",
    "16_2 run is 2m-36s\n",
    "\n",
    "32_1 run is 4m-07s\n",
    "\n",
    "32_1_2nodee does not create the BeeOND_Dir"
   ]
  },
  {
   "cell_type": "markdown",
   "metadata": {},
   "source": [
    "# Echo signal from RT analysis in GaAs"
   ]
  },
  {
   "cell_type": "markdown",
   "metadata": {},
   "source": [
    "This notebook contains the RT analysis of the photon echo mechanism for GaAs performed with Yambo."
   ]
  },
  {
   "cell_type": "markdown",
   "metadata": {},
   "source": [
    "## Analysis of the echo peak from the RT non-perturbative solution. Decay time determination and echo efficiency assessment "
   ]
  },
  {
   "cell_type": "markdown",
   "metadata": {},
   "source": [
    "We repeat the previous analysis using an improved k sampling in which an higher number of k points in the energy range of the pulses is used. \n",
    "In this way we test if a richer sampling reduce the non echo contribution due to an FID.\n",
    "\n",
    "In this stage we also add an explicit decaying time on the coherences and use the echo signal to compute the decay time."
   ]
  },
  {
   "cell_type": "code",
   "execution_count": 35,
   "metadata": {},
   "outputs": [],
   "source": [
    "# Common parameters (eventually overwritten by the dictionary values)\n",
    "time_step = 10 # as\n",
    "\n",
    "# old analysis with a worst k-points sampling\n",
    "#run_dir = 'RT_Echo_k100'\n",
    "#source_dir = 'NSCF/bnds_8-kpoints_100-sampling_random_close_Gamma_kspan0.04.save'\n",
    "\n",
    "# analysis with improved k-points sampling\n",
    "run_dir = 'RT_Echo_k509-activated-energy_1.46-width_0.025'\n",
    "source_dir = 'NSCF/bnds_8-kpoints_509-sampling_activated-energy_1.46-width_0.025.save'"
   ]
  },
  {
   "cell_type": "markdown",
   "metadata": {},
   "source": [
    "We set the intensity of the pulses and time shift and we extract the echo signal from the non-perturbative solution"
   ]
  },
  {
   "cell_type": "code",
   "execution_count": 36,
   "metadata": {},
   "outputs": [],
   "source": [
    "#int1, int2 = 1e3, 2e2 # intensity of the pulses in kW/cm^2\n",
    "#int_str = 'int_1e3_2e2'\n",
    "\n",
    "#int1, int2 = 1e4, 2e3 # intensity of the pulses in kW/cm^2\n",
    "#int_str = 'int_1e4_2e3'\n",
    "\n",
    "int1, int2 = 1e4, 1e4 # intensity of the pulses in kW/cm^2\n",
    "int_str = 'int_1e4_1e4'\n",
    "\n",
    "#eta = 0.\n",
    "#eta_str = 'no_decay'\n",
    "\n",
    "eta = 4e-4\n",
    "eta_str = 'decay'"
   ]
  },
  {
   "cell_type": "code",
   "execution_count": 37,
   "metadata": {},
   "outputs": [],
   "source": [
    "fwhm = 100 # fs FWHM of the pulses \n",
    "energy = 1.46 # 1.5 # eV energy of the pulsea\n",
    "omega = energy/h_red # angular frequency of the pulse\n",
    "period = h/energy # period of the pulse fs\n",
    "scissor = 0.9548 # (eV) (taken from QE_Analysis it gives a direct gap of 1.42 eV)\n",
    "NETime = 6000 # fs length of the simulation"
   ]
  },
  {
   "cell_type": "code",
   "execution_count": 38,
   "metadata": {},
   "outputs": [
    {
     "data": {
      "text/plain": [
       "0.09071795328941251"
      ]
     },
     "execution_count": 38,
     "metadata": {},
     "output_type": "execute_result"
    }
   ],
   "source": [
    "np.exp(-eta*NETime)"
   ]
  },
  {
   "cell_type": "code",
   "execution_count": 39,
   "metadata": {},
   "outputs": [
    {
     "data": {
      "text/plain": [
       "{'0.5ps': 501.3788919123287,\n",
       " '1ps': 999.9251347178081,\n",
       " '1.5ps': 1501.3040266301368,\n",
       " '2ps': 1999.8502694356162,\n",
       " '2.5ps': 2501.2291613479447}"
      ]
     },
     "execution_count": 39,
     "metadata": {},
     "output_type": "execute_result"
    }
   ],
   "source": [
    "tau = {'0.5ps':period*177,'1ps':period*353,'1.5ps':period*530,'2ps':period*706,'2.5ps':period*883}\n",
    "tau"
   ]
  },
  {
   "cell_type": "code",
   "execution_count": 40,
   "metadata": {},
   "outputs": [],
   "source": [
    "simulations = []\n",
    "simulations.append({ # add the ref simulation\n",
    "    'source_dir' : source_dir,\n",
    "    'id' : ('ref',eta_str,int_str),\n",
    "    'run_dir' : run_dir,\n",
    "    'fields'  : [dict(index=1,int=int1,freq=energy,fwhm=fwhm,polarization='linear')],\n",
    "    'sim_time'  : NETime,\n",
    "    'eta'       : 1e-5,\n",
    "    'no_sym'    : False,\n",
    "    'bands'     : [2,5],\n",
    "    'skip'      : True\n",
    "    }\n",
    ")\n",
    "for t in tau: # add the simulations for each value of tau\n",
    "    simulations.append({\n",
    "        'id' : (t,'direct',eta_str,int_str),\n",
    "        'source_dir' : source_dir,\n",
    "        'run_dir' : run_dir,\n",
    "        'fields'  : [dict(index=1,int=int1,freq=energy,fwhm=fwhm,polarization='linear'),\n",
    "                     dict(index=2,int=int2,freq=energy,fwhm=fwhm,polarization='linear',tstart=tau[t],tstart_units='fs')],\n",
    "        'sim_time'  : NETime,\n",
    "        'eta'       : 1e-5,\n",
    "        'no_sym'    : False,\n",
    "        'bands'     : [2,5],\n",
    "        'skip'      : True\n",
    "    })\n",
    "    simulations.append({\n",
    "        'id' : (t,'invert',eta_str,int_str),\n",
    "        'source_dir' : source_dir,\n",
    "        'run_dir' : run_dir,\n",
    "        'fields'  : [dict(index=1,int=int1,freq=energy,fwhm=fwhm,polarization='linear'),\n",
    "                     dict(index=2,int=int2,freq=energy,fwhm=fwhm,polarization='linear',\n",
    "                     direction=[-1.,0.,0.],tstart=tau[t],tstart_units='fs')],\n",
    "        'sim_time'  : NETime,\n",
    "        'eta'       : 1e-5,\n",
    "        'no_sym'    : False,\n",
    "        'bands'     : [2,5],\n",
    "        'skip'      : True\n",
    "    })"
   ]
  },
  {
   "cell_type": "code",
   "execution_count": 41,
   "metadata": {},
   "outputs": [
    {
     "data": {
      "text/plain": [
       "{'id': ('0.5ps', 'direct', 'decay', 'int_1e4_1e4'),\n",
       " 'source_dir': 'NSCF/bnds_8-kpoints_509-sampling_activated-energy_1.46-width_0.025.save',\n",
       " 'run_dir': 'RT_Echo_k509-activated-energy_1.46-width_0.025',\n",
       " 'fields': [{'index': 1,\n",
       "   'int': 10000.0,\n",
       "   'freq': 1.46,\n",
       "   'fwhm': 100,\n",
       "   'polarization': 'linear'},\n",
       "  {'index': 2,\n",
       "   'int': 10000.0,\n",
       "   'freq': 1.46,\n",
       "   'fwhm': 100,\n",
       "   'polarization': 'linear',\n",
       "   'tstart': 501.3788919123287,\n",
       "   'tstart_units': 'fs'}],\n",
       " 'sim_time': 6000,\n",
       " 'eta': 1e-05,\n",
       " 'no_sym': False,\n",
       " 'bands': [2, 5],\n",
       " 'skip': True}"
      ]
     },
     "execution_count": 41,
     "metadata": {},
     "output_type": "execute_result"
    }
   ],
   "source": [
    "simulations[1]"
   ]
  },
  {
   "cell_type": "markdown",
   "metadata": {},
   "source": [
    "### Construction of the SAVE folder and FixSymm procedure"
   ]
  },
  {
   "cell_type": "code",
   "execution_count": 42,
   "metadata": {},
   "outputs": [
    {
     "name": "stdout",
     "output_type": "stream",
     "text": [
      "build SAVE and perform FixSymm for ('ref', 'decay', 'int_1e4_1e4')\n",
      "SAVE folder already present in RT_Echo_k509-activated-energy_1.46-width_0.025. No operations performed.\n",
      "SAVE folder already present in RT_Echo_k509-activated-energy_1.46-width_0.025/FixSymm. No operations performed.\n",
      " \n",
      "build SAVE and perform FixSymm for ('0.5ps', 'direct', 'decay', 'int_1e4_1e4')\n",
      "SAVE folder already present in RT_Echo_k509-activated-energy_1.46-width_0.025. No operations performed.\n",
      "SAVE folder already present in RT_Echo_k509-activated-energy_1.46-width_0.025/FixSymm. No operations performed.\n",
      " \n",
      "build SAVE and perform FixSymm for ('0.5ps', 'invert', 'decay', 'int_1e4_1e4')\n",
      "SAVE folder already present in RT_Echo_k509-activated-energy_1.46-width_0.025. No operations performed.\n",
      "SAVE folder already present in RT_Echo_k509-activated-energy_1.46-width_0.025/FixSymm. No operations performed.\n",
      " \n",
      "build SAVE and perform FixSymm for ('1ps', 'direct', 'decay', 'int_1e4_1e4')\n",
      "SAVE folder already present in RT_Echo_k509-activated-energy_1.46-width_0.025. No operations performed.\n",
      "SAVE folder already present in RT_Echo_k509-activated-energy_1.46-width_0.025/FixSymm. No operations performed.\n",
      " \n",
      "build SAVE and perform FixSymm for ('1ps', 'invert', 'decay', 'int_1e4_1e4')\n",
      "SAVE folder already present in RT_Echo_k509-activated-energy_1.46-width_0.025. No operations performed.\n",
      "SAVE folder already present in RT_Echo_k509-activated-energy_1.46-width_0.025/FixSymm. No operations performed.\n",
      " \n",
      "build SAVE and perform FixSymm for ('1.5ps', 'direct', 'decay', 'int_1e4_1e4')\n",
      "SAVE folder already present in RT_Echo_k509-activated-energy_1.46-width_0.025. No operations performed.\n",
      "SAVE folder already present in RT_Echo_k509-activated-energy_1.46-width_0.025/FixSymm. No operations performed.\n",
      " \n",
      "build SAVE and perform FixSymm for ('1.5ps', 'invert', 'decay', 'int_1e4_1e4')\n",
      "SAVE folder already present in RT_Echo_k509-activated-energy_1.46-width_0.025. No operations performed.\n",
      "SAVE folder already present in RT_Echo_k509-activated-energy_1.46-width_0.025/FixSymm. No operations performed.\n",
      " \n",
      "build SAVE and perform FixSymm for ('2ps', 'direct', 'decay', 'int_1e4_1e4')\n",
      "SAVE folder already present in RT_Echo_k509-activated-energy_1.46-width_0.025. No operations performed.\n",
      "SAVE folder already present in RT_Echo_k509-activated-energy_1.46-width_0.025/FixSymm. No operations performed.\n",
      " \n",
      "build SAVE and perform FixSymm for ('2ps', 'invert', 'decay', 'int_1e4_1e4')\n",
      "SAVE folder already present in RT_Echo_k509-activated-energy_1.46-width_0.025. No operations performed.\n",
      "SAVE folder already present in RT_Echo_k509-activated-energy_1.46-width_0.025/FixSymm. No operations performed.\n",
      " \n",
      "build SAVE and perform FixSymm for ('2.5ps', 'direct', 'decay', 'int_1e4_1e4')\n",
      "SAVE folder already present in RT_Echo_k509-activated-energy_1.46-width_0.025. No operations performed.\n",
      "SAVE folder already present in RT_Echo_k509-activated-energy_1.46-width_0.025/FixSymm. No operations performed.\n",
      " \n",
      "build SAVE and perform FixSymm for ('2.5ps', 'invert', 'decay', 'int_1e4_1e4')\n",
      "SAVE folder already present in RT_Echo_k509-activated-energy_1.46-width_0.025. No operations performed.\n",
      "SAVE folder already present in RT_Echo_k509-activated-energy_1.46-width_0.025/FixSymm. No operations performed.\n",
      " \n"
     ]
    }
   ],
   "source": [
    "#for ind,sim in enumerate(simulations):\n",
    "for sim in simulations:\n",
    "    source_dir = sim['source_dir']\n",
    "    run_dir = sim['run_dir']\n",
    "    if not sim['no_sym']:\n",
    "        sim['rt_run_dir'] = os.path.join(sim['run_dir'],'FixSymm')\n",
    "        print('build SAVE and perform FixSymm for %s'%str(sim['id']))\n",
    "        U.build_SAVE(source_dir,run_dir,make_link=True,overwrite_if_found=False)\n",
    "        U.make_FixSymm(run_dir,Efield1=[1.,0.,0.],overwrite_if_found=False)\n",
    "    else:\n",
    "        sim['rt_run_dir'] = sim['run_dir']\n",
    "        print('build SAVE for %s sim with the -nosym option'%sim['id'])\n",
    "        U.build_SAVE(source_dir,run_dir,make_link=True,command='p2y -nosym')\n",
    "    print(' ')\n",
    "\n",
    "#Remove the contribution of the pseudo from the commutator\n",
    "for sim in simulations:\n",
    "    rt_run_dir = sim['rt_run_dir']\n",
    "    db = 'ns.kb_pp_pwscf'\n",
    "    src = os.path.join(rt_run_dir,'SAVE',db)\n",
    "    dst = os.path.join(rt_run_dir,'SAVE',db+'_hide')\n",
    "    command = 'mv %s %s'%(src,dst)\n",
    "    #print(command)\n",
    "    os.system(command)"
   ]
  },
  {
   "cell_type": "markdown",
   "metadata": {},
   "source": [
    "### Running of the simulations"
   ]
  },
  {
   "cell_type": "markdown",
   "metadata": {},
   "source": [
    "We build the input object for each simulation. Some parameters are common for all the simulations\n",
    "and are specified here, the others are taken from the dictionary.\n",
    "\n",
    "The input are added to the simulations dict."
   ]
  },
  {
   "cell_type": "code",
   "execution_count": 43,
   "metadata": {},
   "outputs": [],
   "source": [
    "io_time = [50.0,50.0,1.0] # [5.0,1.0,1.0] # I/O (CARRIERs - GF - OUTPUT) in fs\n",
    "io_cacheTime = [[50.0,100.0],'fs'] # Time between two consecutive (caching - I/O) of OBSERVABLES"
   ]
  },
  {
   "cell_type": "code",
   "execution_count": 44,
   "metadata": {},
   "outputs": [],
   "source": [
    "for sim in simulations:\n",
    "    rt_input = I.YamboInput('yambo_rt -n p2 -v ip -V rt',folder=sim['rt_run_dir'])\n",
    "    for f in sim['fields']:\n",
    "        rt_input.set_rt_field(**f)\n",
    "    if eta == 0.:\n",
    "        rt_input.set_rt_bands(bands=sim['bands'],scissor=scissor,damping_valence=sim['eta'],damping_conduction=sim['eta'])\n",
    "    else:\n",
    "        rt_input.set_rt_bands(bands=sim['bands'],scissor=scissor,damping_valence=0.,damping_conduction=0.)\n",
    "        rt_input['variables']['PhLifeTime'] = [1/eta,'fs']\n",
    "    rt_input.set_rt_simulationTimes(sim_time=sim['sim_time'],io_time=io_time,time_step=time_step)\n",
    "    rt_input.set_rt_cpu(k=mpi_k,b=mpi_b)\n",
    "    rt_input['variables']['DBsIOoff']='obs carriers'  # do not write these databases on file\n",
    "    rt_input['variables']['IOCachetime'] = io_cacheTime\n",
    "    #rt_input['arguments'].append('SaveGhistory')\n",
    "    sim['input'] = rt_input"
   ]
  },
  {
   "cell_type": "code",
   "execution_count": 60,
   "metadata": {},
   "outputs": [],
   "source": [
    "#simulations[1]"
   ]
  },
  {
   "cell_type": "code",
   "execution_count": 46,
   "metadata": {},
   "outputs": [
    {
     "name": "stdout",
     "output_type": "stream",
     "text": [
      "Initialize a Dataset with 6 parallel tasks\n"
     ]
    }
   ],
   "source": [
    "study = D.Dataset(num_tasks=6)\n",
    "study.set_postprocessing_function(D.PostProcessing.yambo_parse_data)"
   ]
  },
  {
   "cell_type": "code",
   "execution_count": 47,
   "metadata": {},
   "outputs": [],
   "source": [
    "for sim in simulations:\n",
    "    study.append_run(id=sim['id'],input=sim['input'],run_dir=sim['rt_run_dir'],runner=code,skip=sim['skip'])"
   ]
  },
  {
   "cell_type": "code",
   "execution_count": 48,
   "metadata": {},
   "outputs": [
    {
     "data": {
      "text/plain": [
       "[('ref', 'decay', 'int_1e4_1e4'),\n",
       " ('0.5ps', 'direct', 'decay', 'int_1e4_1e4'),\n",
       " ('0.5ps', 'invert', 'decay', 'int_1e4_1e4'),\n",
       " ('1ps', 'direct', 'decay', 'int_1e4_1e4'),\n",
       " ('1ps', 'invert', 'decay', 'int_1e4_1e4'),\n",
       " ('1.5ps', 'direct', 'decay', 'int_1e4_1e4'),\n",
       " ('1.5ps', 'invert', 'decay', 'int_1e4_1e4'),\n",
       " ('2ps', 'direct', 'decay', 'int_1e4_1e4'),\n",
       " ('2ps', 'invert', 'decay', 'int_1e4_1e4'),\n",
       " ('2.5ps', 'direct', 'decay', 'int_1e4_1e4'),\n",
       " ('2.5ps', 'invert', 'decay', 'int_1e4_1e4')]"
      ]
     },
     "execution_count": 48,
     "metadata": {},
     "output_type": "execute_result"
    }
   ],
   "source": [
    "study.ids"
   ]
  },
  {
   "cell_type": "code",
   "execution_count": 49,
   "metadata": {},
   "outputs": [
    {
     "name": "stdout",
     "output_type": "stream",
     "text": [
      "Run the selection [0, 1, 2, 3, 4, 5, 6, 7, 8, 9, 10] with the parallel task_groups [[0, 1, 2, 3, 4, 5], [6, 7, 8, 9, 10]] \n",
      "\n",
      "Run the task [0, 1, 2, 3, 4, 5] \n",
      "Skip the run of 1ps-invert-decay-int_1e4_1e4\n",
      "Skip the run of 1.5ps-direct-decay-int_1e4_1e4\n",
      "Skip the run of ref-decay-int_1e4_1e4\n",
      "Skip the run of 0.5ps-invert-decay-int_1e4_1e4\n",
      "Skip the run of 0.5ps-direct-decay-int_1e4_1e4\n",
      "Skip the run of 1ps-direct-decay-int_1e4_1e4\n",
      "Task [0, 1, 2, 3, 4, 5] ended \n",
      " \n",
      "Run the task [6, 7, 8, 9, 10] \n",
      "Skip the run of 2ps-direct-decay-int_1e4_1e4\n",
      "Skip the run of 1.5ps-invert-decay-int_1e4_1e4\n",
      "Skip the run of 2.5ps-direct-decay-int_1e4_1e4\n",
      "Skip the run of 2ps-invert-decay-int_1e4_1e4\n",
      "Skip the run of 2.5ps-invert-decay-int_1e4_1e4\n",
      "Task [6, 7, 8, 9, 10] ended \n",
      " \n"
     ]
    }
   ],
   "source": [
    "results = study.run()"
   ]
  },
  {
   "cell_type": "code",
   "execution_count": 50,
   "metadata": {},
   "outputs": [
    {
     "name": "stdout",
     "output_type": "stream",
     "text": [
      "0.603392232\n",
      "0.587996179\n",
      "0.405230608\n",
      "0.571843284\n",
      "0.59875683\n",
      "0.581033422\n",
      "0.591204368\n",
      "0.602476612\n",
      "0.591382337\n",
      "0.599479682\n",
      "0.598051405\n"
     ]
    },
    {
     "data": {
      "image/png": "[encoded data removed]",
      "text/plain": [
       "<Figure size 648x432 with 1 Axes>"
      ]
     },
     "metadata": {
      "needs_background": "light"
     },
     "output_type": "display_data"
    }
   ],
   "source": [
    "plt.figure(figsize=(9,6))\n",
    "for ind,r in results.items():\n",
    "    time = r.data['carriers']['time']\n",
    "    dne = r.data['carriers']['dne']\n",
    "    print(dne[-1])\n",
    "    plt.plot(time,dne,label=D.name_from_id(study.ids[ind]))\n",
    "    plt.title('Carriers')\n",
    "    plt.legend()"
   ]
  },
  {
   "cell_type": "code",
   "execution_count": null,
   "metadata": {},
   "outputs": [],
   "source": [
    "for ind,r in results.items():\n",
    "    plt.figure(figsize=(10,6))\n",
    "    time = r.data['external_field']['time']\n",
    "    profile = r.data['external_field']['Ex_Re'] #['Profile']\n",
    "    plt.plot(time,profile,label=D.name_from_id(study.ids[ind]))\n",
    "    plt.title('Field profile')\n",
    "    plt.legend()"
   ]
  },
  {
   "cell_type": "code",
   "execution_count": null,
   "metadata": {},
   "outputs": [],
   "source": [
    "for ind,r in results.items():\n",
    "    plt.figure(figsize=(10,6))\n",
    "    time = r.data['polarization']['time']\n",
    "    dne = r.data['polarization']['Pol_x']\n",
    "    plt.plot(time,dne,label=D.name_from_id(study.ids[ind]))\n",
    "    plt.title('Polarization x component')\n",
    "    plt.legend()"
   ]
  },
  {
   "cell_type": "markdown",
   "metadata": {},
   "source": [
    "### Extraction of the echo signal"
   ]
  },
  {
   "cell_type": "code",
   "execution_count": 51,
   "metadata": {},
   "outputs": [],
   "source": [
    "x_dipole = results[0].dipoles.r_dipole(0)"
   ]
  },
  {
   "cell_type": "code",
   "execution_count": 52,
   "metadata": {},
   "outputs": [
    {
     "data": {
      "text/plain": [
       "294.0614899039999"
      ]
     },
     "execution_count": 52,
     "metadata": {},
     "output_type": "execute_result"
    }
   ],
   "source": [
    "dft = results[0].dft\n",
    "lat_vol = dft.eval_lattice_volume()\n",
    "lat_vol"
   ]
  },
  {
   "cell_type": "markdown",
   "metadata": {},
   "source": [
    "We compute the echo signal from the observable polarization"
   ]
  },
  {
   "cell_type": "code",
   "execution_count": 53,
   "metadata": {},
   "outputs": [],
   "source": [
    "px_ref = results[0].data['polarization']['Pol_x']\n",
    "#px_ref = results[0].data['current']['col1']\n",
    "time = results[0].data['polarization']['time']"
   ]
  },
  {
   "cell_type": "code",
   "execution_count": 54,
   "metadata": {},
   "outputs": [],
   "source": [
    "echo = {}"
   ]
  },
  {
   "cell_type": "code",
   "execution_count": 55,
   "metadata": {},
   "outputs": [],
   "source": [
    "for t in tau:\n",
    "    px =  []\n",
    "    for val in ['direct','invert']:\n",
    "        ind = study.ids.index((t,val,eta_str,int_str))\n",
    "        px.append(results[ind].data['polarization']['Pol_x'])\n",
    "        #px.append(results[ind].data['current']['col1'])\n",
    "    echo[t] = 0.5*(px[0]+px[1])-px_ref"
   ]
  },
  {
   "cell_type": "code",
   "execution_count": 56,
   "metadata": {},
   "outputs": [
    {
     "data": {
      "image/png": "[encoded data removed]",
      "text/plain": [
       "<Figure size 1008x648 with 1 Axes>"
      ]
     },
     "metadata": {
      "needs_background": "light"
     },
     "output_type": "display_data"
    }
   ],
   "source": [
    "plt.figure(figsize=(14,9))\n",
    "for t in tau:\n",
    "    plt.plot(time,echo[t])\n",
    "#plt.xlim(4000,4200)"
   ]
  },
  {
   "cell_type": "markdown",
   "metadata": {},
   "source": [
    "We save relevant data on file"
   ]
  },
  {
   "cell_type": "code",
   "execution_count": 57,
   "metadata": {},
   "outputs": [],
   "source": [
    "out = {}\n",
    "out['time'] = time.tolist()\n",
    "out['px_ref'] = px_ref.tolist()\n",
    "out['echo'] = {}\n",
    "out['profile'] = {}\n",
    "for tau,val in echo.items():\n",
    "    out['echo'][tau] = val.tolist()\n",
    "    ind = study.ids.index((tau,'direct',eta_str,int_str))\n",
    "    profile = results[ind].data['external_field']['Profile']\n",
    "    out['profile'][tau] = profile.tolist()"
   ]
  },
  {
   "cell_type": "code",
   "execution_count": 58,
   "metadata": {},
   "outputs": [
    {
     "name": "stdout",
     "output_type": "stream",
     "text": [
      "save on file RT_Echo_k509-activated-energy_1.46-width_0.025/FixSymm/Results/echo_decay_int_1e4_1e4.yaml\n"
     ]
    }
   ],
   "source": [
    "file_name = 'echo_%s_%s.yaml'%(eta_str,int_str)\n",
    "file = os.path.join(run_dir,'FixSymm','Results',file_name)\n",
    "print('save on file %s'%file)\n",
    "with open(file, 'w') as f:\n",
    "    yaml.dump(out,f,default_flow_style=False)"
   ]
  },
  {
   "cell_type": "markdown",
   "metadata": {},
   "source": [
    "And we can read data from file"
   ]
  },
  {
   "cell_type": "code",
   "execution_count": 67,
   "metadata": {},
   "outputs": [
    {
     "data": {
      "text/plain": [
       "dict_keys(['echo', 'profile', 'px_ref', 'time'])"
      ]
     },
     "execution_count": 67,
     "metadata": {},
     "output_type": "execute_result"
    }
   ],
   "source": [
    "file_name = 'echo_%s_%s.yaml'%(eta_str,int_str)\n",
    "file = os.path.join(run_dir,'FixSymm','Results',file_name)\n",
    "with open(file, 'r') as f:\n",
    "    data_loaded = yaml.safe_load(f)\n",
    "data_loaded.keys()"
   ]
  },
  {
   "cell_type": "code",
   "execution_count": 69,
   "metadata": {},
   "outputs": [],
   "source": [
    "time = data_loaded['time']\n",
    "px_ref = data_loaded['px_ref']\n",
    "echo = data_loaded['echo']\n",
    "profile = data_loaded['profile']"
   ]
  },
  {
   "cell_type": "code",
   "execution_count": 70,
   "metadata": {},
   "outputs": [
    {
     "data": {
      "text/plain": [
       "dict_keys(['0.5ps', '1.5ps', '1ps', '2.5ps', '2ps'])"
      ]
     },
     "execution_count": 70,
     "metadata": {},
     "output_type": "execute_result"
    }
   ],
   "source": [
    "profile.keys()"
   ]
  },
  {
   "cell_type": "code",
   "execution_count": null,
   "metadata": {},
   "outputs": [],
   "source": []
  }
 ],
 "metadata": {
  "kernelspec": {
   "display_name": "Python 3",
   "language": "python",
   "name": "python3"
  },
  "language_info": {
   "codemirror_mode": {
    "name": "ipython",
    "version": 3
   },
   "file_extension": ".py",
   "mimetype": "text/x-python",
   "name": "python",
   "nbconvert_exporter": "python",
   "pygments_lexer": "ipython3",
   "version": "3.8.5"
  }
 },
 "nbformat": 4,
 "nbformat_minor": 4
}
