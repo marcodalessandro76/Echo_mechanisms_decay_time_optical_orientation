{
 "cells": [
  {
   "cell_type": "code",
   "execution_count": 1,
   "metadata": {},
   "outputs": [],
   "source": [
    "import numpy as np\n",
    "import matplotlib.pyplot as plt\n",
    "from scipy import integrate as I"
   ]
  },
  {
   "cell_type": "markdown",
   "metadata": {},
   "source": [
    "# Time evolution of the density matrix during the pump"
   ]
  },
  {
   "cell_type": "markdown",
   "metadata": {},
   "source": [
    "We analyze the time evolution of both $\\rho_{cvk}$ and $\\rho_{cc'k}$ when the  pump is active.\n",
    "\n",
    "To perform this analysis we consider a sinusoidal pump $Esin(\\omega_0 t)$ activated at $t=0$."
   ]
  },
  {
   "cell_type": "markdown",
   "metadata": {},
   "source": [
    "## Analysis of $\\rho_{cvk}$ at one-photon level"
   ]
  },
  {
   "cell_type": "markdown",
   "metadata": {},
   "source": [
    "We study the DM in the valence-conduction sector at the leading order in the pump.\n",
    "\n",
    "The EQM at one photon level reads\n",
    "$$\n",
    "\\partial_{t}\\rho_{cvk} + i\\Omega_{cvk}\\rho_{cvk} = F^0_{cvk}(t)\n",
    "$$\n",
    "where\n",
    "$$\n",
    "F^0_{cvk}(t) = id_{cvk}E sin(\\omega_0t) = iA_{cvk}sin(\\omega_0t)\n",
    "$$\n",
    "Here $\\Omega_{cvk} = \\Delta\\epsilon_{cvk} - i\\eta_{cv}$ and we parametrize the energy difference\n",
    "between valence and conduction states as \n",
    "$$\n",
    "\\Delta\\epsilon_{cvk} = \\omega_0+\\delta_{cvk}\n",
    "$$\n",
    "The EQM admits the solution (with initial condition $\\rho_{cvk}(0) = 0$) of the form\n",
    "$$\n",
    "\\rho_l(t) = iA_le^{-i\\Omega_lt}\\int_0^t dt'\n",
    "e^{i\\Omega_lt'}sin(\\omega_0t')\n",
    "$$\n",
    "where $l=\\{ckv\\}$ is a compact multi index notation.\n",
    "\n",
    "The integral can be computed both analtycal and with numerical integration, we perform both the analysis."
   ]
  },
  {
   "cell_type": "markdown",
   "metadata": {},
   "source": [
    "### Analytical solution"
   ]
  },
  {
   "cell_type": "markdown",
   "metadata": {},
   "source": [
    "The integrand can be recasted as\n",
    "$$\n",
    "\\frac{1}{2i}\\left(\n",
    "e^{i(2\\omega_0+\\delta_l)t'}-e^{i\\delta_lt'}\n",
    "\\right)e^{\\eta_{cv}t'}\n",
    "$$\n",
    "The first addend is a _fast oscillating term_ and its contribution should be small after the time integral so we \n",
    "neglect it. The integral of the second one provides\n",
    "$$\n",
    "-\\frac{1}{2i}\\frac{1}{i\\delta_l+\\eta_cv}\\left(\n",
    "e^{(i\\delta_l+\\eta_{cv})t} -1\n",
    "\\right)\n",
    "$$\n",
    "So the solution for the DM reads\n",
    "$$\n",
    "\\rho_l(t) = -\\frac{A_l}{2}\\frac{1}{i\\delta_l+\\eta_{cv}}\n",
    "\\left(e^{-i\\omega_0 t} -e^{-i\\Omega_lt}\n",
    "\\right)\n",
    "$$\n",
    "In the long time regime the second addend is suppressed by the damping $\\eta_{cv}$ so the $\\rho_l$ shows\n",
    "an undumped oscillatory behavior with the frequency of the pump."
   ]
  },
  {
   "cell_type": "code",
   "execution_count": 54,
   "metadata": {},
   "outputs": [
    {
     "name": "stdout",
     "output_type": "stream",
     "text": [
      "0.006077069792872049 0.36269838639376023\n"
     ]
    }
   ],
   "source": [
    "from mppi import Utilities as U\n",
    "\n",
    "eta_ev = 0.004 # damping parameter in eV\n",
    "e0 = 1.5 # pump energy in eV\n",
    "delta = 0. # detuning of the cv transition \n",
    "A = 1 # field intensity times the transition dipole\n",
    "\n",
    "# we convert these parameters in fs\n",
    "hcut = U.Planck_ev_ps*1e3/(2*np.pi) # reduced Planck ev * fs\n",
    "\n",
    "eta = eta_ev/hcut\n",
    "omega0 = e0/hcut\n",
    "print(eta,omega0/(2*np.pi))"
   ]
  },
  {
   "cell_type": "code",
   "execution_count": 55,
   "metadata": {},
   "outputs": [],
   "source": [
    "sim_time = 2000 # in fs,\n",
    "time = np.arange(0.,sim_time,0.2)"
   ]
  },
  {
   "cell_type": "code",
   "execution_count": 56,
   "metadata": {},
   "outputs": [],
   "source": [
    "def rhocv(t,omega0,A=1,delta=0,eta=0):\n",
    "    f1 = - A/2*1/(1j*delta+eta)\n",
    "    f2 = np.exp(-1j*omega0*t) - np.exp(-1j*(omega0+delta)*t)*np.exp(-eta*t)\n",
    "    res = f1*f2\n",
    "    return np.real(res),np.imag(res)"
   ]
  },
  {
   "cell_type": "code",
   "execution_count": 57,
   "metadata": {},
   "outputs": [
    {
     "data": {
      "text/plain": [
       "<matplotlib.legend.Legend at 0x7f68c9343e80>"
      ]
     },
     "execution_count": 57,
     "metadata": {},
     "output_type": "execute_result"
    },
    {
     "data": {
      "image/png": "[encoded data removed]",
      "text/plain": [
       "<Figure size 432x288 with 1 Axes>"
      ]
     },
     "metadata": {},
     "output_type": "display_data"
    }
   ],
   "source": [
    "rho_val = rhocv(time,omega0,eta=eta,delta=delta)\n",
    "plt.plot(time,rho_val[0],label='real')\n",
    "plt.plot(time,rho_val[1],label='imag')\n",
    "plt.legend()"
   ]
  },
  {
   "cell_type": "markdown",
   "metadata": {},
   "source": [
    "### Numerical solution"
   ]
  },
  {
   "cell_type": "code",
   "execution_count": 58,
   "metadata": {},
   "outputs": [],
   "source": [
    "def integrand(t,omega0,delta=0,eta=0):\n",
    "    re = np.exp(eta*t)*np.cos((omega0+delta)*t)*np.sin(omega0*t)\n",
    "    im = np.exp(eta*t)*np.sin((omega0+delta)*t)*np.sin(omega0*t)\n",
    "    return re,im\n",
    "\n",
    "def integral(time,omega0,delta=0,eta=0):\n",
    "    re_inte = [0.]\n",
    "    im_inte = [0.]\n",
    "    for ind in range(1,len(time)):\n",
    "        re_inte.append(I.simps(y=integrand(time[0:ind],omega0,delta=delta,eta=eta)[0],x=time[0:ind]))\n",
    "        im_inte.append(I.simps(y=integrand(time[0:ind],omega0,delta=delta,eta=eta)[1],x=time[0:ind]))\n",
    "    inte = np.array(re_inte)+1j*np.array(im_inte)\n",
    "    return inte\n",
    "\n",
    "def rhocv_numerical(time,omega0,A=1,delta=0,eta=0):\n",
    "    inte = integral(time,omega0,delta=delta,eta=eta)\n",
    "    prefactor = 1j*A*np.exp((-1j*(omega0+delta)-eta)*time)\n",
    "    res = prefactor*inte\n",
    "    return np.real(res),np.imag(res)"
   ]
  },
  {
   "cell_type": "code",
   "execution_count": 59,
   "metadata": {},
   "outputs": [
    {
     "data": {
      "text/plain": [
       "<matplotlib.legend.Legend at 0x7f68c8eb1b38>"
      ]
     },
     "execution_count": 59,
     "metadata": {},
     "output_type": "execute_result"
    },
    {
     "data": {
      "image/png": "[encoded data removed]",
      "text/plain": [
       "<Figure size 432x288 with 1 Axes>"
      ]
     },
     "metadata": {},
     "output_type": "display_data"
    }
   ],
   "source": [
    "rhoval_num = rhocv_numerical(time,omega0,eta=eta,delta=delta)\n",
    "plt.plot(time,rhoval_num[0],label='real')\n",
    "plt.plot(time,rhoval_num[1],label='imag')\n",
    "plt.legend()"
   ]
  },
  {
   "cell_type": "markdown",
   "metadata": {},
   "source": [
    "## Analysis of $\\rho_{cc'k}$ at two-photon level"
   ]
  },
  {
   "cell_type": "markdown",
   "metadata": {},
   "source": [
    "We analyze the equation of the $\\rho_{cc'k}$ components at the second order in the pulse intensity. \n",
    "\n",
    "In particular we want to check if the source term can produce terms that couples\n",
    "to the natural frequency $\\Delta\\epsilon_{cc'k}$ of these modes.\n",
    "\n",
    "The EQM for $\\rho_{cc'k}$ can be rewritten as\n",
    "$$\n",
    "\\partial_{t}\\rho_{cc'k} + i\\Omega_{cc'k}\\rho_{cc'k} = F^1_{cc'k}(t)\n",
    "$$\n",
    "where $\\Omega_{cc'k} = \\Delta\\epsilon_{cc'k} - i\\eta_{cc'}$ and the source term is given by\n",
    "$$\n",
    "F^1_{cc'k}(t) = -i\\mathbf{E}(t)\\cdot \\sum_{v}(\\mathbf{d}_{cvk}\\rho^{(1)}_{vc'k}(t)\n",
    "-\\mathbf{d}_{vc'k}\\rho^{(1)}_{cvk}(t))\n",
    "$$"
   ]
  },
  {
   "cell_type": "markdown",
   "metadata": {},
   "source": [
    "We further analyze the structure of the source by considering only one valence band and the \n",
    "sinusoidal pump, so that\n",
    "$$\n",
    "F^1_{cc'k}(t) = -i sin(\\omega_0t)\\left(A_{cvk}\\rho^{(1)}_{vc'k}(t)\n",
    "-A_{vc'k}\\rho^{(1)}_{cvk}(t)\\right)\n",
    "$$"
   ]
  },
  {
   "cell_type": "code",
   "execution_count": null,
   "metadata": {},
   "outputs": [],
   "source": []
  },
  {
   "cell_type": "code",
   "execution_count": null,
   "metadata": {},
   "outputs": [],
   "source": []
  },
  {
   "cell_type": "code",
   "execution_count": null,
   "metadata": {},
   "outputs": [],
   "source": []
  },
  {
   "cell_type": "code",
   "execution_count": null,
   "metadata": {},
   "outputs": [],
   "source": []
  },
  {
   "cell_type": "code",
   "execution_count": null,
   "metadata": {},
   "outputs": [],
   "source": []
  },
  {
   "cell_type": "code",
   "execution_count": null,
   "metadata": {},
   "outputs": [],
   "source": []
  },
  {
   "cell_type": "code",
   "execution_count": null,
   "metadata": {},
   "outputs": [],
   "source": []
  }
 ],
 "metadata": {
  "kernelspec": {
   "display_name": "Python 3",
   "language": "python",
   "name": "python3"
  },
  "language_info": {
   "codemirror_mode": {
    "name": "ipython",
    "version": 3
   },
   "file_extension": ".py",
   "mimetype": "text/x-python",
   "name": "python",
   "nbconvert_exporter": "python",
   "pygments_lexer": "ipython3",
   "version": "3.6.9"
  }
 },
 "nbformat": 4,
 "nbformat_minor": 4
}
