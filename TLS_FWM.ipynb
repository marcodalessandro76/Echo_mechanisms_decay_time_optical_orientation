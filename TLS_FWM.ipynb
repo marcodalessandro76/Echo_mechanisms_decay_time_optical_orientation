{
 "cells": [
  {
   "cell_type": "markdown",
   "metadata": {},
   "source": [
    "# Four wave mixing (FWM) and perturbative analysis "
   ]
  },
  {
   "cell_type": "markdown",
   "metadata": {},
   "source": [
    "We reformulate the Bloch equations to perform a perturbative analysis. In this way we can realize a photon\n",
    "echo that does not require $\\pi$ fields.\n",
    "\n",
    "In this analysis we consider a two pulses configuration. The pulses are delayed and we assume that no\n",
    "overlap between the pulses is present. We study the component of the polarization that is linear in the first pulse\n",
    "and quadratic in the second one and show that this component possesses a term that produce an echo mechanism."
   ]
  },
  {
   "cell_type": "markdown",
   "metadata": {},
   "source": [
    "First, we set up the basic equation of the TLS.\n",
    "\n",
    "In the present case the state $|1\\rangle$ is the ground state and $|2\\rangle$ is the excited state, so that the GS Hamiltonian is written as \n",
    "$$\n",
    "H_0 = -\\frac{1}{2}\\omega_0 \\sigma_z \\, , \n",
    "$$\n",
    "The EQM for the density matrix read\n",
    "$$\n",
    "i \\dot{\\rho}_{11} = H^I_{12}\\rho_{21} - H^I_{21}\\rho_{12} \\\\\n",
    "i \\dot{\\rho}_{22} = H^I_{21}\\rho_{12} - H^I_{12}\\rho_{21} \\\\\n",
    "i \\dot{\\rho}_{12} = -\\omega_0\\rho_{12} + H^I_{12}(\\rho_{22}-\\rho_{11}) \\\\\n",
    "i \\dot{\\rho}_{21} = \\omega_0\\rho_{21} - H^I_{21}(\\rho_{22}-\\rho_{11})\n",
    "$$\n"
   ]
  },
  {
   "cell_type": "markdown",
   "metadata": {},
   "source": [
    "We describe the system in terms of _polarization_ and of the _inversion_ variables defined as\n",
    "$$\n",
    "p = \\rho_{12} \\, , \\quad I=\\rho_{11}-\\rho_{22} \\, , \\quad H_I = H^{I}_{12}\n",
    "$$\n",
    "In terms of these variables the EQM for the density matrix read\n",
    "$$\n",
    "\\dot{p} = i\\omega_0 p +i H_I I \\\\\n",
    "\\dot{I} = -2i\\left(H_Ip^*-H_I^*p\\right)\n",
    "$$"
   ]
  },
  {
   "cell_type": "markdown",
   "metadata": {},
   "source": [
    "The interaction hamiltonian is parametrized as a sine oscillating function times a slow envelope, as follows\n",
    "$$\n",
    "H_I = - \\Omega(t) sin(\\omega t)\n",
    "$$\n",
    "The RWA can be used if we are interested in probing the system with energy of the pump not very different from the energy gap of the system, that is if we introduce the energy shift $\\delta$ as\n",
    "$$\n",
    "\\omega = \\omega_0 + \\delta\n",
    "$$\n",
    "where the condition $\\delta \\ll \\omega_0$ is sastisfied. \n",
    "This fact allows us to introduce the rotating wave approximation. To understand this point consider that, for instance, the \n",
    "generic solution for $p$ can be written as\n",
    "\n",
    "We observe that, assuming the the inversion $I$ is known, the polarization admits the formal solution\n",
    "$$\n",
    "p =  p_0e^{i\\omega_0t} -i e^{i\\omega_0t}\\int_{0}^{t}dt'e^{-i\\omega_0t'}\\Omega(t')sin(\\omega t')\n",
    "I(t')\n",
    "$$\n",
    "\n",
    "Due to the presence of the factor $e^{-i\\omega_0 t'}$ in the integral the sine can be splitted into complex exponentials and only the\n",
    "addend $e^{i\\omega t'}$ gives relevant contributions since the fast oscillating terms cancel. So the interaction matrix element in the RWA\n",
    "reads\n",
    "$$\n",
    "H_I = \\frac{i}{2} \\Omega(t)e^{i\\omega t}\n",
    "$$\n",
    "Accordingly the EQM are expressed as\n",
    "$$\n",
    "\\dot{p} = i\\omega_0 p -\\frac{1}{2}\\Omega e^{i\\omega t} I \\\\\n",
    "\\dot{I} = \\Omega e^{i\\omega t}p^* +\\Omega^* e^{-i\\omega t}p\n",
    "$$"
   ]
  },
  {
   "cell_type": "markdown",
   "metadata": {},
   "source": [
    "Finally is it possible to move in the rotating frame (RF) where the fast oscillating terms are absent. In this notation\n",
    "the change of variables to the RF is\n",
    "$$\n",
    "p' = e^{-i\\omega t}p \\, , \\quad I' = I\n",
    "$$\n",
    "In this frame the EQM are\n",
    "$$\n",
    "\\dot{p}' = -i\\delta p' -\\frac{1}{2}\\Omega I' \\\\\n",
    "\\dot{I}' = \\Omega p'^* +\\Omega^* p'\n",
    "$$\n"
   ]
  },
  {
   "cell_type": "markdown",
   "metadata": {},
   "source": [
    "## Perturbative analysis. Analytical solution"
   ]
  },
  {
   "cell_type": "markdown",
   "metadata": {},
   "source": [
    "We discuss the perturbative analysis of the double pulse configuration. \n",
    "The solution is presented in the RF and the prime over the variables is omitted.\n",
    "\n",
    "In order to present an analytical solution we consider square shaped pulses (with no overlapping in time).\n",
    "\n",
    "The pulses time profile is defined as:\n",
    "\n",
    "* The first pulse of amplitude $A_1$ and width $w_1$ starts at $t=-\\tau$\n",
    "* The second pulse of amplitude $A_2$ and width $w_2$ starts at $t=0$, so that there\n",
    "  is a time interval of lenght $\\tau-w_1$ of free evolution between the two pulses "
   ]
  },
  {
   "cell_type": "markdown",
   "metadata": {},
   "source": [
    "__First order solution in $A_1$__"
   ]
  },
  {
   "cell_type": "markdown",
   "metadata": {},
   "source": [
    "The system is in the GS before the first pulse, so $p(-\\tau) = p_0 = 0$ and $I(-\\tau) = I_0 = 1$.\n",
    "\n",
    "At the first order we have that $\\dot{I} = 0$ so the inversion is constant during the action of the first field, so\n",
    "$$\n",
    "I(t) = 1 \\, , \\quad -\\tau < t < -\\tau+w_1\n",
    "$$\n",
    "The first order solution for the polarization depends on the first order constant value of the inversion and the formal solution reads\n",
    "$$\n",
    "p(t) = e^{-i\\delta t}p_0 -\\frac{A_1}{2}e^{-i\\delta t}\\int_{-\\tau}^{-\\tau+w_1}dt'e^{i\\delta t'}\n",
    "$$\n",
    "and since $p_0=0$ the polarization at the end of the first pulse reads\n",
    "$$\n",
    "p(-\\tau+w_1) = \\frac{i A_1}{2\\delta}e^{-i\\delta\\tau}\\left(e^{i\\delta w_1}-1\\right)\n",
    "$$\n",
    "We observe that the the phase $e^{-i\\delta\\tau}$ depends only on the choice of the starting point of the evolution\n",
    "and is probably unphysical and we reabsorb in the definition of the polarization.\n",
    "\n",
    "Moreover if the product $\\delta w_1$ is small (short pulse duration and/or small detuning $\\delta$) that the exponential \n",
    "can be expanded at the first order, the polarization can be simplified as\n",
    "$$\n",
    "p(-\\tau+w_1) \\sim p(-\\tau) = -\\frac{A_1 w_1}{2} = - \\frac{\\theta_1}{2}\n",
    "$$\n"
   ]
  },
  {
   "cell_type": "markdown",
   "metadata": {},
   "source": [
    "__Free evolution up to $t=0$__"
   ]
  },
  {
   "cell_type": "markdown",
   "metadata": {},
   "source": [
    "From $t=-\\tau+w_1$ up to $t=0$ the system evolves freely. The inversion remains constant and the polarization \n",
    "evolves as\n",
    "$$\n",
    "p(t) = p(-\\tau+w_1)e^{-i\\delta(t+\\tau-w_1)}\n",
    "$$\n",
    "In the limit discussed above of short pulse and small detuning the polarization can be expressed as\n",
    "$$\n",
    "p(t) = -\\frac{\\theta_1}{2}e^{-i\\delta(t+\\tau)}\n",
    "$$\n",
    "This expression evidence that the polarization, that is independent from $\\theta$ at the end ot the pulse,\n",
    "_i.e._ at $t=-\\tau$ gain a $\\delta$ dependent phase due to the free time evolution."
   ]
  },
  {
   "cell_type": "markdown",
   "metadata": {},
   "source": [
    "__Second order solution in $A_2$__"
   ]
  },
  {
   "cell_type": "markdown",
   "metadata": {},
   "source": [
    "The second order contribution to the polarization is generated by considering the first order inversion as source term.\n",
    "\n",
    "The first order solution for the inversion is expressed as\n",
    "$$\n",
    "I(t) = -\\frac{A_2\\theta_1}{2}\\int_0^{t}dt'\n",
    "\\left(e^{-i\\delta(\\tau+t')}+e^{i\\delta(\\tau+t')}\\right)\n",
    "$$\n",
    "This solution extends up to $t=w_2$ and assuming that $\\delta w_2$ is small\n",
    "we can approximate the integral as\n",
    "$$\n",
    "\\int_0^t dt' e^{i\\delta t'} \\simeq \\frac{sin(\\delta t)}{\\delta}\n",
    "\\simeq t\n",
    "$$\n",
    "so that\n",
    "$$\n",
    "I(t) = -\\frac{\\theta_1 A_2 t}{2}\n",
    "\\left(e^{-i\\delta\\tau}+e^{i\\delta\\tau}\\right) =\n",
    "I_-(t)+I_{+}(t)\n",
    "$$\n",
    "The second order polarization is expressed as\n",
    "$$\n",
    "p(t) = -\\frac{\\theta_1}{2}e^{-i\\delta(t+\\tau)} -\n",
    "\\frac{A_2}{2}e^{-i\\delta t}\\int_{0}^{t}dt'e^{i\\delta t'}\n",
    "\\left(I_-(t')+I_+(t')\\right)\n",
    "$$\n",
    "Using the previous approximation for $\\delta t$, the terms that contains  $I_-$ and $I_+$ provide\n",
    "$$\n",
    "\\frac{\\theta_1 A_2^2}{8}e^{\\pm i\\delta\\tau}t^2\n",
    "$$\n",
    "so that the complete polarization up to the second order in $A_2$ at $t=w_2$ is given by\n",
    "$$\n",
    "p(w_2) = -\\frac{\\theta_1}{2}e^{-i\\delta\\tau}+\n",
    "\\frac{\\theta_1 \\theta_2^2}{8}e^{\\pm i\\delta\\tau}\n",
    "$$"
   ]
  },
  {
   "cell_type": "markdown",
   "metadata": {},
   "source": [
    "__Free evolution__"
   ]
  },
  {
   "cell_type": "markdown",
   "metadata": {},
   "source": [
    "We propagate the polarization up to time $t$ in absence of external fields. \n",
    "\n",
    "This provides\n",
    "$$\n",
    "p(t) = -\\frac{\\theta_1}{2}e^{-i\\delta(t+\\tau)}+\n",
    "\\frac{\\theta_1 \\theta_2^2}{8}\\left(e^{-i\\delta(t+\\tau)}\n",
    "+e^{-i\\delta(t-\\tau)} \\right)\n",
    "$$\n",
    "we observe that the term proportional to $e^{-i\\delta(t-\\tau)}$ gives rise to an echo mechanism\n",
    "at $t=\\tau$. Since the amplitude of the polarization at the end of the first pulse is given by\n",
    "$\\theta_1/2$ we expect that the echo signal efficency is given by $\\theta_2^2/4$."
   ]
  },
  {
   "cell_type": "markdown",
   "metadata": {},
   "source": [
    "## Perturbative analysis. Numerical solution"
   ]
  },
  {
   "cell_type": "code",
   "execution_count": null,
   "metadata": {},
   "outputs": [],
   "source": []
  },
  {
   "cell_type": "code",
   "execution_count": null,
   "metadata": {},
   "outputs": [],
   "source": []
  },
  {
   "cell_type": "code",
   "execution_count": null,
   "metadata": {},
   "outputs": [],
   "source": []
  },
  {
   "cell_type": "code",
   "execution_count": null,
   "metadata": {},
   "outputs": [],
   "source": []
  },
  {
   "cell_type": "code",
   "execution_count": null,
   "metadata": {},
   "outputs": [],
   "source": []
  }
 ],
 "metadata": {
  "kernelspec": {
   "display_name": "Python 3",
   "language": "python",
   "name": "python3"
  },
  "language_info": {
   "codemirror_mode": {
    "name": "ipython",
    "version": 3
   },
   "file_extension": ".py",
   "mimetype": "text/x-python",
   "name": "python",
   "nbconvert_exporter": "python",
   "pygments_lexer": "ipython3",
   "version": "3.8.5"
  }
 },
 "nbformat": 4,
 "nbformat_minor": 4
}
