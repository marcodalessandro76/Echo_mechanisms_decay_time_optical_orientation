{
 "cells": [
  {
   "cell_type": "code",
   "execution_count": 1,
   "metadata": {},
   "outputs": [],
   "source": [
    "# useful to autoreload the module without restarting the kernel\n",
    "%load_ext autoreload\n",
    "%autoreload 2"
   ]
  },
  {
   "cell_type": "code",
   "execution_count": 2,
   "metadata": {},
   "outputs": [],
   "source": [
    "from mppi import InputFiles as I, Calculators as C, Datasets as D, Utilities as U, Parsers as P\n",
    "import matplotlib.pyplot as plt\n",
    "import numpy as np"
   ]
  },
  {
   "cell_type": "code",
   "execution_count": 3,
   "metadata": {},
   "outputs": [],
   "source": [
    "omp = 1\n",
    "mpi_run = 'mpirun -np 8'"
   ]
  },
  {
   "cell_type": "markdown",
   "metadata": {},
   "source": [
    "# DFT analysis of GaAs"
   ]
  },
  {
   "cell_type": "markdown",
   "metadata": {},
   "source": [
    "This notebook contains the analysis of the GaAs performed with QuantumESPRESSO for the construction\n",
    "of the band structure used in the TD analysis."
   ]
  },
  {
   "cell_type": "markdown",
   "metadata": {},
   "source": [
    "## Construction of the GS"
   ]
  },
  {
   "cell_type": "markdown",
   "metadata": {},
   "source": [
    "The GS is built using the _converged_ parameters previously obtained, in particular"
   ]
  },
  {
   "cell_type": "code",
   "execution_count": 4,
   "metadata": {},
   "outputs": [],
   "source": [
    "ecut_conv = 80\n",
    "k_conv = 6\n",
    "lat_eq = 10.475"
   ]
  },
  {
   "cell_type": "code",
   "execution_count": 5,
   "metadata": {},
   "outputs": [],
   "source": [
    "run_dir = 'GS'\n",
    "name = 'GS_input'"
   ]
  },
  {
   "cell_type": "code",
   "execution_count": 6,
   "metadata": {},
   "outputs": [
    {
     "data": {
      "text/plain": [
       "{'control': {'calculation': \"'scf'\",\n",
       "  'verbosity': \"'high'\",\n",
       "  'prefix': \"'GS_input'\",\n",
       "  'pseudo_dir': \"'../pseudos'\"},\n",
       " 'system': {'force_symmorphic': '.true.',\n",
       "  'ibrav': 2,\n",
       "  'celldm(1)': 10.475,\n",
       "  'occupations': \"'fixed'\",\n",
       "  'ntyp': '2',\n",
       "  'nat': '2',\n",
       "  'lspinorb': '.true.',\n",
       "  'noncolin': '.true.',\n",
       "  'ecutwfc': 80},\n",
       " 'electrons': {'conv_thr': 1e-06, 'diago_full_acc': '.false.'},\n",
       " 'ions': {},\n",
       " 'cell': {},\n",
       " 'atomic_species': {'Ga': ['1.0', 'Ga_rel.pz-rrkj3.UPF'],\n",
       "  'As': ['1.0', 'As_rel.pz-rrkj3.UPF']},\n",
       " 'atomic_positions': {'type': 'alat',\n",
       "  'values': [['Ga', [0.0, 0.0, 0.0]], ['As', [0.25, 0.25, 0.25]]]},\n",
       " 'kpoints': {'type': 'automatic', 'values': ([6, 6, 6], [0.0, 0.0, 0.0])},\n",
       " 'cell_parameters': {}}"
      ]
     },
     "execution_count": 6,
     "metadata": {},
     "output_type": "execute_result"
    }
   ],
   "source": [
    "inp = I.PwInput()\n",
    "inp.set_scf(force_symmorphic=True,conv_thr=1e-6)\n",
    "inp.set_prefix(name)\n",
    "inp.set_pseudo_dir(pseudo_dir='../pseudos')\n",
    "inp.set_lattice(2,celldm1=lat_eq)\n",
    "inp.set_occupations(occupations='fixed')\n",
    "inp.add_atom('Ga','Ga_rel.pz-rrkj3.UPF')\n",
    "inp.add_atom('As','As_rel.pz-rrkj3.UPF')\n",
    "inp.set_atoms_number(2)\n",
    "inp.set_spinorbit()\n",
    "inp.set_atomic_positions([['Ga',[0.,0.,0.]],['As',[0.25,0.25,0.25]]],type='alat')\n",
    "inp.set_energy_cutoff(ecut_conv)\n",
    "inp.set_kpoints(points=[k_conv,k_conv,k_conv])\n",
    "inp"
   ]
  },
  {
   "cell_type": "code",
   "execution_count": 7,
   "metadata": {},
   "outputs": [
    {
     "name": "stdout",
     "output_type": "stream",
     "text": [
      "Initialize a parallel QuantumESPRESSO calculator with scheduler direct\n"
     ]
    }
   ],
   "source": [
    "code = C.QeCalculator(omp=omp,mpi_run=mpi_run,skip=True)"
   ]
  },
  {
   "cell_type": "code",
   "execution_count": 8,
   "metadata": {},
   "outputs": [
    {
     "name": "stdout",
     "output_type": "stream",
     "text": [
      "Skip the computation for input GS_input\n",
      "Job completed\n"
     ]
    }
   ],
   "source": [
    "result = code.run(inputs=[inp],names=['GS_input'],run_dir=run_dir)"
   ]
  },
  {
   "cell_type": "markdown",
   "metadata": {},
   "source": [
    "## Calculation of empty bands"
   ]
  },
  {
   "cell_type": "markdown",
   "metadata": {},
   "source": [
    "We build the empty bands associated to specific $k$ points. In particular"
   ]
  },
  {
   "cell_type": "code",
   "execution_count": 9,
   "metadata": {},
   "outputs": [],
   "source": [
    "kmax = [[-0.0247738, 0.00762269, 0.02365302,1.0]],4.36  # Correspond to the fastest cc' oscillation of period 4.36 ps\n",
    "kmed = [[-0.01655783, 0.00728803, 0.02452443,1.0]],6.86 # Correspond to the a 'medium' cc' oscillation with 0.602 meV\n",
    "klist = [kmax,kmed]"
   ]
  },
  {
   "cell_type": "code",
   "execution_count": 10,
   "metadata": {},
   "outputs": [],
   "source": [
    "run_dir = 'NSCF'\n",
    "source_dir = 'GS_convergence/gs_converged.save'\n",
    "num_bands = 16"
   ]
  },
  {
   "cell_type": "code",
   "execution_count": 11,
   "metadata": {},
   "outputs": [],
   "source": [
    "inp.set_nscf(num_bands,force_symmorphic=True,conv_thr=1e-6)"
   ]
  },
  {
   "cell_type": "code",
   "execution_count": 12,
   "metadata": {},
   "outputs": [],
   "source": [
    "nscf = D.Dataset(run_dir=run_dir)"
   ]
  },
  {
   "cell_type": "code",
   "execution_count": 13,
   "metadata": {},
   "outputs": [],
   "source": [
    "for k in klist:\n",
    "    idd = {'bnds' : num_bands, 'T' : k[1]}\n",
    "    inp.set_kpoints(type='tpiba',klist=k[0])\n",
    "    inp.set_prefix(D.name_from_id(idd))\n",
    "    nscf.append_run(id=idd,input=inp,runner=code,source_dir = 'GS/GS_input.save')"
   ]
  },
  {
   "cell_type": "code",
   "execution_count": 14,
   "metadata": {},
   "outputs": [],
   "source": [
    "nscf.set_postprocessing_function(D.QE_parse_data)"
   ]
  },
  {
   "cell_type": "code",
   "execution_count": 15,
   "metadata": {},
   "outputs": [
    {
     "name": "stdout",
     "output_type": "stream",
     "text": [
      "The folder NSCF/T_4.36-bnds_16.save already exsists. Source folder GS/GS_input.save not copied\n",
      "The folder NSCF/T_6.86-bnds_16.save already exsists. Source folder GS/GS_input.save not copied\n",
      "Skip the computation for input T_4.36-bnds_16\n",
      "Skip the computation for input T_6.86-bnds_16\n",
      "Job completed\n"
     ]
    }
   ],
   "source": [
    "results = nscf.run()"
   ]
  },
  {
   "cell_type": "markdown",
   "metadata": {},
   "source": [
    "We compute the period associated to the $cc'$ transition for the two cases"
   ]
  },
  {
   "cell_type": "code",
   "execution_count": 16,
   "metadata": {},
   "outputs": [],
   "source": [
    "demax = results[0].get_transitions(initial=[8,9],final=[8,9])\n",
    "demed = results[1].get_transitions(initial=[8,9],final=[8,9])"
   ]
  },
  {
   "cell_type": "code",
   "execution_count": 17,
   "metadata": {},
   "outputs": [
    {
     "data": {
      "text/plain": [
       "0.9491628167177524"
      ]
     },
     "execution_count": 17,
     "metadata": {},
     "output_type": "execute_result"
    }
   ],
   "source": [
    "1e3*demax[0][0]"
   ]
  },
  {
   "cell_type": "code",
   "execution_count": 18,
   "metadata": {},
   "outputs": [
    {
     "data": {
      "text/plain": [
       "4.357174157223441"
      ]
     },
     "execution_count": 18,
     "metadata": {},
     "output_type": "execute_result"
    }
   ],
   "source": [
    "U.Planck_ev_ps/demax[0][0]"
   ]
  },
  {
   "cell_type": "code",
   "execution_count": 19,
   "metadata": {},
   "outputs": [
    {
     "data": {
      "text/plain": [
       "6.857733945082544"
      ]
     },
     "execution_count": 19,
     "metadata": {},
     "output_type": "execute_result"
    }
   ],
   "source": [
    "U.Planck_ev_ps/demed[0][0]"
   ]
  },
  {
   "cell_type": "markdown",
   "metadata": {},
   "source": [
    "both expressed in ps."
   ]
  },
  {
   "cell_type": "markdown",
   "metadata": {},
   "source": [
    "We use these bands to study the oscillation of the degree of spin polarization when \n",
    "the system is subject to a laser pump. We compute the energy of the $c \\rightarrow v$\n",
    "transitions assciated to the light and heavy holes. We add the scissor previously\n",
    "computed (the set gap cannot be used since the $\\Gamma$ point is not present\n",
    "in the $k$-points list)"
   ]
  },
  {
   "cell_type": "code",
   "execution_count": 20,
   "metadata": {},
   "outputs": [],
   "source": [
    "scissor = 0.545\n",
    "tcv_max = results[0].get_transitions(initial=[4,5,6,7],final=[8,9])[0] + scissor\n",
    "tcv_med = results[1].get_transitions(initial=[4,5,6,7],final=[8,9])[0] + scissor"
   ]
  },
  {
   "cell_type": "code",
   "execution_count": 21,
   "metadata": {},
   "outputs": [
    {
     "data": {
      "text/plain": [
       "array([1.60788224, 1.6088314 , 1.60528452, 1.60623368, 1.53077349,\n",
       "       1.53172265, 1.53059458, 1.53154374])"
      ]
     },
     "execution_count": 21,
     "metadata": {},
     "output_type": "execute_result"
    }
   ],
   "source": [
    "tcv_max"
   ]
  },
  {
   "cell_type": "code",
   "execution_count": 22,
   "metadata": {},
   "outputs": [
    {
     "data": {
      "text/plain": [
       "array([1.56638245, 1.56698552, 1.56482034, 1.56542341, 1.50650793,\n",
       "       1.50711099, 1.50639341, 1.50699647])"
      ]
     },
     "execution_count": 22,
     "metadata": {},
     "output_type": "execute_result"
    }
   ],
   "source": [
    "tcv_med"
   ]
  },
  {
   "cell_type": "markdown",
   "metadata": {},
   "source": [
    "In what follows we decide to set\n",
    "* $\\omega_{pump}$ = 1.531 for kmax\n",
    "* $\\omega_{pump}$ = 1.506 for kmed\n",
    "\n",
    "so that the pump is resonant with transitions from highest valence bands (6,7) \n",
    "to the conduction bands (8,9)."
   ]
  },
  {
   "cell_type": "code",
   "execution_count": null,
   "metadata": {},
   "outputs": [],
   "source": []
  },
  {
   "cell_type": "code",
   "execution_count": null,
   "metadata": {},
   "outputs": [],
   "source": []
  },
  {
   "cell_type": "code",
   "execution_count": null,
   "metadata": {},
   "outputs": [],
   "source": []
  },
  {
   "cell_type": "code",
   "execution_count": null,
   "metadata": {},
   "outputs": [],
   "source": []
  },
  {
   "cell_type": "code",
   "execution_count": null,
   "metadata": {},
   "outputs": [],
   "source": []
  }
 ],
 "metadata": {
  "kernelspec": {
   "display_name": "Python 3",
   "language": "python",
   "name": "python3"
  },
  "language_info": {
   "codemirror_mode": {
    "name": "ipython",
    "version": 3
   },
   "file_extension": ".py",
   "mimetype": "text/x-python",
   "name": "python",
   "nbconvert_exporter": "python",
   "pygments_lexer": "ipython3",
   "version": "3.6.9"
  }
 },
 "nbformat": 4,
 "nbformat_minor": 4
}
