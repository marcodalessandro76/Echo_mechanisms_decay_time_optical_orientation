{
 "cells": [
  {
   "cell_type": "code",
   "execution_count": null,
   "metadata": {},
   "outputs": [],
   "source": []
  },
  {
   "cell_type": "markdown",
   "metadata": {},
   "source": [
    "# Free induction decay and echo mechanism in a two level system"
   ]
  },
  {
   "cell_type": "markdown",
   "metadata": {},
   "source": [
    "This analysis follows the topics covered in the chapter 27 _Semiconductor Bloch equations_ of the 2012 Spinger book on Semicondutor Optics.\n",
    "\n",
    "We consider a two level system (TLS) that can be a model for both transitions among atomic states attivated by an optical pump\n",
    "or for a magnetic spin 1/2 state in presence of a magnetic field (with constant and time dependent components). Using the language of\n",
    "the magnetic systems we write the hamiltonian of the model as (set the Bohr magneton to 1)\n",
    "$$\n",
    "H = -\\frac{1}{2}\\mathbf{B\\cdot \\sigma}\n",
    "$$\n",
    "so for constant magnetic field the minimum energy configuration is realized when the spin is aligned to the field.\n",
    "\n",
    "In the present analysis we choose the model magnetic system as \n",
    "$$\n",
    "\\mathbf{B} = (\\omega_R cos(\\omega t),-\\omega_R sin(\\omega t),\\omega_0)\n",
    "$$ \n",
    "this field contains a constant component in the $z$ direction (that gives rise to the energy gap between the states in the transition picture \n",
    "of the TLS) and a clockwise rotating field of magnitude $\\omega_R$ and frequence $\\omega$ in the $x-y$ plane. The $\\omega_R$ parameter\n",
    "represent the _Rabi frequency_ and is equal to the product of the intensity of the electric field times the transition dipole in the optical\n",
    "pump picture of the TLS."
   ]
  },
  {
   "cell_type": "markdown",
   "metadata": {},
   "source": [
    "We are interested in the EOM for the magnetization $\\mathbf{S} = \\langle \\mathbf{\\sigma} \\rangle$. Using the Hesinberg EOM and\n",
    "the fundamental relation of the Pauli matrices we can write the EOM for the magnetization as the _Bloch equations_\n",
    "$$\n",
    "\\dot{S_i} = -\\frac{1}{2}(\\mathbf{B}\\wedge \\mathbf{S})_i\n",
    "$$\n",
    "and eventually we can add an explicit damping term to this equation."
   ]
  },
  {
   "cell_type": "markdown",
   "metadata": {},
   "source": [
    "## Time evolution of states"
   ]
  },
  {
   "cell_type": "markdown",
   "metadata": {},
   "source": [
    "We analyze the Schroedinger equation associated the model hamiltonian. \n",
    "\n",
    "$$\n",
    "i\\left(\\begin{array}{c}\n",
    "\\dot{c}_1\\\\\n",
    "\\dot{c}_2\\\\\n",
    "\\end{array} \\right) = -\\frac{1}{2}\n",
    "\\left(\\begin{array}{cc}\n",
    "\\omega_0 & \\omega_R e^{i\\omega t}\\\\\n",
    "\\omega_R e^{-i\\omega t} & -\\omega_0\\\\\n",
    "\\end{array} \\right)\n",
    "\\left(\\begin{array}{c}\n",
    "c_1\\\\\n",
    "c_2\\\\\n",
    "\\end{array} \\right) \n",
    "$$"
   ]
  },
  {
   "cell_type": "markdown",
   "metadata": {},
   "source": [
    "and we parametrize the elements of the state vector as\n",
    "$$\n",
    "c_1 = e^{i\\omega_0/2 t}a_1 \\, , \\qquad \n",
    "c_2 = e^{-i\\omega_0/2 t}a_2\n",
    "$$\n",
    "The functions $a_1$ and $a_2$ satisfy the equations\n",
    "$$\n",
    "\\dot{a}_1 = \\frac{i}{2} \\omega_R e^{i\\omega t}e^{-i\\omega_0 t} a_2 \\, , \\quad\n",
    "\\dot{a}_2 = \\frac{i}{2} \\omega_R e^{-i\\omega t}e^{i\\omega_0 t} a_1\n",
    "$$\n",
    "We assume that the frequency of the oscillating magnetic field is close to $\\omega_0$ and we introduce the\n",
    "detuning parameter $\\delta$\n",
    "$$\n",
    "\\delta = \\omega - \\omega_0\n",
    "$$\n",
    "so the EOM for $a_1$ and $a_2$ reduce to\n",
    "$$\n",
    "\\dot{a}_1 = \\frac{i}{2} \\omega_R e^{i\\delta t} a_2 \\, , \\quad\n",
    "\\dot{a}_2 = \\frac{i}{2} \\omega_R e^{-i\\delta t} a_1\n",
    "$$\n",
    "and can be recasted as single second order equation, with the structure of a damped harmonic oscillator\n",
    "$$\n",
    "\\ddot{a}_1 - i\\delta\\dot{a}_1 - \\left(\\frac{\\omega_R}{2}\\right)^2 a_1 = 0\n",
    "$$"
   ]
  },
  {
   "cell_type": "markdown",
   "metadata": {},
   "source": [
    "## Dynamics of the magnetization"
   ]
  },
  {
   "cell_type": "markdown",
   "metadata": {},
   "source": [
    "We can express the expectation values of the components of the magnetization as\n",
    "$$\n",
    "S_1 = c_1^*c_2 + c_2^*c1 = 2Re(P) \\\\\n",
    "S_2 = -ic_1^*c_2 + ic_2^*c1 = 2Im(P) \\\\\n",
    "S_3 = |c_1|^2-|c_2|^2 = - I(t)\n",
    "$$\n",
    "where we have introduced the _polarization_ $P=c_1^*c_2$ and the _inversion_\n",
    "$I =  |c_2|^2-|c_1|^2$ variables.\n",
    "\n",
    "For the subsequent analysis it is useful to derive the EOM for $P$ and $I$,starting from the\n",
    "equations for the components of the state vector. \n",
    "Using the definition of the new variables we obtain for the polarization:\n",
    "$$\n",
    "\\dot{P} = \\frac{d}{dt}(e^{-i\\omega_0 t}a_1^*a_2) =\n",
    "-i\\omega_0 P - \\frac{i}{2}\\omega_R e^{-i(\\omega_0+delta)t}a_2^* a_2\n",
    "+\\frac{i}{2}\\omega_R e^{-i(\\omega_0+delta)t}a_1^* a_1 = \\\\ = \n",
    "-i\\omega_0 P - \\frac{i}{2}\\omega_R e^{-i\\omega t}(a_2^* a_2\n",
    "-a_1^* a_1)\n",
    "$$\n",
    "and for the inversion\n",
    "$$\n",
    "\\dot{I} = \\frac{d}{dt}(a_2^* a_2 - a_1^* a_1) = \n",
    "i\\omega_R e^{-i\\omega t} P^* - i\\omega_R e^{i\\omega t} P\n",
    "$$\n",
    "So the equations for $P$ and $I$ read\n",
    "$$\n",
    "\\dot{P} + i\\omega_0 P = -\\frac{i}{2}\\omega_R e^{-i\\omega t} I \\\\\n",
    "\\dot{I} = i(\\omega_R e^{-i\\omega t} P^* - c.c) = -2\\omega_R Im(e^{-i\\omega t}P^*)\n",
    "$$"
   ]
  },
  {
   "cell_type": "markdown",
   "metadata": {},
   "source": [
    "We observe that the modulus of the magnetization can be expressed as\n",
    "$$\n",
    "|S|^2 = 4|P|^2+I^2\n",
    "$$\n",
    "and acording to the EOM for $P$ and $I$ this quantity is conserved. "
   ]
  },
  {
   "cell_type": "markdown",
   "metadata": {},
   "source": [
    "We consider two particular solutions"
   ]
  },
  {
   "cell_type": "markdown",
   "metadata": {},
   "source": [
    "### Zero oscillating field $\\omega_R = 0$. _Larmor precession_"
   ]
  },
  {
   "cell_type": "markdown",
   "metadata": {},
   "source": [
    "In this case the EOM for the polarization and inversion decouple and their solution read\n",
    "$$\n",
    "P = P_0 e^{-i\\omega_0 t} \\\\\n",
    "I = I_0\n",
    "$$"
   ]
  },
  {
   "cell_type": "markdown",
   "metadata": {},
   "source": [
    "We choose an initial condition for the magnetization of the form $S_0 = (s_0,0,1-s_0^2)$, where $s_0$ is real and lower than 1.\n",
    "According to this we have $P_0 = s_0/2$ and $I_0 = s_0^2-1$. The time dynamics of the magnetization in this case\n",
    "is expressed as\n",
    "$$\n",
    "S = (s_0 cos(\\omega_0 t), -s_0 sin(\\omega_0 t), 1-s_0^2)\n",
    "$$\n",
    "This is the _Larmor precession_, the $x-y$ components of the magnetization precess around the static magnetic field along\n",
    "the $z$ axis with frequence $\\omega_0$."
   ]
  },
  {
   "cell_type": "markdown",
   "metadata": {},
   "source": [
    "### Oscillation at resonance ($\\omega = \\omega_0$)"
   ]
  },
  {
   "cell_type": "markdown",
   "metadata": {},
   "source": [
    "We analyze the dynamics when the frequency of the oscillating field matches exactly the energy difference of the \n",
    "spin up and spin down states.\n",
    "\n",
    "We can write the general solutions of the equation for the polarization, considering the inversion as the source term.\n",
    "We have\n",
    "$$\n",
    "P = A_0 e^{-i\\omega_0 t} -  \\frac{i}{2}\\omega_R e^{-i\\omega_0 t}\\int_{t_0}^t dt'\n",
    "e^{i\\omega_0 t'}e^{-i\\omega t'}I(t')\n",
    "$$"
   ]
  },
  {
   "cell_type": "markdown",
   "metadata": {},
   "source": [
    "In the present case $\\omega = \\omega_0$, moreover we choose $S_0 = (0,0,1)$ at $t=0$, so $P_0 = 0,I_0=-1$.\n",
    "The solution for the polarization is\n",
    "$$\n",
    "P = -  \\frac{i}{2}\\omega_R e^{-i\\omega_0 t}\\int_{0}^t dt'I(t')\n",
    "$$"
   ]
  },
  {
   "cell_type": "markdown",
   "metadata": {},
   "source": [
    "Plugging this solution in the equation for the inversion provides\n",
    "$$\n",
    "\\dot{I} = -\\omega_R^2 \\int_{0}^t dt'I(t')\n",
    "$$"
   ]
  },
  {
   "cell_type": "markdown",
   "metadata": {},
   "source": [
    "The solution with the correct boundary condition is $I = - cos(\\omega_R t)$. The solution for the polarization can be directly computed\n",
    "and reads\n",
    "$$\n",
    "P = \\frac{i}{2}e^{-i\\omega_0 t}sin(\\omega_R t) = \\frac{1}{2}\n",
    "\\left(sin(\\omega_0 t) + i cos(\\omega_0 t)\\right) sin(\\omega_R t)\n",
    "$$"
   ]
  },
  {
   "cell_type": "markdown",
   "metadata": {},
   "source": [
    "Finally the expression for the magnetization is derived\n",
    "$$\n",
    "S = (sin(\\omega_0 t)sin(\\omega_R t),cos(\\omega_0 t)sin(\\omega_R t),cos(\\omega_R t))\n",
    "$$"
   ]
  },
  {
   "cell_type": "markdown",
   "metadata": {},
   "source": [
    "we observe that in this case the trasverse components precess around $z$ with frequence $\\omega_0$ but\n",
    "at the same time the $z$ component oscillates around the +1 and the -1 state with frequency $\\omega_R$.\n",
    "The magnetization perform a spiral from the north to south pole and vice versa (_Rabi flopping_)."
   ]
  },
  {
   "cell_type": "code",
   "execution_count": null,
   "metadata": {},
   "outputs": [],
   "source": []
  },
  {
   "cell_type": "code",
   "execution_count": null,
   "metadata": {},
   "outputs": [],
   "source": []
  },
  {
   "cell_type": "code",
   "execution_count": null,
   "metadata": {},
   "outputs": [],
   "source": []
  },
  {
   "cell_type": "code",
   "execution_count": null,
   "metadata": {},
   "outputs": [],
   "source": []
  },
  {
   "cell_type": "code",
   "execution_count": null,
   "metadata": {},
   "outputs": [],
   "source": []
  },
  {
   "cell_type": "code",
   "execution_count": null,
   "metadata": {},
   "outputs": [],
   "source": []
  },
  {
   "cell_type": "code",
   "execution_count": null,
   "metadata": {},
   "outputs": [],
   "source": []
  }
 ],
 "metadata": {
  "kernelspec": {
   "display_name": "Python 3",
   "language": "python",
   "name": "python3"
  },
  "language_info": {
   "codemirror_mode": {
    "name": "ipython",
    "version": 3
   },
   "file_extension": ".py",
   "mimetype": "text/x-python",
   "name": "python",
   "nbconvert_exporter": "python",
   "pygments_lexer": "ipython3",
   "version": "3.6.9"
  }
 },
 "nbformat": 4,
 "nbformat_minor": 4
}
