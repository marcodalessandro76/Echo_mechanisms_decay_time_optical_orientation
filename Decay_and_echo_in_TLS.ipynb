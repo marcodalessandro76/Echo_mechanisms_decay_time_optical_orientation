{
 "cells": [
  {
   "cell_type": "code",
   "execution_count": 1,
   "metadata": {},
   "outputs": [],
   "source": [
    "import numpy as np\n",
    "import matplotlib.pyplot as plt\n",
    "import random as rand"
   ]
  },
  {
   "cell_type": "markdown",
   "metadata": {},
   "source": [
    "# Free induction decay and echo mechanism in a two level system"
   ]
  },
  {
   "cell_type": "markdown",
   "metadata": {},
   "source": [
    "This analysis follows the topics covered in the chapter 27 _Semiconductor Bloch equations_ of the 2012 Spinger book on Semicondutor Optics.\n",
    "\n",
    "We consider a two level system (TLS) that can be a model for both transitions among atomic states attivated by an optical pump\n",
    "or for a magnetic spin 1/2 state in presence of a magnetic field (with constant and time dependent components). Using the language of\n",
    "the magnetic systems we write the hamiltonian of the model as (set the Bohr magneton to 1)\n",
    "$$\n",
    "H = -\\frac{1}{2}\\mathbf{B\\cdot \\sigma}\n",
    "$$\n",
    "so for constant magnetic field the minimum energy configuration is realized when the spin is aligned to the field.\n",
    "\n",
    "In the present analysis we choose the model magnetic system as \n",
    "$$\n",
    "\\mathbf{B} = (\\omega_R cos(\\omega t),-\\omega_R sin(\\omega t),\\omega_0)\n",
    "$$ \n",
    "this field contains a constant component in the $z$ direction (that gives rise to the energy gap between the states in the transition picture \n",
    "of the TLS) and a clockwise rotating field of magnitude $\\omega_R$ and frequence $\\omega$ in the $x-y$ plane. The $\\omega_R$ parameter\n",
    "represent the _Rabi frequency_ and is equal to the product of the intensity of the electric field times the transition dipole in the optical\n",
    "pump picture of the TLS."
   ]
  },
  {
   "cell_type": "markdown",
   "metadata": {},
   "source": [
    "We are interested in the EOM for the magnetization $\\mathbf{S} = \\langle \\mathbf{\\sigma} \\rangle$. Using the Hesinberg EOM and\n",
    "the fundamental relation of the Pauli matrices we can write the EOM for the magnetization as the _Bloch equations_\n",
    "$$\n",
    "\\dot{S_i} = -\\frac{1}{2}(\\mathbf{B}\\wedge \\mathbf{S})_i\n",
    "$$\n",
    "and eventually we can add an explicit damping term to this equation."
   ]
  },
  {
   "cell_type": "markdown",
   "metadata": {},
   "source": [
    "## Time evolution of states"
   ]
  },
  {
   "cell_type": "markdown",
   "metadata": {},
   "source": [
    "We analyze the Schroedinger equation associated the model hamiltonian. \n",
    "\n",
    "$$\n",
    "i\\left(\\begin{array}{c}\n",
    "\\dot{c}_1\\\\\n",
    "\\dot{c}_2\\\\\n",
    "\\end{array} \\right) = -\\frac{1}{2}\n",
    "\\left(\\begin{array}{cc}\n",
    "\\omega_0 & \\omega_R e^{i\\omega t}\\\\\n",
    "\\omega_R e^{-i\\omega t} & -\\omega_0\\\\\n",
    "\\end{array} \\right)\n",
    "\\left(\\begin{array}{c}\n",
    "c_1\\\\\n",
    "c_2\\\\\n",
    "\\end{array} \\right) \n",
    "$$"
   ]
  },
  {
   "cell_type": "markdown",
   "metadata": {},
   "source": [
    "and we parametrize the elements of the state vector as\n",
    "$$\n",
    "c_1 = e^{i\\omega_0/2 t}a_1 \\, , \\qquad \n",
    "c_2 = e^{-i\\omega_0/2 t}a_2\n",
    "$$\n",
    "The functions $a_1$ and $a_2$ satisfy the equations\n",
    "$$\n",
    "\\dot{a}_1 = \\frac{i}{2} \\omega_R e^{i\\omega t}e^{-i\\omega_0 t} a_2 \\, , \\quad\n",
    "\\dot{a}_2 = \\frac{i}{2} \\omega_R e^{-i\\omega t}e^{i\\omega_0 t} a_1\n",
    "$$\n",
    "We assume that the frequency of the oscillating magnetic field is close to $\\omega_0$ and we introduce the\n",
    "detuning parameter $\\delta$\n",
    "$$\n",
    "\\delta = \\omega - \\omega_0\n",
    "$$\n",
    "so the EOM for $a_1$ and $a_2$ reduce to\n",
    "$$\n",
    "\\dot{a}_1 = \\frac{i}{2} \\omega_R e^{i\\delta t} a_2 \\, , \\quad\n",
    "\\dot{a}_2 = \\frac{i}{2} \\omega_R e^{-i\\delta t} a_1\n",
    "$$\n",
    "and can be recasted as single second order equation, with the structure of a damped harmonic oscillator\n",
    "$$\n",
    "\\ddot{a}_1 - i\\delta\\dot{a}_1 - \\left(\\frac{\\omega_R}{2}\\right)^2 a_1 = 0\n",
    "$$"
   ]
  },
  {
   "cell_type": "markdown",
   "metadata": {},
   "source": [
    "## Dynamics of the magnetization"
   ]
  },
  {
   "cell_type": "markdown",
   "metadata": {},
   "source": [
    "We can express the expectation values of the components of the magnetization as\n",
    "$$\n",
    "S_1 = c_1^*c_2 + c_2^*c1 = 2Re(P) \\\\\n",
    "S_2 = -ic_1^*c_2 + ic_2^*c1 = 2Im(P) \\\\\n",
    "S_3 = |c_1|^2-|c_2|^2 = - I(t)\n",
    "$$\n",
    "where we have introduced the _polarization_ $P=c_1^*c_2$ and the _inversion_\n",
    "$I =  |c_2|^2-|c_1|^2$ variables.\n",
    "\n",
    "For the subsequent analysis it is useful to derive the EOM for $P$ and $I$,starting from the\n",
    "equations for the components of the state vector. \n",
    "Using the definition of the new variables we obtain for the polarization:\n",
    "$$\n",
    "\\dot{P} = \\frac{d}{dt}(e^{-i\\omega_0 t}a_1^*a_2) =\n",
    "-i\\omega_0 P - \\frac{i}{2}\\omega_R e^{-i(\\omega_0+\\delta)t}a_2^* a_2\n",
    "+\\frac{i}{2}\\omega_R e^{-i(\\omega_0+\\delta)t}a_1^* a_1 = \\\\ = \n",
    "-i\\omega_0 P - \\frac{i}{2}\\omega_R e^{-i\\omega t}(a_2^* a_2\n",
    "-a_1^* a_1)\n",
    "$$\n",
    "and for the inversion\n",
    "$$\n",
    "\\dot{I} = \\frac{d}{dt}(a_2^* a_2 - a_1^* a_1) = \n",
    "i\\omega_R e^{-i\\omega t} P^* - i\\omega_R e^{i\\omega t} P\n",
    "$$\n",
    "So the equations for $P$ and $I$ read\n",
    "$$\n",
    "\\dot{P} + i\\omega_0 P = -\\frac{i}{2}\\omega_R e^{-i\\omega t} I \\\\\n",
    "\\dot{I} = i(\\omega_R e^{-i\\omega t} P^* - c.c) = -2\\omega_R Im(e^{-i\\omega t}P^*)\n",
    "$$"
   ]
  },
  {
   "cell_type": "markdown",
   "metadata": {},
   "source": [
    "We observe that the modulus of the magnetization can be expressed as\n",
    "$$\n",
    "|S|^2 = 4|P|^2+I^2\n",
    "$$\n",
    "and acording to the EOM for $P$ and $I$ this quantity is conserved. "
   ]
  },
  {
   "cell_type": "markdown",
   "metadata": {},
   "source": [
    "We consider two particular solutions"
   ]
  },
  {
   "cell_type": "markdown",
   "metadata": {},
   "source": [
    "### Zero oscillating field $\\omega_R = 0$. _Larmor precession_"
   ]
  },
  {
   "cell_type": "markdown",
   "metadata": {},
   "source": [
    "In this case the EOM for the polarization and inversion decouple and their solution read\n",
    "$$\n",
    "P = P_0 e^{-i\\omega_0 t} \\\\\n",
    "I = I_0\n",
    "$$"
   ]
  },
  {
   "cell_type": "markdown",
   "metadata": {},
   "source": [
    "We choose an initial condition for the magnetization of the form $\\mathbf{S}_0 = (s_0,0,1-s_0^2)$, where $s_0$ is real and lower than 1.\n",
    "According to this we have $P_0 = s_0/2$ and $I_0 = s_0^2-1$. The time dynamics of the magnetization in this case\n",
    "is expressed as\n",
    "$$\n",
    "\\mathbf{S} = (s_0 cos(\\omega_0 t), -s_0 sin(\\omega_0 t), 1-s_0^2)\n",
    "$$\n",
    "This is the _Larmor precession_, the $x-y$ components of the magnetization precess around the static magnetic field along\n",
    "the $z$ axis with frequence $\\omega_0$."
   ]
  },
  {
   "cell_type": "markdown",
   "metadata": {},
   "source": [
    "### Oscillation at resonance ($\\omega = \\omega_0$)"
   ]
  },
  {
   "cell_type": "markdown",
   "metadata": {},
   "source": [
    "We analyze the dynamics when the frequency of the oscillating field matches exactly the energy difference of the \n",
    "spin up and spin down states.\n",
    "\n",
    "We can write the general solutions of the equation for the polarization, considering the inversion as the source term.\n",
    "We have\n",
    "$$\n",
    "P = A_0 e^{-i\\omega_0 t} -  \\frac{i}{2}\\omega_R e^{-i\\omega_0 t}\\int_{t_0}^t dt'\n",
    "e^{i\\omega_0 t'}e^{-i\\omega t'}I(t')\n",
    "$$"
   ]
  },
  {
   "cell_type": "markdown",
   "metadata": {},
   "source": [
    "In the present case $\\omega = \\omega_0$, moreover we choose $S_0 = (0,0,1)$ at $t=0$, so $P_0 = 0,I_0=-1$.\n",
    "The solution for the polarization is\n",
    "$$\n",
    "P = -  \\frac{i}{2}\\omega_R e^{-i\\omega_0 t}\\int_{0}^t dt'I(t')\n",
    "$$"
   ]
  },
  {
   "cell_type": "markdown",
   "metadata": {},
   "source": [
    "Plugging this solution in the equation for the inversion provides\n",
    "$$\n",
    "\\dot{I} = -\\omega_R^2 \\int_{0}^t dt'I(t')\n",
    "$$"
   ]
  },
  {
   "cell_type": "markdown",
   "metadata": {},
   "source": [
    "The solution with the correct boundary condition is $I = - cos(\\omega_R t)$. The solution for the polarization can be directly computed\n",
    "and reads\n",
    "$$\n",
    "P = \\frac{i}{2}e^{-i\\omega_0 t}sin(\\omega_R t) = \\frac{1}{2}\n",
    "\\left(sin(\\omega_0 t) + i cos(\\omega_0 t)\\right) sin(\\omega_R t)\n",
    "$$"
   ]
  },
  {
   "cell_type": "markdown",
   "metadata": {},
   "source": [
    "Finally the expression for the magnetization is derived\n",
    "$$\n",
    "\\mathbf{S} = (sin(\\omega_0 t)sin(\\omega_R t),cos(\\omega_0 t)sin(\\omega_R t),cos(\\omega_R t))\n",
    "$$"
   ]
  },
  {
   "cell_type": "markdown",
   "metadata": {},
   "source": [
    "we observe that in this case the trasverse components precess around $z$ with frequence $\\omega_0$ but\n",
    "at the same time the $z$ component oscillates around the +1 and the -1 state with frequency $\\omega_R$.\n",
    "The magnetization perform a spiral from the north to south pole and vice versa (_Rabi flopping_)."
   ]
  },
  {
   "cell_type": "markdown",
   "metadata": {},
   "source": [
    "### Linear response limit"
   ]
  },
  {
   "cell_type": "markdown",
   "metadata": {},
   "source": [
    "We derive the solution in the linear response limit, _i.e._ retaining only the linear terms in $\\omega_R$.\n",
    "\n",
    "The OEM for $P$ and $I$ evidence that $P$ is at least linear in $\\omega_R$ so in the linear response regime\n",
    "the OEM for the inversion is $\\dot{I} = 0$.\n",
    "Like for the case at zero field we choose an initial condition for the magnetization of the form \n",
    "$\\mathbf{S}_0 = (s_0,0,1-s_0^2)$, where $s_0$ is real and lower than 1.\n",
    "According to this we have $P_0 = s_0/2$ and $I=I_0 = s_0^2-1$. \n",
    "The solution for $P$ reads\n",
    "$$\n",
    "P = \\frac{s_0}{2} e^{-i\\omega_0 t} -  \\frac{i}{2}\\omega_R (s_0^2-1)e^{-i\\omega_0 t}\\int_{0}^t dt'\n",
    "e^{-i\\delta t'}\n",
    "$$\n",
    "so that\n",
    "$$\n",
    "P = \\frac{e^{-i\\omega_0 t}}{2}\\left[\n",
    "s_0+\\frac{\\omega_R}{\\delta}(s_0^2-1)\\left(\n",
    "e^{-i\\delta t}-1 \\right)\n",
    "\\right]\n",
    "$$"
   ]
  },
  {
   "cell_type": "code",
   "execution_count": null,
   "metadata": {},
   "outputs": [],
   "source": []
  },
  {
   "cell_type": "markdown",
   "metadata": {},
   "source": [
    "## General solution in the rotating frame"
   ]
  },
  {
   "cell_type": "markdown",
   "metadata": {},
   "source": [
    "We define the Block vector $R$ connected the $x-y$ components of the magnetization by a rotation\n",
    "with frequency $\\omega$.  This construction enables us to write EOM for the Bloch vector that are\n",
    "simpler to analyse w.r.t the one for $\\mathbf{S}$.\n",
    "\n",
    "We collect the $S_1$ and $S_2$ components in the complex form $S = S_1+ i S_2$ and we define $R$ as\n",
    "$$\n",
    "R = S e^{i\\omega t}\n",
    "$$\n",
    "while for the component on the $z$ axis we set $R_3 = S_3 = - I$.\n",
    "\n",
    "Since $S = 2P$ we have that $R = 2P e^{i\\omega t}$, and the EOM for $R$ and $R_3$ can be derived. They read\n",
    "$$\n",
    "\\dot{R} = i \\delta R + i \\omega_R R_3 \\\\\n",
    "\\dot{R}_3 = \\omega_R Im(R^*)\n",
    "$$"
   ]
  },
  {
   "cell_type": "markdown",
   "metadata": {},
   "source": [
    "For what concerns the analysis of the spin echo we are interested in considering the\n",
    "dynamics due to _short_ pulses spaced out by _long_ free oscillations. In this contest we assume that the detuning can be neglected\n",
    "for the time interval in which the pump is active. So we are intersted in writing the solution, using arbitrary initial conditions, in\n",
    "two situations."
   ]
  },
  {
   "cell_type": "markdown",
   "metadata": {},
   "source": [
    "### Pump of lenght $\\tau$"
   ]
  },
  {
   "cell_type": "markdown",
   "metadata": {},
   "source": [
    "In this case we neglect the detuning $\\delta$. It is convenient to split the equations for $R$ into the real and imaginary\n",
    "part since the presence of $Im(R^*)$ break the complex structure. From the first equation we see that \n",
    "$$\n",
    "\\dot{R}_1 = 0\n",
    "$$\n",
    "so that\n",
    "$$\n",
    "R_1(t) = R_1(0)\n",
    "$$"
   ]
  },
  {
   "cell_type": "markdown",
   "metadata": {},
   "source": [
    "Instead the equations for $R_2$ and $R_3$ reduce to\n",
    "$$\n",
    "\\dot{R}_2 = \\omega_R R_3 \\, , \\quad \\dot{R}_3 = -\\omega_R R_2\n",
    "$$"
   ]
  },
  {
   "cell_type": "markdown",
   "metadata": {},
   "source": [
    "that corresponds to a rotation in the $y-z$ plane. The general solution reads"
   ]
  },
  {
   "cell_type": "markdown",
   "metadata": {},
   "source": [
    "$$\n",
    "R_1(t) = R_1(0) \\\\\n",
    "R_2(t) = R_2(0) cos(\\omega_R t) + R_3(0)sin(\\omega_R t) \\\\\n",
    "R_3(t)  = -R_2(0)sin(\\omega_R t) + R_3(0)cos(\\omega_R t)\n",
    "$$"
   ]
  },
  {
   "cell_type": "markdown",
   "metadata": {},
   "source": [
    "### Free oscillations with $\\omega_R = 0$"
   ]
  },
  {
   "cell_type": "markdown",
   "metadata": {},
   "source": [
    "For $\\omega_R = 0$ the system rotates in the $x-y$ plane (Larmor precession). Instead the $R_3$ component is constant, \n",
    "the general solution reads\n",
    "$$\n",
    "R_1(t) = R_1(0)cos(\\delta t) - R_2(0)sin(\\delta t) \\\\\n",
    "R_2(t) = R_1(0)sin(\\delta t) + R_2(0)cos(\\delta t) \\\\\n",
    "R_3(t) = R_3(0)\n",
    "$$"
   ]
  },
  {
   "cell_type": "markdown",
   "metadata": {},
   "source": [
    "## Analysis of the spin echo mechanism"
   ]
  },
  {
   "cell_type": "markdown",
   "metadata": {},
   "source": [
    "We consider an ensemble of uncoupled TLS, one for each $k$ point, each of which with its dephasing $\\delta_k$.\n",
    "We analyze a sequence of pulse and free oscillations that give rises to the spin echo after a specific time.\n",
    "\n",
    "We consider the following sequence of evolution step:"
   ]
  },
  {
   "cell_type": "markdown",
   "metadata": {},
   "source": [
    "__Step 0__\n",
    "\n",
    "The initial configuration is chosen so that $\\mathbf{R}^k = (0,0,1)$ for all the $k$ points.\n",
    "\n",
    "__Step 1__\n",
    "\n",
    "We apply a $\\pi/2$ pulse, i.e. a pulse of lenght $\\tau_1$ such that $\\omega_R \\tau_1 = \\pi/2$.\n",
    "Using the solutions derived above we conclude that at the end of the pulse the Block vectors\n",
    "for all the $k$ points rotate along the $y$ axis, $\\mathbf{R}^k = (0,1,0)$.\n",
    "\n",
    "__Step 2__\n",
    "\n",
    "The system evolves freely for a time $T$, at this time each $k$ point has developed a phase according\n",
    "to its detuning parameter. The Block vectors at time $t$ read $\\mathbf{R}^k = (-sin(\\delta_k t),cos(\\delta_k t),0)$.\n",
    "\n",
    "__Step 3__\n",
    "\n",
    "We apply a $\\pi$ pulse, i.e. a pulse of lenght $\\tau_2$ such that $\\omega_R \\tau_2 = \\pi$. This pulse flips the $R_2$ components\n",
    "but leave $R_1$ and $R_3$ invariant. The Block vectors at the end of the pulse read $\\mathbf{R}^k = (-sin(\\delta_k T),-cos(\\delta_k T),0)$.\n",
    "\n",
    "__Step 4__\n",
    "\n",
    "The system evolves again freely for a time $t$ (counted after the time $T$ of the first pulse). \n",
    "During the evolution the components of the Block vectors are given by\n",
    "$$\n",
    "R^k_1(t) = -sin(\\delta_k T)cos(\\delta_k t) + cos(\\delta_k T)sin(\\delta_k t) \\\\\n",
    "R^k_2(t) = -sin(\\delta_k T)sin(\\delta_k t) - cos(\\delta_k T)cos(\\delta_k t)  \\\\\n",
    "R^k_3(t) = 0\n",
    "$$\n",
    "at $t=T$, that is $2T+\\tau_1+\\tau_2$ after the beginning of the evolution, the Block vectors are again \n",
    "in phase $\\mathbf{R}^k = (0,-1,0)$."
   ]
  },
  {
   "cell_type": "markdown",
   "metadata": {},
   "source": [
    "We can follow the time dynamics of $R_1$ and $R_2$ (averaged over $k$) according to this sequence of evolution step.\n",
    "\n",
    "At $t=0$ we start with $\\mathbf{R} = (0,0,1)$, then\n",
    "\n",
    " * _$\\pi/2$ pulse:_ $\\mathbf{R}(t) = (0,sin(\\omega_R t),cos(\\omega_R t))$ so that $\\mathbf{R}(\\pi/(2\\omega_R)) = (0,1,0)$ at the end of the pulse.\n",
    " * _Free evolution of length $T$:_ $\\mathbf{R}(t) = \\sum_k (-sin(\\delta_k t),cos(\\delta_k t),0)$\n",
    " * _$\\pi$ pulse:_ $\\mathbf{R}(t) = \\sum_k (-sin(\\delta_k T),cos(\\delta_k T)cos(\\omega_R t),-cos(\\delta_k T)sin(\\omega_R t))$. At the end of the pulse\n",
    "  $\\mathbf{R}$ has the same component $R_1$ while the $R_2$ one has changed sign:\n",
    "  \n",
    "  $\\mathbf{R}(T) = \\sum_k (-sin(\\delta_k T),-cos(\\delta_k T),0)$.\n",
    "\n",
    "* _Free evolution of length $T$:_ the components of the Block vector are given by\n",
    "   $$\n",
    "R_1(t) =\\sum_k(-sin(\\delta_k T)cos(\\delta_k t) + cos(\\delta_k T)sin(\\delta_k t)) \\\\\n",
    "R_2(t) = \\sum_k(-sin(\\delta_k T)sin(\\delta_k t) - cos(\\delta_k T)cos(\\delta_k t))  \\\\\n",
    "R_3(t) = 0\n",
    "$$\n",
    "at $t=T$, that is $2T+\\tau_1+\\tau_2$ after the beginning of the evolution, all the Block vectors are again \n",
    "in phase $\\mathbf{R} = (0,-1,0)$."
   ]
  },
  {
   "cell_type": "markdown",
   "metadata": {},
   "source": [
    "## Numerical analysis"
   ]
  },
  {
   "cell_type": "markdown",
   "metadata": {},
   "source": [
    "We build the time intervals for the various step. We set the value of $\\omega_R$ and the\n",
    "time resolution"
   ]
  },
  {
   "cell_type": "code",
   "execution_count": 9,
   "metadata": {},
   "outputs": [],
   "source": [
    "omegaR = 1\n",
    "dt = 0.01\n",
    "\n",
    "tau1 = np.pi/(2*omegaR) # length of the first pump\n",
    "T1 = 10 # length of the first free evolution\n",
    "tau2 = np.pi/omegaR # length of the second pump\n",
    "T2 = 20 # length of the second free evolution"
   ]
  },
  {
   "cell_type": "markdown",
   "metadata": {},
   "source": [
    "We build the arrays with the values of time for each evolution (each starting from zero)"
   ]
  },
  {
   "cell_type": "code",
   "execution_count": 10,
   "metadata": {},
   "outputs": [],
   "source": [
    "time1 = np.linspace(0,tau1,int(tau1/dt))\n",
    "time2 = np.linspace(0,T1,int(T1/dt))\n",
    "time3 = np.linspace(0,tau2,int(tau2/dt))\n",
    "time4 = np.linspace(0,T2,int(T2/dt))"
   ]
  },
  {
   "cell_type": "code",
   "execution_count": 11,
   "metadata": {},
   "outputs": [],
   "source": [
    "def Rk_pulse(R0,omegaR,t):\n",
    "    R1 = R0[0]+0*t\n",
    "    R2 = R0[1]*np.cos(omegaR*t)+R0[2]*np.sin(omegaR*t)\n",
    "    R3 = -R0[1]*np.sin(omegaR*t)+R0[2]*np.cos(omegaR*t)\n",
    "    return (R1,R2,R3)\n",
    "\n",
    "def Rk_free(R0,delta,t):\n",
    "    R1 = R0[0]*np.cos(delta*t)-R0[1]*np.sin(delta*t)\n",
    "    R2 = R0[0]*np.sin(delta*t)+R0[1]*np.cos(delta*t)\n",
    "    R3 = R0[2] + 0*t\n",
    "    return (R1,R2,R3)"
   ]
  },
  {
   "cell_type": "markdown",
   "metadata": {},
   "source": [
    "Generate the detuning using random numbers in a given range"
   ]
  },
  {
   "cell_type": "code",
   "execution_count": 12,
   "metadata": {},
   "outputs": [],
   "source": [
    "num_delta = 1000\n",
    "delta_range = 4\n",
    "deltas = []\n",
    "for i in range(num_delta):\n",
    "    deltas.append(delta_range*(rand.random()-0.5))"
   ]
  },
  {
   "cell_type": "code",
   "execution_count": 13,
   "metadata": {},
   "outputs": [],
   "source": [
    "#deltas = [0.7]"
   ]
  },
  {
   "cell_type": "markdown",
   "metadata": {},
   "source": [
    "Analysis of the global signal in presence of the echo pump"
   ]
  },
  {
   "cell_type": "code",
   "execution_count": 14,
   "metadata": {},
   "outputs": [],
   "source": [
    "time_tot = np.concatenate((time1,tau1+time2,tau1+T1+time3,tau1+T1+tau2+time4))\n",
    "\n",
    "R1 = np.zeros(len(time_tot))\n",
    "R2 = np.zeros(len(time_tot))\n",
    "R3 = np.zeros(len(time_tot))\n",
    "\n",
    "for delta in deltas:\n",
    "    R0_step1 = [0,0,1]\n",
    "    Rk_pulse1 = Rk_pulse(R0_step1,omegaR,time1)\n",
    "    R0_step2 = [Rk_pulse1[0][-1],Rk_pulse1[1][-1],Rk_pulse1[2][-1]] \n",
    "    Rk_free1 = Rk_free(R0_step2,delta,time2)\n",
    "    R0_step3 = [Rk_free1[0][-1],Rk_free1[1][-1],Rk_free1[2][-1]]\n",
    "    Rk_pulse2 = Rk_pulse(R0_step3,omegaR,time3)\n",
    "    R0_step4 = [Rk_pulse2[0][-1],Rk_pulse2[1][-1],Rk_pulse2[2][-1]]\n",
    "    Rk_free2 = Rk_free(R0_step4,delta,time4)\n",
    "\n",
    "    R1 += np.concatenate((Rk_pulse1[0],Rk_free1[0],Rk_pulse2[0],Rk_free2[0]))\n",
    "    R2 += np.concatenate((Rk_pulse1[1],Rk_free1[1],Rk_pulse2[1],Rk_free2[1]))\n",
    "    R3 += np.concatenate((Rk_pulse1[2],Rk_free1[2],Rk_pulse2[2],Rk_free2[2]))\n",
    "\n",
    "R1 = R1/len(deltas)\n",
    "R2 = R2/len(deltas)\n",
    "R3 = R3/len(deltas)"
   ]
  },
  {
   "cell_type": "code",
   "execution_count": 15,
   "metadata": {},
   "outputs": [
    {
     "data": {
      "text/plain": [
       "<matplotlib.legend.Legend at 0x7f0b43d231d0>"
      ]
     },
     "execution_count": 15,
     "metadata": {},
     "output_type": "execute_result"
    },
    {
     "data": {
      "image/png": "[encoded data removed]",
      "text/plain": [
       "<Figure size 720x504 with 1 Axes>"
      ]
     },
     "metadata": {},
     "output_type": "display_data"
    }
   ],
   "source": [
    "fig = plt.figure(figsize=(10, 7)) \n",
    "\n",
    "plt.plot(time_tot,R1,label='R1')\n",
    "plt.plot(time_tot,R2,label='R2')\n",
    "plt.plot(time_tot,R3,label='R3')\n",
    "plt.axvspan(0,tau1, alpha=0.5, color='gray')\n",
    "plt.axvspan(tau1+T1,tau1+T1+tau2, alpha=0.5, color='gray')\n",
    "plt.annotate('', xy=(tau1,-0.5), xytext=(tau1+T1,-0.5), arrowprops=dict(arrowstyle='<->'),size=16)\n",
    "plt.annotate('', xy=(tau1+T1+tau2,-0.5), xytext=(tau1+T1+tau2+T1,-0.5), arrowprops=dict(arrowstyle='<->'),size=16)\n",
    "plt.text(tau1+T1/2,-0.6,'T1',size=16)\n",
    "plt.text(tau1+T1+tau2+T1/2,-0.6,'T1',size=16)\n",
    "plt.vlines(tau1+T1+tau2+T1,-1.2,1.2,linestyles='--')\n",
    "plt.ylim(-1.1,1.1)\n",
    "plt.legend()"
   ]
  },
  {
   "cell_type": "code",
   "execution_count": null,
   "metadata": {},
   "outputs": [],
   "source": []
  },
  {
   "cell_type": "code",
   "execution_count": null,
   "metadata": {},
   "outputs": [],
   "source": []
  },
  {
   "cell_type": "code",
   "execution_count": null,
   "metadata": {},
   "outputs": [],
   "source": []
  }
 ],
 "metadata": {
  "kernelspec": {
   "display_name": "Python 3",
   "language": "python",
   "name": "python3"
  },
  "language_info": {
   "codemirror_mode": {
    "name": "ipython",
    "version": 3
   },
   "file_extension": ".py",
   "mimetype": "text/x-python",
   "name": "python",
   "nbconvert_exporter": "python",
   "pygments_lexer": "ipython3",
   "version": "3.6.9"
  }
 },
 "nbformat": 4,
 "nbformat_minor": 4
}
