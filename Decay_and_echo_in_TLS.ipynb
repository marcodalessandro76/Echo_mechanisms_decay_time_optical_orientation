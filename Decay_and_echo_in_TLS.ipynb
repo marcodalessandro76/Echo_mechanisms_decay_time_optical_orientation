{
 "cells": [
  {
   "cell_type": "code",
   "execution_count": null,
   "metadata": {},
   "outputs": [],
   "source": []
  },
  {
   "cell_type": "markdown",
   "metadata": {},
   "source": [
    "# Free induction decay and echo mechanism in a two level system"
   ]
  },
  {
   "cell_type": "markdown",
   "metadata": {},
   "source": [
    "This analysis follows the topics covered in the chapter 27 _Semiconductor Bloch equations_ of the 2012 Spinger book on Semicondutor Optics.\n",
    "\n",
    "We consider a two level system (TLS) that can be a model for both transitions among atomic states attivated by an optical pump\n",
    "or for a magnetic spin 1/2 state in presence of a magnetic field (with constant and time dependent components). Using the language of\n",
    "the magnetic systems we write the hamiltonian of the model as (set the Bohr magneton to 1)\n",
    "$$\n",
    "H = \\mathbf{B\\cdot \\sigma}\n",
    "$$\n",
    "We choose the model magnetic system as $\\mathbf{B} = (Acos(\\omega t),-Asin(\\omega t),\\delta/2)$ so that there is a constant component\n",
    "in the $z$ direction (that gives rise to the energy gap between the states in the transition picture of the TLS) and a clockwise rotating\n",
    "field of magnitude A and frequence $\\omega$ in the $x-y$ plane.\n",
    "\n",
    "We are interested in the EOM for the magnetization $\\mathbf{S} = \\langle \\mathbf{\\sigma} \\rangle$. Using the Hesinberg EOM and\n",
    "the fundamental relation of the Pauli matrices we have\n",
    "$$\n",
    "\\dot{S_i} = (\\mathbf{B}\\wedge \\mathbf{S})_i\n",
    "$$\n",
    "and eventually we can add an explicit damping term to this equation."
   ]
  },
  {
   "cell_type": "markdown",
   "metadata": {},
   "source": [
    "....study this equation in the Schroedinger picture with the up and down components of the state ket....."
   ]
  },
  {
   "cell_type": "code",
   "execution_count": null,
   "metadata": {},
   "outputs": [],
   "source": []
  }
 ],
 "metadata": {
  "kernelspec": {
   "display_name": "Python 3",
   "language": "python",
   "name": "python3"
  },
  "language_info": {
   "codemirror_mode": {
    "name": "ipython",
    "version": 3
   },
   "file_extension": ".py",
   "mimetype": "text/x-python",
   "name": "python",
   "nbconvert_exporter": "python",
   "pygments_lexer": "ipython3",
   "version": "3.6.9"
  }
 },
 "nbformat": 4,
 "nbformat_minor": 4
}
